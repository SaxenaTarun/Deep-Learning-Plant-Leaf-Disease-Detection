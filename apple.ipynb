{
 "cells": [
  {
   "cell_type": "code",
   "execution_count": 22,
   "id": "7cfa78f1",
   "metadata": {},
   "outputs": [],
   "source": [
    "import numpy as np\n",
    "import pandas as pd\n",
    "import os, sys\n",
    "from IPython.display import display\n",
    "from IPython.display import Image as _Imgdis\n",
    "from PIL import Image\n",
    "\n",
    "import cv2\n",
    "import glob\n",
    "import numpy as np"
   ]
  },
  {
   "cell_type": "code",
   "execution_count": 23,
   "id": "610dafe7",
   "metadata": {
    "tags": [
     "outputPrepend"
    ]
   },
   "outputs": [
    {
     "output_type": "stream",
     "name": "stdout",
     "text": [
      "ple___Apple_scab/f2391b26-b388-4ffc-b735-9b8d859d1ffa___FREC_Scab 3312_270deg.JPG\n",
      "/Users/tarun/plant/PlantDataset/train/Apple___Apple_scab/f9e4b1bc-36b0-40df-bb48-4e6ed48ec8b5___FREC_Scab 3514_new30degFlipLR.JPG\n",
      "/Users/tarun/plant/PlantDataset/train/Apple___Apple_scab/276ed34e-9987-4b38-b83b-8626504fc204___FREC_Scab 3050_90deg.JPG\n",
      "/Users/tarun/plant/PlantDataset/train/Apple___Apple_scab/d72cdbbd-7982-4198-8bf7-a053ed69bba1___FREC_Scab 3529.JPG\n",
      "/Users/tarun/plant/PlantDataset/train/Apple___Apple_scab/8455ff58-ba10-44ee-abfc-0055cf6f0449___FREC_Scab 3135_90deg.JPG\n",
      "/Users/tarun/plant/PlantDataset/train/Apple___Apple_scab/80870a3d-e028-47c6-9548-cef00d68be2c___FREC_Scab 3469_90deg.JPG\n",
      "/Users/tarun/plant/PlantDataset/train/Apple___Apple_scab/5fcb921d-3329-443c-a708-37c3943f5493___FREC_Scab 2987.JPG\n",
      "/Users/tarun/plant/PlantDataset/train/Apple___Apple_scab/0b1e31fa-cbc0-41ed-9139-c794e6855e82___FREC_Scab 3089_new30degFlipLR.JPG\n",
      "/Users/tarun/plant/PlantDataset/train/Apple___Apple_scab/4442b558-4db4-4de3-82c3-7524b59bb315___FREC_Scab 2961_90deg.JPG\n",
      "/Users/tarun/plant/PlantDataset/train/Apple___Apple_scab/470bece4-7eb2-4ec1-917a-278559afe463___FREC_Scab 3250_270deg.JPG\n",
      "/Users/tarun/plant/PlantDataset/train/Apple___Apple_scab/84671985-6989-4451-b61d-c32dda7d7c5f___FREC_Scab 3379.JPG\n",
      "/Users/tarun/plant/PlantDataset/train/Apple___Apple_scab/7be1e0a3-01d0-40c3-9628-f69952550267___FREC_Scab 3263_270deg.JPG\n",
      "/Users/tarun/plant/PlantDataset/train/Apple___Apple_scab/74f429dd-0b33-41e1-a689-17f8b62dd614___FREC_Scab 3186_90deg.JPG\n",
      "/Users/tarun/plant/PlantDataset/train/Apple___Apple_scab/eeae3585-0e6e-456c-bbdf-b099b6b4e11c___FREC_Scab 3297_270deg.JPG\n",
      "/Users/tarun/plant/PlantDataset/train/Apple___Apple_scab/dce5b716-54ad-420c-911c-476b838c4be9___FREC_Scab 3045_270deg.JPG\n",
      "/Users/tarun/plant/PlantDataset/train/Apple___Apple_scab/96a26f9f-76b9-456a-b39f-d390ff20bc58___FREC_Scab 3257_90deg.JPG\n",
      "/Users/tarun/plant/PlantDataset/train/Apple___Apple_scab/0b170906-9436-4c0d-84c1-c396ad9d909b___FREC_Scab 3101_270deg.JPG\n",
      "/Users/tarun/plant/PlantDataset/train/Apple___Apple_scab/d608ac35-eaf8-43e2-b429-f9b433126023___FREC_Scab 3386_90deg.JPG\n",
      "/Users/tarun/plant/PlantDataset/train/Apple___Apple_scab/c4a3c215-aa1e-4d1c-b545-1ab2b15812fe___FREC_Scab 2938_90deg.JPG\n",
      "/Users/tarun/plant/PlantDataset/train/Apple___Apple_scab/fb942296-ba33-40e5-ada0-6700365cf71d___FREC_Scab 2919_270deg.JPG\n",
      "/Users/tarun/plant/PlantDataset/train/Apple___Apple_scab/01a66316-0e98-4d3b-a56f-d78752cd043f___FREC_Scab 3003_new30degFlipLR.JPG\n",
      "/Users/tarun/plant/PlantDataset/train/Apple___Apple_scab/1962d1ec-fb66-4583-b631-81cd23ecf063___FREC_Scab 3238.JPG\n",
      "/Users/tarun/plant/PlantDataset/train/Apple___Apple_scab/34c2823b-d1c5-4bd8-a5a7-74bdef959e10___FREC_Scab 3484_new30degFlipLR.JPG\n",
      "/Users/tarun/plant/PlantDataset/train/Apple___Apple_scab/9cbb6419-1670-45d5-a8ad-90cf9eaac971___FREC_Scab 3075_270deg.JPG\n",
      "/Users/tarun/plant/PlantDataset/train/Apple___Apple_scab/154842bb-6ee3-4176-9007-cf7a43cfe140___FREC_Scab 3434_90deg.JPG\n",
      "/Users/tarun/plant/PlantDataset/train/Apple___Apple_scab/d42691a9-d8a5-43f9-b9e6-7a2cd5bc8371___FREC_Scab 3224.JPG\n",
      "/Users/tarun/plant/PlantDataset/train/Apple___Apple_scab/c3cb1c6c-30f6-4fda-9887-eaeb7e071ca9___FREC_Scab 2913_new30degFlipLR.JPG\n",
      "/Users/tarun/plant/PlantDataset/train/Apple___Apple_scab/d8aeb323-17d2-4123-9988-3c2346558bc6___FREC_Scab 2996_90deg.JPG\n",
      "/Users/tarun/plant/PlantDataset/train/Apple___Apple_scab/cff69c82-7901-400a-b45c-6343624edfc3___FREC_Scab 3192.JPG\n",
      "/Users/tarun/plant/PlantDataset/train/Apple___Apple_scab/6e8ed8d7-45e0-446a-aad1-d7ccf4a861fe___FREC_Scab 3068_new30degFlipLR.JPG\n",
      "/Users/tarun/plant/PlantDataset/train/Apple___Apple_scab/9ac984f5-d42c-4321-ae2e-7fbde038aa38___FREC_Scab 3369_new30degFlipLR.JPG\n",
      "/Users/tarun/plant/PlantDataset/train/Apple___Apple_scab/b8829a11-a69e-479f-977e-3890cd1d76b1___FREC_Scab 3144_90deg.JPG\n",
      "/Users/tarun/plant/PlantDataset/train/Apple___Apple_scab/c665dad4-adfc-40a3-b1cc-a29aed48d93c___FREC_Scab 3246.JPG\n",
      "/Users/tarun/plant/PlantDataset/train/Apple___Apple_scab/9b7399aa-1c3c-4137-ae4e-196cd23fe573___FREC_Scab 3468_new30degFlipLR.JPG\n",
      "/Users/tarun/plant/PlantDataset/train/Apple___Apple_scab/679c439b-740f-45cb-a9ba-d2984694fb25___FREC_Scab 2950_270deg.JPG\n",
      "/Users/tarun/plant/PlantDataset/train/Apple___Apple_scab/ed33dbe0-edc4-4ad8-85c2-0495f384e3fe___FREC_Scab 3467_90deg.JPG\n",
      "/Users/tarun/plant/PlantDataset/train/Apple___Apple_scab/35694cb9-efe9-441a-a810-13e065de7925___FREC_Scab 3320.JPG\n",
      "/Users/tarun/plant/PlantDataset/train/Apple___Apple_scab/ba0c02a0-3597-44e5-826d-00398a68d65b___FREC_Scab 2939_270deg.JPG\n",
      "/Users/tarun/plant/PlantDataset/train/Apple___Apple_scab/50dca3b7-fe83-426b-9fa7-a4e80df022aa___FREC_Scab 3488_90deg.JPG\n",
      "/Users/tarun/plant/PlantDataset/train/Apple___Apple_scab/e6fcead3-7234-4e51-80fc-056372588d85___FREC_Scab 2940.JPG\n",
      "/Users/tarun/plant/PlantDataset/train/Apple___Apple_scab/1a4047d7-23d6-4bba-ba10-b6e7005ea01b___FREC_Scab 3193_new30degFlipLR.JPG\n",
      "/Users/tarun/plant/PlantDataset/train/Apple___Apple_scab/fbd09d7f-e816-408a-946e-e4009ec8cae1___FREC_Scab 3289_new30degFlipLR.JPG\n",
      "/Users/tarun/plant/PlantDataset/train/Apple___Apple_scab/d7ac8a6f-7c88-47ac-9387-eefb672e9776___FREC_Scab 3392.JPG\n",
      "/Users/tarun/plant/PlantDataset/train/Apple___Apple_scab/474cf33e-0289-4014-bb8a-8004b87b471b___FREC_Scab 3425_270deg.JPG\n",
      "/Users/tarun/plant/PlantDataset/train/Apple___Apple_scab/63e1d796-f00e-4c24-9871-2eae6f9c9ced___FREC_Scab 3078.JPG\n",
      "/Users/tarun/plant/PlantDataset/train/Apple___Apple_scab/b1efda88-84a3-4d96-b3bf-48d7e12155e9___FREC_Scab 3009_270deg.JPG\n",
      "/Users/tarun/plant/PlantDataset/train/Apple___Apple_scab/53035d10-9f2b-4c90-ab75-dfde2a9af82f___FREC_Scab 2915_270deg.JPG\n",
      "/Users/tarun/plant/PlantDataset/train/Apple___Apple_scab/a031daf8-94a3-476b-b2e4-dc39a4ee843d___FREC_Scab 3233_new30degFlipLR.JPG\n",
      "/Users/tarun/plant/PlantDataset/train/Apple___Apple_scab/23576562-df0c-46bb-8c50-1bf03412097f___FREC_Scab 3086_270deg.JPG\n",
      "/Users/tarun/plant/PlantDataset/train/Apple___Apple_scab/d608ac35-eaf8-43e2-b429-f9b433126023___FREC_Scab 3386_new30degFlipLR.JPG\n",
      "/Users/tarun/plant/PlantDataset/train/Apple___Apple_scab/2438c1f0-556e-4575-b382-96e17f908e34___FREC_Scab 3230_270deg.JPG\n",
      "/Users/tarun/plant/PlantDataset/train/Apple___Apple_scab/99f409b1-0e19-43e6-bbc5-95c5368f86be___FREC_Scab 3051_new30degFlipLR.JPG\n",
      "/Users/tarun/plant/PlantDataset/train/Apple___Apple_scab/2bfd8ee0-af6b-42fd-ae61-fc5e92ec1b67___FREC_Scab 2988_90deg.JPG\n",
      "/Users/tarun/plant/PlantDataset/train/Apple___Apple_scab/276ed34e-9987-4b38-b83b-8626504fc204___FREC_Scab 3050.JPG\n",
      "/Users/tarun/plant/PlantDataset/train/Apple___Apple_scab/29ab8216-ec38-4efd-9c77-21068fa899a4___FREC_Scab 3241_270deg.JPG\n",
      "/Users/tarun/plant/PlantDataset/train/Apple___Apple_scab/352a5659-3552-4e94-8333-c3715d38cc27___FREC_Scab 3049_270deg.JPG\n",
      "/Users/tarun/plant/PlantDataset/train/Apple___Apple_scab/de341ebf-f335-4120-be2e-2640de5bde93___FREC_Scab 3375_90deg.JPG\n",
      "/Users/tarun/plant/PlantDataset/train/Apple___Apple_scab/91decba3-10b0-4d3e-974c-bcc7729e867d___FREC_Scab 3527.JPG\n",
      "/Users/tarun/plant/PlantDataset/train/Apple___Apple_scab/cc729eed-8d8e-4a23-9b27-db78e418543d___FREC_Scab 3092_new30degFlipLR.JPG\n",
      "/Users/tarun/plant/PlantDataset/train/Apple___Apple_scab/3c2f46e3-9f96-4912-a9d5-7a046aa6a1b2___FREC_Scab 2967_90deg.JPG\n",
      "/Users/tarun/plant/PlantDataset/train/Apple___Apple_scab/1bc60205-27cc-4d10-bc87-7e968573e5d5___FREC_Scab 3531_90deg.JPG\n",
      "/Users/tarun/plant/PlantDataset/train/Apple___Apple_scab/f2fb711e-3bcb-4729-9352-205c8dd0576f___FREC_Scab 3118_90deg.JPG\n",
      "/Users/tarun/plant/PlantDataset/train/Apple___Apple_scab/97cd53cf-e95a-4d40-b77c-15ccf9bbb8f3___FREC_Scab 3134_270deg.JPG\n",
      "/Users/tarun/plant/PlantDataset/train/Apple___Apple_scab/623fb084-dbac-42fb-b636-7cfcb89ba9f6___FREC_Scab 3437_new30degFlipLR.JPG\n",
      "/Users/tarun/plant/PlantDataset/train/Apple___Apple_scab/9b7399aa-1c3c-4137-ae4e-196cd23fe573___FREC_Scab 3468.JPG\n",
      "/Users/tarun/plant/PlantDataset/train/Apple___Apple_scab/bc93b0fd-568f-4969-9d2d-c94d5f340e7e___FREC_Scab 3357_new30degFlipLR.JPG\n",
      "/Users/tarun/plant/PlantDataset/train/Apple___Apple_scab/c0f4f71a-8f53-4a0a-816f-d400a445680a___FREC_Scab 3459_90deg.JPG\n",
      "/Users/tarun/plant/PlantDataset/train/Apple___Apple_scab/0896ecbc-1af2-4868-8279-ed302acb29bc___FREC_Scab 3339_270deg.JPG\n",
      "/Users/tarun/plant/PlantDataset/train/Apple___Apple_scab/6b784953-7e31-4cec-a3d5-82f3b6bbdd00___FREC_Scab 3352_270deg.JPG\n",
      "/Users/tarun/plant/PlantDataset/train/Apple___Apple_scab/0208f4eb-45a4-4399-904e-989ac2c6257c___FREC_Scab 3037_new30degFlipLR.JPG\n",
      "/Users/tarun/plant/PlantDataset/train/Apple___Apple_scab/7c0710e7-2ad4-44c4-a6f6-ffeb5573f8e7___FREC_Scab 3208.JPG\n",
      "/Users/tarun/plant/PlantDataset/train/Apple___Apple_scab/b10dceaa-a764-46b4-bd61-bc9fb13579ca___FREC_Scab 3141_270deg.JPG\n",
      "/Users/tarun/plant/PlantDataset/train/Apple___Apple_scab/d1773f0b-f049-4bb1-b13f-d33b96078ab3___FREC_Scab 3046_270deg.JPG\n",
      "/Users/tarun/plant/PlantDataset/train/Apple___Apple_scab/4a7f12ff-a785-4d12-8943-f1644789a21b___FREC_Scab 2916.JPG\n",
      "/Users/tarun/plant/PlantDataset/train/Apple___Apple_scab/f18c0441-917e-4f34-b26e-a1a71d0adec2___FREC_Scab 3429_new30degFlipLR.JPG\n",
      "/Users/tarun/plant/PlantDataset/train/Apple___Apple_scab/13b16e68-c82c-4de8-ab34-877ff352e821___FREC_Scab 3180_90deg.JPG\n",
      "/Users/tarun/plant/PlantDataset/train/Apple___Apple_scab/3eb26abb-a392-4cc4-9be2-d5e4bb8f3660___FREC_Scab 2969.JPG\n",
      "/Users/tarun/plant/PlantDataset/train/Apple___Apple_scab/892da302-54b8-43a1-960d-055f5eb3f0a1___FREC_Scab 3019_90deg.JPG\n",
      "/Users/tarun/plant/PlantDataset/train/Apple___Apple_scab/9efcd800-e927-4595-8eb8-26d36524242a___FREC_Scab 3026_270deg.JPG\n",
      "/Users/tarun/plant/PlantDataset/train/Apple___Apple_scab/adfdba4a-a725-4c5b-8b1c-96e8b20baa7b___FREC_Scab 3265_new30degFlipLR.JPG\n",
      "/Users/tarun/plant/PlantDataset/train/Apple___Apple_scab/9a82c830-7854-4f7f-84c5-f7414cd238b0___FREC_Scab 3069.JPG\n",
      "/Users/tarun/plant/PlantDataset/train/Apple___Apple_scab/f0d56524-1296-4a54-bafa-9b620baf9f1d___FREC_Scab 2942.JPG\n",
      "/Users/tarun/plant/PlantDataset/train/Apple___Apple_scab/68a57535-547d-4287-89cc-6d8acc265372___FREC_Scab 3351_new30degFlipLR.JPG\n",
      "/Users/tarun/plant/PlantDataset/train/Apple___Apple_scab/258ce9eb-2b67-475b-b09c-0bc83b0987f1___FREC_Scab 3033_90deg.JPG\n",
      "/Users/tarun/plant/PlantDataset/train/Apple___Apple_scab/6105e3bd-339c-47bd-9764-4ba9b7059a6b___FREC_Scab 3096_270deg.JPG\n",
      "/Users/tarun/plant/PlantDataset/train/Apple___Apple_scab/37659856-0fc8-430b-871a-af4f0b557e49___FREC_Scab 3081_90deg.JPG\n",
      "/Users/tarun/plant/PlantDataset/train/Apple___Apple_scab/a15c8e33-6b90-489e-800d-99b3056235c2___FREC_Scab 3466.JPG\n",
      "/Users/tarun/plant/PlantDataset/train/Apple___Apple_scab/84ef6106-d401-44fb-a5c9-be5ef93cb4e7___FREC_Scab 2921_270deg.JPG\n",
      "/Users/tarun/plant/PlantDataset/train/Apple___Apple_scab/4b51cc5d-4122-451b-8598-81ea29dc7cd4___FREC_Scab 3290_new30degFlipLR.JPG\n",
      "/Users/tarun/plant/PlantDataset/train/Apple___Apple_scab/815d2612-ee00-407a-8a0d-d0d94c7e0a9f___FREC_Scab 3461_90deg.JPG\n",
      "/Users/tarun/plant/PlantDataset/train/Apple___Apple_scab/518ab601-3736-4d3b-9770-a0efba601c0e___FREC_Scab 3231_270deg.JPG\n",
      "/Users/tarun/plant/PlantDataset/train/Apple___Apple_scab/1a21aabb-6f74-4644-8d9e-a517568b7e9c___FREC_Scab 3095.JPG\n",
      "/Users/tarun/plant/PlantDataset/train/Apple___Apple_scab/f141c7f9-66b7-4052-b5c7-db3df1a894f2___FREC_Scab 3261_new30degFlipLR.JPG\n",
      "/Users/tarun/plant/PlantDataset/train/Apple___Apple_scab/6b66d8dd-af9f-43b5-a43f-6e4c6d64bede___FREC_Scab 3248_90deg.JPG\n",
      "/Users/tarun/plant/PlantDataset/train/Apple___Apple_scab/daf6db9e-a600-449c-8b66-482ab50ea431___FREC_Scab 3237_90deg.JPG\n",
      "/Users/tarun/plant/PlantDataset/train/Apple___Apple_scab/a031daf8-94a3-476b-b2e4-dc39a4ee843d___FREC_Scab 3233_90deg.JPG\n",
      "/Users/tarun/plant/PlantDataset/train/Apple___Apple_scab/ed33dbe0-edc4-4ad8-85c2-0495f384e3fe___FREC_Scab 3467_270deg.JPG\n",
      "/Users/tarun/plant/PlantDataset/train/Apple___Apple_scab/a038a218-4c69-4f5a-9887-80fac9888782___FREC_Scab 3008.JPG\n",
      "/Users/tarun/plant/PlantDataset/train/Apple___Apple_scab/67c7e9f9-19ca-4fb5-a2b1-8efdeed7b9e2___FREC_Scab 3397_90deg.JPG\n",
      "/Users/tarun/plant/PlantDataset/train/Apple___Apple_scab/e5d9029b-ba16-44c2-be95-66199f1a8a96___FREC_Scab 3317_270deg.JPG\n",
      "/Users/tarun/plant/PlantDataset/train/Apple___Apple_scab/c6e7fae4-cacb-4058-a933-d38ea04ee42e___FREC_Scab 3348_90deg.JPG\n",
      "/Users/tarun/plant/PlantDataset/train/Apple___Apple_scab/2ae81857-0615-4a6a-8d13-1ace0c62284d___FREC_Scab 2992_new30degFlipLR.JPG\n",
      "/Users/tarun/plant/PlantDataset/train/Apple___Apple_scab/8c916434-af92-4360-9833-0422aa510f7e___FREC_Scab 3245.JPG\n",
      "/Users/tarun/plant/PlantDataset/train/Apple___Apple_scab/be517ff5-5e63-4f6a-9f55-1522c9ec972b___FREC_Scab 3123_270deg.JPG\n",
      "/Users/tarun/plant/PlantDataset/train/Apple___Apple_scab/f7c4bd45-5098-4b2c-bbfb-2e47c8f2d711___FREC_Scab 3361_90deg.JPG\n",
      "/Users/tarun/plant/PlantDataset/train/Apple___Apple_scab/7c83792f-d375-42fb-a5a0-1bc2cb3a8eff___FREC_Scab 2914.JPG\n",
      "/Users/tarun/plant/PlantDataset/train/Apple___Apple_scab/ef0593e6-f8bc-4501-9c2a-8ee8a6ff33fc___FREC_Scab 3495_270deg.JPG\n",
      "/Users/tarun/plant/PlantDataset/train/Apple___Apple_scab/84ca9b3d-80c2-476a-a3ae-c085ea721548___FREC_Scab 3132.JPG\n",
      "/Users/tarun/plant/PlantDataset/train/Apple___Apple_scab/792c3972-8724-45b6-8ba0-eec0f675bc50___FREC_Scab 3120_90deg.JPG\n",
      "/Users/tarun/plant/PlantDataset/train/Apple___Apple_scab/cd7bc55c-1c47-4af7-9875-f29147d54115___FREC_Scab 3471_270deg.JPG\n",
      "/Users/tarun/plant/PlantDataset/train/Apple___Apple_scab/b0586996-77d5-4d02-8112-14eb67895bcf___FREC_Scab 3000_new30degFlipLR.JPG\n",
      "/Users/tarun/plant/PlantDataset/train/Apple___Apple_scab/f18c0441-917e-4f34-b26e-a1a71d0adec2___FREC_Scab 3429_270deg.JPG\n",
      "/Users/tarun/plant/PlantDataset/train/Apple___Apple_scab/e3509da1-332c-4e43-977a-c57978ff6a38___FREC_Scab 3219_270deg.JPG\n",
      "/Users/tarun/plant/PlantDataset/train/Apple___Apple_scab/9a544639-1fc6-4c45-88e4-3049c2bc0814___FREC_Scab 3439_270deg.JPG\n",
      "/Users/tarun/plant/PlantDataset/train/Apple___Apple_scab/66fab3e4-d6e3-4a6d-aff0-4fe011ef8eb3___FREC_Scab 3153_90deg.JPG\n",
      "/Users/tarun/plant/PlantDataset/train/Apple___Apple_scab/89937e2f-6ec2-483d-9ba4-1c7c61859cb0___FREC_Scab 3394_new30degFlipLR.JPG\n",
      "/Users/tarun/plant/PlantDataset/train/Apple___Apple_scab/419c16b2-13aa-485b-8342-3760707e21f9___FREC_Scab 3285.JPG\n",
      "/Users/tarun/plant/PlantDataset/train/Apple___Apple_scab/80ddd81b-9c75-4711-8012-7ee68af378db___FREC_Scab 3458_270deg.JPG\n",
      "/Users/tarun/plant/PlantDataset/train/Apple___Apple_scab/8df36a92-b562-4bff-975b-ff08d8da40f6___FREC_Scab 3119_new30degFlipLR.JPG\n",
      "/Users/tarun/plant/PlantDataset/train/Apple___Apple_scab/bf99a731-b08d-47af-8d65-196bbb0ca2e3___FREC_Scab 3344_270deg.JPG\n",
      "/Users/tarun/plant/PlantDataset/train/Apple___Apple_scab/a2d623ff-8e4d-40e3-a6c5-3d61e7355f92___FREC_Scab 2949_270deg.JPG\n",
      "/Users/tarun/plant/PlantDataset/train/Apple___Apple_scab/82f4f2fc-b28e-4834-95b8-3d7b144f8b15___FREC_Scab 3063_new30degFlipLR.JPG\n",
      "/Users/tarun/plant/PlantDataset/train/Apple___Apple_scab/dbf6dab4-0765-454c-8cb9-6b4329bca971___FREC_Scab 3225_new30degFlipLR.JPG\n",
      "/Users/tarun/plant/PlantDataset/train/Apple___Apple_scab/3c27bbd7-b305-4ab0-8a85-5061363cf632___FREC_Scab 3183_90deg.JPG\n",
      "/Users/tarun/plant/PlantDataset/train/Apple___Apple_scab/5581f206-7305-4430-be5f-8de62689fb70___FREC_Scab 2918.JPG\n",
      "/Users/tarun/plant/PlantDataset/train/Apple___Apple_scab/40df2c3f-673e-4da8-a172-65fd5a656c1d___FREC_Scab 2957_270deg.JPG\n",
      "/Users/tarun/plant/PlantDataset/train/Apple___Apple_scab/f79134e9-f8b2-4855-96bd-6b3ce814b32a___FREC_Scab 3116_270deg.JPG\n",
      "/Users/tarun/plant/PlantDataset/train/Apple___Apple_scab/663ad178-6346-4b89-8074-6655f1be1578___FREC_Scab 3500_270deg.JPG\n",
      "/Users/tarun/plant/PlantDataset/train/Apple___Apple_scab/68a57535-547d-4287-89cc-6d8acc265372___FREC_Scab 3351.JPG\n",
      "/Users/tarun/plant/PlantDataset/train/Apple___Apple_scab/fbd09d7f-e816-408a-946e-e4009ec8cae1___FREC_Scab 3289_270deg.JPG\n",
      "/Users/tarun/plant/PlantDataset/train/Apple___Apple_scab/b4d26d69-8318-4898-93be-561f78c18d5a___FREC_Scab 3133_90deg.JPG\n",
      "/Users/tarun/plant/PlantDataset/train/Apple___Apple_scab/2ae81857-0615-4a6a-8d13-1ace0c62284d___FREC_Scab 2992_90deg.JPG\n",
      "/Users/tarun/plant/PlantDataset/train/Apple___Apple_scab/b18d07ee-d2e2-4cc2-876c-e03e3839f3b6___FREC_Scab 3427_new30degFlipLR.JPG\n",
      "/Users/tarun/plant/PlantDataset/train/Apple___Apple_scab/03354abb-aa1c-4f9d-a1ef-9f40505cd539___FREC_Scab 3355_270deg.JPG\n",
      "/Users/tarun/plant/PlantDataset/train/Apple___Apple_scab/f2d6beb9-e8b1-49f6-b7b7-903b51565435___FREC_Scab 3393_270deg.JPG\n",
      "/Users/tarun/plant/PlantDataset/train/Apple___Apple_scab/f1017472-d391-4a66-b9b2-d52916cd0c0b___FREC_Scab 3176_new30degFlipLR.JPG\n",
      "/Users/tarun/plant/PlantDataset/train/Apple___Apple_scab/6b66d8dd-af9f-43b5-a43f-6e4c6d64bede___FREC_Scab 3248_new30degFlipLR.JPG\n",
      "/Users/tarun/plant/PlantDataset/train/Apple___Apple_scab/4940cd87-695e-4f4d-8a45-5490812447cc___FREC_Scab 3044_90deg.JPG\n",
      "/Users/tarun/plant/PlantDataset/train/Apple___Apple_scab/6e8ed8d7-45e0-446a-aad1-d7ccf4a861fe___FREC_Scab 3068_270deg.JPG\n",
      "/Users/tarun/plant/PlantDataset/train/Apple___Apple_scab/a6ba4b1c-285a-432d-ae70-df3e37e5e6c1___FREC_Scab 3002.JPG\n",
      "/Users/tarun/plant/PlantDataset/train/Apple___Apple_scab/730f20de-a19f-4320-89bf-027dceeff9b5___FREC_Scab 3185_270deg.JPG\n",
      "/Users/tarun/plant/PlantDataset/train/Apple___Apple_scab/cd7bc55c-1c47-4af7-9875-f29147d54115___FREC_Scab 3471_new30degFlipLR.JPG\n",
      "/Users/tarun/plant/PlantDataset/train/Apple___Apple_scab/6a19d31f-b5e3-4732-a82c-e3d5b1d26c60___FREC_Scab 3537.JPG\n",
      "/Users/tarun/plant/PlantDataset/train/Apple___Apple_scab/5fcb921d-3329-443c-a708-37c3943f5493___FREC_Scab 2987_new30degFlipLR.JPG\n",
      "/Users/tarun/plant/PlantDataset/train/Apple___Apple_scab/c51ed52b-7c1a-47fa-83c2-097502ee09b9___FREC_Scab 3146_new30degFlipLR.JPG\n",
      "/Users/tarun/plant/PlantDataset/train/Apple___Apple_scab/1a41bab0-45e0-4dda-a798-9bf4a998f1b6___FREC_Scab 3450.JPG\n",
      "/Users/tarun/plant/PlantDataset/train/Apple___Apple_scab/2d329823-7ad5-4189-89b7-4bdf24f9c393___FREC_Scab 3507.JPG\n",
      "/Users/tarun/plant/PlantDataset/train/Apple___Apple_scab/f105cc0d-1cc5-4726-b46d-f5bd9c9aacc1___FREC_Scab 3321.JPG\n",
      "/Users/tarun/plant/PlantDataset/train/Apple___Apple_scab/0261a6e4-21f8-481a-8827-b674e6955644___FREC_Scab 3055_270deg.JPG\n",
      "/Users/tarun/plant/PlantDataset/train/Apple___Apple_scab/e181fe6a-6865-4ae7-8b3e-0ce6f70ac63b___FREC_Scab 3223_90deg.JPG\n",
      "/Users/tarun/plant/PlantDataset/train/Apple___Apple_scab/abfd8972-51b1-4715-a358-54e8e2afa071___FREC_Scab 3267_90deg.JPG\n",
      "/Users/tarun/plant/PlantDataset/train/Apple___Apple_scab/de6e3dd8-b2b8-4bce-aa4f-83cc514f2007___FREC_Scab 3511.JPG\n",
      "/Users/tarun/plant/PlantDataset/train/Apple___Apple_scab/4be9d1d9-2170-4856-a81e-e53e7aa5dbf7___FREC_Scab 3082_new30degFlipLR.JPG\n",
      "/Users/tarun/plant/PlantDataset/train/Apple___Apple_scab/affb666c-6915-48e6-ba8a-92385af75826___FREC_Scab 3395.JPG\n",
      "/Users/tarun/plant/PlantDataset/train/Apple___Apple_scab/9c04ca1c-e5f5-4a03-8205-544c1475a18c___FREC_Scab 3502_270deg.JPG\n",
      "/Users/tarun/plant/PlantDataset/train/Apple___Apple_scab/8a8f8dd2-a938-4288-a8ec-56ef0aaa2d4f___FREC_Scab 2947.JPG\n",
      "/Users/tarun/plant/PlantDataset/train/Apple___Apple_scab/3eb26abb-a392-4cc4-9be2-d5e4bb8f3660___FREC_Scab 2969_new30degFlipLR.JPG\n",
      "/Users/tarun/plant/PlantDataset/train/Apple___Apple_scab/748e82aa-02b1-4ca7-9fd3-e0184f20644f___FREC_Scab 3354_90deg.JPG\n",
      "/Users/tarun/plant/PlantDataset/train/Apple___Apple_scab/8b28fdba-2f54-45dc-a671-a2743f127c45___FREC_Scab 3346_90deg.JPG\n",
      "/Users/tarun/plant/PlantDataset/train/Apple___Apple_scab/9474d631-06bc-45e0-bdcc-2aff28b34856___FREC_Scab 3358.JPG\n",
      "/Users/tarun/plant/PlantDataset/train/Apple___Apple_scab/ba94f188-df0b-41fd-94e3-f0ed4924e23e___FREC_Scab 3102_270deg.JPG\n",
      "/Users/tarun/plant/PlantDataset/train/Apple___Apple_scab/29ab8216-ec38-4efd-9c77-21068fa899a4___FREC_Scab 3241_new30degFlipLR.JPG\n",
      "/Users/tarun/plant/PlantDataset/train/Apple___Apple_scab/7f7b25d4-f895-4f8e-80ad-db72a9b19a2e___FREC_Scab 3451_270deg.JPG\n",
      "/Users/tarun/plant/PlantDataset/train/Apple___Apple_scab/8e04135b-2279-43a7-af41-147d96395478___FREC_Scab 3143_new30degFlipLR.JPG\n",
      "SHAPE: (2016, 256, 256, 3)\n"
     ]
    }
   ],
   "source": [
    "x = []\n",
    "files = glob.glob (\"/Users/tarun/plant/PlantDataset/train/Apple___Apple_scab/*.JPG\")\n",
    "for myFile in files:\n",
    "    print(myFile)\n",
    "    image = cv2.imread (myFile)\n",
    "    x.append (image)\n",
    "\n",
    "print('SHAPE:', np.array(x).shape)"
   ]
  },
  {
   "cell_type": "code",
   "execution_count": 24,
   "id": "88ac42b1",
   "metadata": {
    "tags": [
     "outputPrepend"
    ]
   },
   "outputs": [
    {
     "output_type": "stream",
     "name": "stdout",
     "text": [
      "8e42-d36d-4bba-b0ac-fcc0eefaacd3___JR_FrgE.S 8665_new30degFlipLR.JPG\n",
      "/Users/tarun/plant/PlantDataset/train/Apple___Black_rot/bd1b3df1-f056-40c1-aded-be7185154408___JR_FrgE.S 8779_new30degFlipLR.JPG\n",
      "/Users/tarun/plant/PlantDataset/train/Apple___Black_rot/d240fec5-9b1e-4b36-a7df-d0007d0ebfcb___JR_FrgE.S 2929_270deg.JPG\n",
      "/Users/tarun/plant/PlantDataset/train/Apple___Black_rot/7c6d3ea5-7af7-411b-982d-8054c545818e___JR_FrgE.S 3009_90deg.JPG\n",
      "/Users/tarun/plant/PlantDataset/train/Apple___Black_rot/c575ad09-2607-4537-b199-4d2b022779fd___JR_FrgE.S 3086_270deg.JPG\n",
      "/Users/tarun/plant/PlantDataset/train/Apple___Black_rot/00e909aa-e3ae-4558-9961-336bb0f35db3___JR_FrgE.S 8593_270deg.JPG\n",
      "/Users/tarun/plant/PlantDataset/train/Apple___Black_rot/d361ab89-3f57-4bfc-b2af-a6c5b75055af___JR_FrgE.S 8608_90deg.JPG\n",
      "/Users/tarun/plant/PlantDataset/train/Apple___Black_rot/82222b3b-3999-40ad-8d80-d7ce0f74bbc3___JR_FrgE.S 8787_new30degFlipLR.JPG\n",
      "/Users/tarun/plant/PlantDataset/train/Apple___Black_rot/7b4b37d4-fec6-4e52-8c88-a6e1e69aeeb2___JR_FrgE.S 8588_270deg.JPG\n",
      "/Users/tarun/plant/PlantDataset/train/Apple___Black_rot/9691ae31-5b5d-4160-ae00-77358aff80ee___JR_FrgE.S 8719_new30degFlipLR.JPG\n",
      "/Users/tarun/plant/PlantDataset/train/Apple___Black_rot/f415bc3e-3e71-4636-a3dd-78b65002384d___JR_FrgE.S 2917_90deg.JPG\n",
      "/Users/tarun/plant/PlantDataset/train/Apple___Black_rot/30aebb07-bde6-44c8-bee2-a06ff42a948d___JR_FrgE.S 3071_90deg.JPG\n",
      "/Users/tarun/plant/PlantDataset/train/Apple___Black_rot/50afe8c7-d56e-4dd0-97b8-23a70ddca819___JR_FrgE.S 2750_new30degFlipLR.JPG\n",
      "/Users/tarun/plant/PlantDataset/train/Apple___Black_rot/e43cb49a-44ff-4ee5-9dae-aa2e89fb643b___JR_FrgE.S 2927_new30degFlipLR.JPG\n",
      "/Users/tarun/plant/PlantDataset/train/Apple___Black_rot/d197373c-af39-4000-aa28-cab65fafa361___JR_FrgE.S 2959_new30degFlipLR.JPG\n",
      "/Users/tarun/plant/PlantDataset/train/Apple___Black_rot/d65349b4-80ff-474e-a48e-bf8fa597d880___JR_FrgE.S 8775.JPG\n",
      "/Users/tarun/plant/PlantDataset/train/Apple___Black_rot/4b8b1d59-9aec-4b99-8be8-b61edcccb660___JR_FrgE.S 8659_90deg.JPG\n",
      "/Users/tarun/plant/PlantDataset/train/Apple___Black_rot/ac638c74-99c4-434f-a9a1-ef727fa494eb___JR_FrgE.S 2986_270deg.JPG\n",
      "/Users/tarun/plant/PlantDataset/train/Apple___Black_rot/6cc6804c-7b02-42a5-86ae-92add86eb89d___JR_FrgE.S 2825_270deg.JPG\n",
      "/Users/tarun/plant/PlantDataset/train/Apple___Black_rot/1c4c2235-2c28-438e-8fa9-505b5d3004a0___JR_FrgE.S 8720_new30degFlipLR.JPG\n",
      "/Users/tarun/plant/PlantDataset/train/Apple___Black_rot/1a899717-5445-4d2b-8035-91bc47780504___JR_FrgE.S 8806_new30degFlipLR.JPG\n",
      "/Users/tarun/plant/PlantDataset/train/Apple___Black_rot/e66666f1-bad7-4ceb-8142-389b841be362___JR_FrgE.S 3008.JPG\n",
      "/Users/tarun/plant/PlantDataset/train/Apple___Black_rot/8503d510-a7c2-409d-bbbe-5a7b03611a8a___JR_FrgE.S 2740.JPG\n",
      "/Users/tarun/plant/PlantDataset/train/Apple___Black_rot/668dfffb-b15e-4226-92fb-d7a2795821e0___JR_FrgE.S 2794.JPG\n",
      "/Users/tarun/plant/PlantDataset/train/Apple___Black_rot/6ca0d950-03b6-4d1f-a4a2-562ca529cad3___JR_FrgE.S 8660_270deg.JPG\n",
      "/Users/tarun/plant/PlantDataset/train/Apple___Black_rot/1cf5102a-468b-4410-80bf-af6aeadc780c___JR_FrgE.S 2924_new30degFlipLR.JPG\n",
      "/Users/tarun/plant/PlantDataset/train/Apple___Black_rot/919b43c2-b954-4a1b-a3c7-602fc1ed00e4___JR_FrgE.S 2823_90deg.JPG\n",
      "/Users/tarun/plant/PlantDataset/train/Apple___Black_rot/719f24ab-9127-4a77-9f7e-7b47acb9f977___JR_FrgE.S 8802_90deg.JPG\n",
      "/Users/tarun/plant/PlantDataset/train/Apple___Black_rot/47c17d6e-07d4-4523-978e-495edff13b00___JR_FrgE.S 3068_new30degFlipLR.JPG\n",
      "/Users/tarun/plant/PlantDataset/train/Apple___Black_rot/0ebea6f4-08e4-4380-86f8-34d854697e32___JR_FrgE.S 2877.JPG\n",
      "/Users/tarun/plant/PlantDataset/train/Apple___Black_rot/8f866e9b-a1e4-4b34-89f0-74f2ddc641d1___JR_FrgE.S 8738_270deg.JPG\n",
      "/Users/tarun/plant/PlantDataset/train/Apple___Black_rot/57cbfc0a-6720-4672-bda8-e9ad59c0fefc___JR_FrgE.S 8651_270deg.JPG\n",
      "/Users/tarun/plant/PlantDataset/train/Apple___Black_rot/26c9d50e-7169-4241-951a-2334e2a513b3___JR_FrgE.S 8784.JPG\n",
      "/Users/tarun/plant/PlantDataset/train/Apple___Black_rot/7a081a31-bbfa-4a43-8579-3353f6672f76___JR_FrgE.S 2861_90deg.JPG\n",
      "/Users/tarun/plant/PlantDataset/train/Apple___Black_rot/26a6609d-7993-4fda-b56d-5c5194f0de03___JR_FrgE.S 8797_new30degFlipLR.JPG\n",
      "/Users/tarun/plant/PlantDataset/train/Apple___Black_rot/ab496771-c3b7-4c15-8cf1-d90455ab05cc___JR_FrgE.S 8573_270deg.JPG\n",
      "/Users/tarun/plant/PlantDataset/train/Apple___Black_rot/bf3eaad3-aa22-4425-88f0-339be0f39059___JR_FrgE.S 2933_270deg.JPG\n",
      "/Users/tarun/plant/PlantDataset/train/Apple___Black_rot/464511a6-77d9-493f-bb3c-f151fb390f1b___JR_FrgE.S 8790.JPG\n",
      "/Users/tarun/plant/PlantDataset/train/Apple___Black_rot/e0ee140b-d60c-4b08-ae6f-e44c5c31fbc8___JR_FrgE.S 2817_270deg.JPG\n",
      "/Users/tarun/plant/PlantDataset/train/Apple___Black_rot/db1600c7-f9dc-45a4-9e01-223b67ebef83___JR_FrgE.S 8703_90deg.JPG\n",
      "/Users/tarun/plant/PlantDataset/train/Apple___Black_rot/d8e21bad-015b-4b76-8ffa-373b191ed448___JR_FrgE.S 3021_90deg.JPG\n",
      "/Users/tarun/plant/PlantDataset/train/Apple___Black_rot/33bc7491-a0b2-4834-aec7-abad940e8684___JR_FrgE.S 8741.JPG\n",
      "/Users/tarun/plant/PlantDataset/train/Apple___Black_rot/3ef4204e-d2c3-42b5-ac97-0eabb3d64b3f___JR_FrgE.S 8815.JPG\n",
      "/Users/tarun/plant/PlantDataset/train/Apple___Black_rot/e43cb49a-44ff-4ee5-9dae-aa2e89fb643b___JR_FrgE.S 2927.JPG\n",
      "/Users/tarun/plant/PlantDataset/train/Apple___Black_rot/e2af1632-e9bb-4a05-8ead-faba02eac1e2___JR_FrgE.S 3070_270deg.JPG\n",
      "/Users/tarun/plant/PlantDataset/train/Apple___Black_rot/2101e5e6-2932-4ac0-8879-59885fc01256___JR_FrgE.S 2769_90deg.JPG\n",
      "/Users/tarun/plant/PlantDataset/train/Apple___Black_rot/dddffcc1-874d-4a5a-a030-14a6e2a4bf0d___JR_FrgE.S 2958.JPG\n",
      "/Users/tarun/plant/PlantDataset/train/Apple___Black_rot/90939c76-a197-49cd-b8cc-37f096cbaa97___JR_FrgE.S 3044_new30degFlipLR.JPG\n",
      "/Users/tarun/plant/PlantDataset/train/Apple___Black_rot/42277cf4-c76e-4c00-b42f-6254f2cb8496___JR_FrgE.S 2771_90deg.JPG\n",
      "/Users/tarun/plant/PlantDataset/train/Apple___Black_rot/fa8eff59-b9f9-45d9-a8f4-eca6fa5a8896___JR_FrgE.S 8647.JPG\n",
      "/Users/tarun/plant/PlantDataset/train/Apple___Black_rot/d3deecaa-bd8c-4b10-a33f-4c6d188a3b95___JR_FrgE.S 8712.JPG\n",
      "/Users/tarun/plant/PlantDataset/train/Apple___Black_rot/079d0ba3-b207-4fc7-ace3-f2fe25c796b3___JR_FrgE.S 3038_90deg.JPG\n",
      "/Users/tarun/plant/PlantDataset/train/Apple___Black_rot/09baab32-8360-4251-9c84-a5ce6bfdfff1___JR_FrgE.S 2883_270deg.JPG\n",
      "/Users/tarun/plant/PlantDataset/train/Apple___Black_rot/6df2fa87-ba57-4627-ae8f-cba5f080e9cd___JR_FrgE.S 3049_90deg.JPG\n",
      "/Users/tarun/plant/PlantDataset/train/Apple___Black_rot/56aa2b6a-6a51-4755-b314-0e9486c53075___JR_FrgE.S 8736_new30degFlipLR.JPG\n",
      "/Users/tarun/plant/PlantDataset/train/Apple___Black_rot/9db24caa-7d1e-4b4d-a5fd-ddc794e48ec4___JR_FrgE.S 2980.JPG\n",
      "/Users/tarun/plant/PlantDataset/train/Apple___Black_rot/26b71abd-6648-4d92-a36d-92353bc09966___JR_FrgE.S 2899.JPG\n",
      "/Users/tarun/plant/PlantDataset/train/Apple___Black_rot/bb4461e1-297a-4f68-b5d7-9d469489ee67___JR_FrgE.S 2871_270deg.JPG\n",
      "/Users/tarun/plant/PlantDataset/train/Apple___Black_rot/fc7d3fc0-1b3c-4865-adee-3670870ec4c3___JR_FrgE.S 2913_new30degFlipLR.JPG\n",
      "/Users/tarun/plant/PlantDataset/train/Apple___Black_rot/58ebc44b-c9b7-441b-9aa1-bfcc1b90e21e___JR_FrgE.S 8582_90deg.JPG\n",
      "/Users/tarun/plant/PlantDataset/train/Apple___Black_rot/6dfd829f-aca0-459d-aa67-ed4636a66033___JR_FrgE.S 8653_270deg.JPG\n",
      "/Users/tarun/plant/PlantDataset/train/Apple___Black_rot/2a4cbd85-e831-4ec4-8acf-49cea51eeb5f___JR_FrgE.S 2900.JPG\n",
      "/Users/tarun/plant/PlantDataset/train/Apple___Black_rot/c5a5ffe1-6687-412b-9a06-31c9aee8066b___JR_FrgE.S 3037_new30degFlipLR.JPG\n",
      "/Users/tarun/plant/PlantDataset/train/Apple___Black_rot/5c857785-58d0-4e74-8fff-dce904538692___JR_FrgE.S 2790_new30degFlipLR.JPG\n",
      "/Users/tarun/plant/PlantDataset/train/Apple___Black_rot/bb1f1f60-cd69-4661-aca2-bcb19eb1def2___JR_FrgE.S 8785.JPG\n",
      "/Users/tarun/plant/PlantDataset/train/Apple___Black_rot/cb323687-3c3a-41d0-b5f8-445f15d9aa76___JR_FrgE.S 8688_new30degFlipLR.JPG\n",
      "/Users/tarun/plant/PlantDataset/train/Apple___Black_rot/ab55985d-4327-44d3-ac98-17d99f4bf18d___JR_FrgE.S 2754_90deg.JPG\n",
      "/Users/tarun/plant/PlantDataset/train/Apple___Black_rot/f3524490-1e4a-4292-9628-fccb4f85ae4e___JR_FrgE.S 8671_new30degFlipLR.JPG\n",
      "/Users/tarun/plant/PlantDataset/train/Apple___Black_rot/7d0776a1-7aba-4923-93b5-7ec629ca108b___JR_FrgE.S 2902_270deg.JPG\n",
      "/Users/tarun/plant/PlantDataset/train/Apple___Black_rot/394b4c4e-096d-4a4e-9498-8a18f240ab18___JR_FrgE.S 2855_270deg.JPG\n",
      "/Users/tarun/plant/PlantDataset/train/Apple___Black_rot/7f421e23-fede-4111-b6ab-cca2474f7d0e___JR_FrgE.S 2809_90deg.JPG\n",
      "/Users/tarun/plant/PlantDataset/train/Apple___Black_rot/8503d510-a7c2-409d-bbbe-5a7b03611a8a___JR_FrgE.S 2740_new30degFlipLR.JPG\n",
      "/Users/tarun/plant/PlantDataset/train/Apple___Black_rot/6f38c615-281d-4bf5-8d92-7c02d3ef9e1b___JR_FrgE.S 8753_90deg.JPG\n",
      "/Users/tarun/plant/PlantDataset/train/Apple___Black_rot/f9747ff8-17a9-4052-a7f0-d7255d520faa___JR_FrgE.S 2904_new30degFlipLR.JPG\n",
      "/Users/tarun/plant/PlantDataset/train/Apple___Black_rot/c01c9e64-11b2-4c1e-adf0-2e781c6d69aa___JR_FrgE.S 8817.JPG\n",
      "/Users/tarun/plant/PlantDataset/train/Apple___Black_rot/9dc8568b-4e22-4272-b012-3d3aaa0c8247___JR_FrgE.S 2850_new30degFlipLR.JPG\n",
      "/Users/tarun/plant/PlantDataset/train/Apple___Black_rot/29f7c332-777e-427b-898a-3b82465a17aa___JR_FrgE.S 2941_90deg.JPG\n",
      "/Users/tarun/plant/PlantDataset/train/Apple___Black_rot/8c033a16-bdf6-46ee-ac3b-2d84a6940950___JR_FrgE.S 8614_270deg.JPG\n",
      "/Users/tarun/plant/PlantDataset/train/Apple___Black_rot/56aa2b6a-6a51-4755-b314-0e9486c53075___JR_FrgE.S 8736.JPG\n",
      "/Users/tarun/plant/PlantDataset/train/Apple___Black_rot/04e74a0c-bda4-4e06-aeab-ec24b1007994___JR_FrgE.S 8782.JPG\n",
      "/Users/tarun/plant/PlantDataset/train/Apple___Black_rot/e90a2dde-185e-46e4-82ad-ce94bf0100b7___JR_FrgE.S 2746_270deg.JPG\n",
      "/Users/tarun/plant/PlantDataset/train/Apple___Black_rot/7558e6ff-8441-4ed8-b881-54288ab95441___JR_FrgE.S 2920_90deg.JPG\n",
      "/Users/tarun/plant/PlantDataset/train/Apple___Black_rot/307abcdd-96f7-404a-9032-2ce8de2fde48___JR_FrgE.S 8781_90deg.JPG\n",
      "/Users/tarun/plant/PlantDataset/train/Apple___Black_rot/ebe0af1e-91e2-4f41-bea2-179e720da94b___JR_FrgE.S 8750.JPG\n",
      "/Users/tarun/plant/PlantDataset/train/Apple___Black_rot/ff7087a7-3388-45dc-a9e9-0aed99539223___JR_FrgE.S 2979_new30degFlipLR.JPG\n",
      "/Users/tarun/plant/PlantDataset/train/Apple___Black_rot/f15c02d9-9aa6-45b5-84fc-97e22f7fabaa___JR_FrgE.S 2831_90deg.JPG\n",
      "/Users/tarun/plant/PlantDataset/train/Apple___Black_rot/2a4cbd85-e831-4ec4-8acf-49cea51eeb5f___JR_FrgE.S 2900_new30degFlipLR.JPG\n",
      "/Users/tarun/plant/PlantDataset/train/Apple___Black_rot/aed39453-1ff0-44b9-90e8-7cabf883340e___JR_FrgE.S 2873_90deg.JPG\n",
      "/Users/tarun/plant/PlantDataset/train/Apple___Black_rot/6330666e-a1cc-48c5-8e60-64cdf531c294___JR_FrgE.S 8795_90deg.JPG\n",
      "/Users/tarun/plant/PlantDataset/train/Apple___Black_rot/f1931320-4177-4453-93fd-3decee538b51___JR_FrgE.S 8707_270deg.JPG\n",
      "/Users/tarun/plant/PlantDataset/train/Apple___Black_rot/888c8b6e-55cb-4492-b489-22f3624f1c39___JR_FrgE.S 8765.JPG\n",
      "/Users/tarun/plant/PlantDataset/train/Apple___Black_rot/aeddf040-51e9-439f-9d30-d7db6559508c___JR_FrgE.S 2914_270deg.JPG\n",
      "/Users/tarun/plant/PlantDataset/train/Apple___Black_rot/73b7ad12-02d0-4775-8f51-c7d404177132___JR_FrgE.S 2969_90deg.JPG\n",
      "/Users/tarun/plant/PlantDataset/train/Apple___Black_rot/02859ed3-f56a-4315-82a5-c1cb72717225___JR_FrgE.S 8584_90deg.JPG\n",
      "/Users/tarun/plant/PlantDataset/train/Apple___Black_rot/888c8b6e-55cb-4492-b489-22f3624f1c39___JR_FrgE.S 8765_new30degFlipLR.JPG\n",
      "/Users/tarun/plant/PlantDataset/train/Apple___Black_rot/888c8b6e-55cb-4492-b489-22f3624f1c39___JR_FrgE.S 8765_90deg.JPG\n",
      "/Users/tarun/plant/PlantDataset/train/Apple___Black_rot/9e4c3e90-477d-4b7e-8227-bf82a037024e___JR_FrgE.S 3003_new30degFlipLR.JPG\n",
      "/Users/tarun/plant/PlantDataset/train/Apple___Black_rot/93f9f8ea-31c2-412f-b3c4-49ee75312d76___JR_FrgE.S 2978_270deg.JPG\n",
      "/Users/tarun/plant/PlantDataset/train/Apple___Black_rot/e7cca27e-405c-4b21-9e61-f0c3ca6ee1c4___JR_FrgE.S 2977_270deg.JPG\n",
      "/Users/tarun/plant/PlantDataset/train/Apple___Black_rot/ca07e05a-e6a2-4651-b4fd-e54f0d1c58b7___JR_FrgE.S 2840_270deg.JPG\n",
      "/Users/tarun/plant/PlantDataset/train/Apple___Black_rot/b157d655-9533-4c1d-a9bc-8f6351b06306___JR_FrgE.S 3087_90deg.JPG\n",
      "/Users/tarun/plant/PlantDataset/train/Apple___Black_rot/0ce8b939-3bdf-4078-8715-c0cb48afb078___JR_FrgE.S 2777.JPG\n",
      "/Users/tarun/plant/PlantDataset/train/Apple___Black_rot/032cf235-07ff-478f-b347-d55c07835bc5___JR_FrgE.S 8778_new30degFlipLR.JPG\n",
      "/Users/tarun/plant/PlantDataset/train/Apple___Black_rot/255dd1a9-d4cf-4b38-9872-8f8bc6746703___JR_FrgE.S 3040.JPG\n",
      "/Users/tarun/plant/PlantDataset/train/Apple___Black_rot/0139bc6d-391c-4fd1-bcae-cc74dabfddd7___JR_FrgE.S 2734_new30degFlipLR.JPG\n",
      "/Users/tarun/plant/PlantDataset/train/Apple___Black_rot/6c213dbb-aa21-4334-a773-8dc69f4421d2___JR_FrgE.S 2909_270deg.JPG\n",
      "/Users/tarun/plant/PlantDataset/train/Apple___Black_rot/3bfaa3d6-96ab-4131-a569-ac6650045079___JR_FrgE.S 2890.JPG\n",
      "/Users/tarun/plant/PlantDataset/train/Apple___Black_rot/5d1c501f-ce9a-4538-ac05-bda251444cba___JR_FrgE.S 3035_90deg.JPG\n",
      "/Users/tarun/plant/PlantDataset/train/Apple___Black_rot/34eb19d8-32a9-4c9b-829f-d0ed705c5f03___JR_FrgE.S 3064.JPG\n",
      "/Users/tarun/plant/PlantDataset/train/Apple___Black_rot/b856fc24-15d8-4294-8dd5-70a270f54518___JR_FrgE.S 8789_new30degFlipLR.JPG\n",
      "/Users/tarun/plant/PlantDataset/train/Apple___Black_rot/932e43a7-738f-4864-92e2-745bb715160e___JR_FrgE.S 2997.JPG\n",
      "/Users/tarun/plant/PlantDataset/train/Apple___Black_rot/86ccf889-8755-4331-a520-d31f49eb06a7___JR_FrgE.S 8711.JPG\n",
      "/Users/tarun/plant/PlantDataset/train/Apple___Black_rot/f6c9080a-95af-48f8-8178-0be757d92d20___JR_FrgE.S 2982.JPG\n",
      "/Users/tarun/plant/PlantDataset/train/Apple___Black_rot/e43cb49a-44ff-4ee5-9dae-aa2e89fb643b___JR_FrgE.S 2927_270deg.JPG\n",
      "/Users/tarun/plant/PlantDataset/train/Apple___Black_rot/954d8d3f-c11e-4202-b5e5-501d5e41752b___JR_FrgE.S 2942.JPG\n",
      "/Users/tarun/plant/PlantDataset/train/Apple___Black_rot/85e5214e-2998-49c7-bdb9-ee8122387704___JR_FrgE.S 8691.JPG\n",
      "/Users/tarun/plant/PlantDataset/train/Apple___Black_rot/5412de7d-df5d-4a05-be4b-e108811c4a3e___JR_FrgE.S 2820_270deg.JPG\n",
      "/Users/tarun/plant/PlantDataset/train/Apple___Black_rot/38167e03-c731-4cbf-a32c-b48a571fbc48___JR_FrgE.S 8630.JPG\n",
      "/Users/tarun/plant/PlantDataset/train/Apple___Black_rot/07dbfcca-71aa-4c14-b895-60dfb63f701d___JR_FrgE.S 3063_new30degFlipLR.JPG\n",
      "/Users/tarun/plant/PlantDataset/train/Apple___Black_rot/c8269293-ae8c-4ac0-8eb3-6574683f1b2e___JR_FrgE.S 8699_270deg.JPG\n",
      "/Users/tarun/plant/PlantDataset/train/Apple___Black_rot/91270769-9fc1-4544-bb8e-b48450b7ad62___JR_FrgE.S 2953_90deg.JPG\n",
      "/Users/tarun/plant/PlantDataset/train/Apple___Black_rot/ded93fa6-0c14-47ea-aa92-806a64db7816___JR_FrgE.S 2795_90deg.JPG\n",
      "/Users/tarun/plant/PlantDataset/train/Apple___Black_rot/451b68a6-1b39-40c5-8669-f82af6de1eed___JR_FrgE.S 8737_270deg.JPG\n",
      "/Users/tarun/plant/PlantDataset/train/Apple___Black_rot/e741c2b4-3b28-4b2c-9664-cb43ba040592___JR_FrgE.S 8610_270deg.JPG\n",
      "/Users/tarun/plant/PlantDataset/train/Apple___Black_rot/968bdbff-52bd-4cf6-a443-96d960b554ac___JR_FrgE.S 3094.JPG\n",
      "/Users/tarun/plant/PlantDataset/train/Apple___Black_rot/eb98c4ac-28e3-40ef-8cf4-38acddd5d774___JR_FrgE.S 3043_90deg.JPG\n",
      "/Users/tarun/plant/PlantDataset/train/Apple___Black_rot/58da5350-ae11-490e-9c28-7b52970331f4___JR_FrgE.S 8616_90deg.JPG\n",
      "/Users/tarun/plant/PlantDataset/train/Apple___Black_rot/9675b0f0-4169-495a-b285-67fbeeacf873___JR_FrgE.S 8621_90deg.JPG\n",
      "/Users/tarun/plant/PlantDataset/train/Apple___Black_rot/00e909aa-e3ae-4558-9961-336bb0f35db3___JR_FrgE.S 8593_new30degFlipLR.JPG\n",
      "/Users/tarun/plant/PlantDataset/train/Apple___Black_rot/eb36abb9-44c2-47e1-86fe-36c834ed7add___JR_FrgE.S 8644_270deg.JPG\n",
      "/Users/tarun/plant/PlantDataset/train/Apple___Black_rot/7e9d57ad-9e61-49f8-841c-c49b8aa1c1e1___JR_FrgE.S 8786.JPG\n",
      "/Users/tarun/plant/PlantDataset/train/Apple___Black_rot/668dfffb-b15e-4226-92fb-d7a2795821e0___JR_FrgE.S 2794_270deg.JPG\n",
      "/Users/tarun/plant/PlantDataset/train/Apple___Black_rot/ddbcb13e-0263-4881-9e1b-6f00d67f7217___JR_FrgE.S 8683.JPG\n",
      "/Users/tarun/plant/PlantDataset/train/Apple___Black_rot/c762e867-0f8b-459e-b870-10090256d9bf___JR_FrgE.S 8723_270deg.JPG\n",
      "/Users/tarun/plant/PlantDataset/train/Apple___Black_rot/f58de461-853f-46d7-b223-d48a81507a85___JR_FrgE.S 2996_90deg.JPG\n",
      "/Users/tarun/plant/PlantDataset/train/Apple___Black_rot/29f7c332-777e-427b-898a-3b82465a17aa___JR_FrgE.S 2941_270deg.JPG\n",
      "/Users/tarun/plant/PlantDataset/train/Apple___Black_rot/d8e21bad-015b-4b76-8ffa-373b191ed448___JR_FrgE.S 3021.JPG\n",
      "/Users/tarun/plant/PlantDataset/train/Apple___Black_rot/bc6642f0-62ee-419c-90c8-e1e2f19aaecb___JR_FrgE.S 2907_new30degFlipLR.JPG\n",
      "/Users/tarun/plant/PlantDataset/train/Apple___Black_rot/5db69c6b-f9c9-4a3f-b47a-ca6449023bdd___JR_FrgE.S 2757_new30degFlipLR.JPG\n",
      "/Users/tarun/plant/PlantDataset/train/Apple___Black_rot/e07b2429-8ae5-42dd-8ce8-1e94887ea6df___JR_FrgE.S 8812.JPG\n",
      "/Users/tarun/plant/PlantDataset/train/Apple___Black_rot/26b71abd-6648-4d92-a36d-92353bc09966___JR_FrgE.S 2899_90deg.JPG\n",
      "/Users/tarun/plant/PlantDataset/train/Apple___Black_rot/02168189-aa75-4284-a7f0-8ca5901ea783___JR_FrgE.S 2948.JPG\n",
      "/Users/tarun/plant/PlantDataset/train/Apple___Black_rot/456a01fc-8db6-4068-96cb-3b1e4e5f77f1___JR_FrgE.S 2768.JPG\n",
      "/Users/tarun/plant/PlantDataset/train/Apple___Black_rot/46cfd121-d2e7-4a26-9c6f-5787457d200c___JR_FrgE.S 8669.JPG\n",
      "/Users/tarun/plant/PlantDataset/train/Apple___Black_rot/9675b0f0-4169-495a-b285-67fbeeacf873___JR_FrgE.S 8621.JPG\n",
      "/Users/tarun/plant/PlantDataset/train/Apple___Black_rot/6b2b70e7-1dd3-40a0-a2d3-89d84a3e6698___JR_FrgE.S 2956_new30degFlipLR.JPG\n",
      "/Users/tarun/plant/PlantDataset/train/Apple___Black_rot/a8f06c83-bcab-4431-8c91-b00331c4b067___JR_FrgE.S 8613_270deg.JPG\n",
      "/Users/tarun/plant/PlantDataset/train/Apple___Black_rot/f1931320-4177-4453-93fd-3decee538b51___JR_FrgE.S 8707.JPG\n",
      "/Users/tarun/plant/PlantDataset/train/Apple___Black_rot/13daa7ca-c343-497d-a9c5-34438752ab1f___JR_FrgE.S 8804_90deg.JPG\n",
      "/Users/tarun/plant/PlantDataset/train/Apple___Black_rot/f1844803-f6fb-4cfb-851e-b9095fb40c9e___JR_FrgE.S 2898.JPG\n",
      "/Users/tarun/plant/PlantDataset/train/Apple___Black_rot/56aa2b6a-6a51-4755-b314-0e9486c53075___JR_FrgE.S 8736_90deg.JPG\n",
      "/Users/tarun/plant/PlantDataset/train/Apple___Black_rot/7f1f4f8b-86cc-4cc5-bb70-8b1653cea8ae___JR_FrgE.S 8649_new30degFlipLR.JPG\n",
      "/Users/tarun/plant/PlantDataset/train/Apple___Black_rot/a2d0df69-e2ee-4b7b-8b48-051027a83258___JR_FrgE.S 2936_new30degFlipLR.JPG\n",
      "/Users/tarun/plant/PlantDataset/train/Apple___Black_rot/d65349b4-80ff-474e-a48e-bf8fa597d880___JR_FrgE.S 8775_new30degFlipLR.JPG\n",
      "/Users/tarun/plant/PlantDataset/train/Apple___Black_rot/7c08d160-a5ef-4142-b743-8e484c95d8b8___JR_FrgE.S 2815_new30degFlipLR.JPG\n",
      "/Users/tarun/plant/PlantDataset/train/Apple___Black_rot/1d59f109-9793-403b-88d7-73bc3b17d601___JR_FrgE.S 8592_270deg.JPG\n",
      "/Users/tarun/plant/PlantDataset/train/Apple___Black_rot/deffd3c8-a9c7-4082-ba2a-4a54aad8ab17___JR_FrgE.S 2789.JPG\n",
      "/Users/tarun/plant/PlantDataset/train/Apple___Black_rot/531e6670-eebf-48ac-a34c-53ea8db7d047___JR_FrgE.S 8571.JPG\n",
      "/Users/tarun/plant/PlantDataset/train/Apple___Black_rot/2b16890e-753f-4ee8-a78e-d0a7fdf8d91a___JR_FrgE.S 2838_new30degFlipLR.JPG\n",
      "/Users/tarun/plant/PlantDataset/train/Apple___Black_rot/ff4e792b-14c5-41db-af9e-0676abf8d20a___JR_FrgE.S 3088_90deg.JPG\n",
      "/Users/tarun/plant/PlantDataset/train/Apple___Black_rot/e91dc932-5dcb-45fb-bc01-bd452294e752___JR_FrgE.S 3050_90deg.JPG\n",
      "/Users/tarun/plant/PlantDataset/train/Apple___Black_rot/8cd80d06-a223-433e-adce-c0feed839b97___JR_FrgE.S 8679.JPG\n",
      "/Users/tarun/plant/PlantDataset/train/Apple___Black_rot/62cc4916-2674-472e-a48c-0ce986aa85e3___JR_FrgE.S 8793_90deg.JPG\n",
      "/Users/tarun/plant/PlantDataset/train/Apple___Black_rot/ee5b8f3c-3afe-45d9-b0ad-8aefc9dc914b___JR_FrgE.S 2987_90deg.JPG\n",
      "/Users/tarun/plant/PlantDataset/train/Apple___Black_rot/73fcc7b8-b884-45ef-a52f-6ed6b2f93c27___JR_FrgE.S 8642_90deg.JPG\n",
      "/Users/tarun/plant/PlantDataset/train/Apple___Black_rot/7add2e39-6555-4d52-ad02-b1bb061db8e7___JR_FrgE.S 3039_270deg.JPG\n",
      "SHAPE: (1987, 256, 256, 3)\n"
     ]
    }
   ],
   "source": [
    "x1 = []\n",
    "files = glob.glob (\"/Users/tarun/plant/PlantDataset/train/Apple___Black_rot/*.JPG\")\n",
    "for myFile in files:\n",
    "    print(myFile)\n",
    "    image = cv2.imread (myFile)\n",
    "    x1.append (image)\n",
    "\n",
    "print('SHAPE:', np.array(x1).shape)"
   ]
  },
  {
   "cell_type": "code",
   "execution_count": 25,
   "id": "748a0a01",
   "metadata": {
    "tags": [
     "outputPrepend"
    ]
   },
   "outputs": [
    {
     "output_type": "stream",
     "name": "stdout",
     "text": [
      "/Apple___Cedar_apple_rust/f5a27cbb-be27-4416-b9ae-a811e885c131___FREC_C.Rust 3788_new30degFlipTB.JPG\n",
      "/Users/tarun/plant/PlantDataset/train/Apple___Cedar_apple_rust/3dde7bc6-90e6-4057-a1e7-c2580ccf03a2___FREC_C.Rust 0092_90deg.JPG\n",
      "/Users/tarun/plant/PlantDataset/train/Apple___Cedar_apple_rust/b884b0a2-44bb-4bf5-b335-946b1757c822___FREC_C.Rust 3955_new30degFlipLR.JPG\n",
      "/Users/tarun/plant/PlantDataset/train/Apple___Cedar_apple_rust/5eba8ca8-b4f7-4f49-9481-9703adc53678___FREC_C.Rust 3732_new30degFlipTB.JPG\n",
      "/Users/tarun/plant/PlantDataset/train/Apple___Cedar_apple_rust/b845075b-dbb8-4b69-bec2-36e99cee7f3c___FREC_C.Rust 4038_newGRR.JPG\n",
      "/Users/tarun/plant/PlantDataset/train/Apple___Cedar_apple_rust/928e5ee5-6568-4e73-afbf-8251794d33a8___FREC_C.Rust 3747_180deg.JPG\n",
      "/Users/tarun/plant/PlantDataset/train/Apple___Cedar_apple_rust/e21f859e-9fee-43ee-a1ca-722c55885ad2___FREC_C.Rust 3852_180deg.JPG\n",
      "/Users/tarun/plant/PlantDataset/train/Apple___Cedar_apple_rust/290ad123-7702-4219-9773-17e07f22438c___FREC_C.Rust 4444.JPG\n",
      "/Users/tarun/plant/PlantDataset/train/Apple___Cedar_apple_rust/b5a75c29-c79a-4db0-8976-e33e48628ccb___FREC_C.Rust 9966_270deg.JPG\n",
      "/Users/tarun/plant/PlantDataset/train/Apple___Cedar_apple_rust/b884b0a2-44bb-4bf5-b335-946b1757c822___FREC_C.Rust 3955_270deg.JPG\n",
      "/Users/tarun/plant/PlantDataset/train/Apple___Cedar_apple_rust/1b567c7d-1041-4240-a56c-8ea94e6252b4___FREC_C.Rust 4245_new30degFlipTB.JPG\n",
      "/Users/tarun/plant/PlantDataset/train/Apple___Cedar_apple_rust/54f60420-248f-41f6-be1a-a0be7936005f___FREC_C.Rust 3801_newGRR.JPG\n",
      "/Users/tarun/plant/PlantDataset/train/Apple___Cedar_apple_rust/d4165e95-f43c-41e5-a177-cc5ad823b5b0___FREC_C.Rust 3781_newPixel25.JPG\n",
      "/Users/tarun/plant/PlantDataset/train/Apple___Cedar_apple_rust/fbf3ccdb-6130-47f3-b5e3-3d2726b4b5c7___FREC_C.Rust 4237_180deg.JPG\n",
      "/Users/tarun/plant/PlantDataset/train/Apple___Cedar_apple_rust/f5a27cbb-be27-4416-b9ae-a811e885c131___FREC_C.Rust 3788_new30degFlipLR.JPG\n",
      "/Users/tarun/plant/PlantDataset/train/Apple___Cedar_apple_rust/9dad463d-4f26-4fa5-b500-7b85613dbf46___FREC_C.Rust 9824_newGRR.JPG\n",
      "/Users/tarun/plant/PlantDataset/train/Apple___Cedar_apple_rust/1a69060b-e45e-4d95-881c-f6d1960dffcd___FREC_C.Rust 0065_newGRR.JPG\n",
      "/Users/tarun/plant/PlantDataset/train/Apple___Cedar_apple_rust/b14f7df6-7a6c-44e6-80a4-c0c11318a9a9___FREC_C.Rust 4260_90deg.JPG\n",
      "/Users/tarun/plant/PlantDataset/train/Apple___Cedar_apple_rust/4bd5f28f-beb3-4b27-b4f1-7e94b332ef93___FREC_C.Rust 9932_newPixel25.JPG\n",
      "/Users/tarun/plant/PlantDataset/train/Apple___Cedar_apple_rust/fa148283-75ee-4806-8282-63662a2e05c1___FREC_C.Rust 4416_newPixel25.JPG\n",
      "/Users/tarun/plant/PlantDataset/train/Apple___Cedar_apple_rust/1cfc6e73-1d86-4fb9-bffb-010163531711___FREC_C.Rust 3944_180deg.JPG\n",
      "/Users/tarun/plant/PlantDataset/train/Apple___Cedar_apple_rust/a4e8bc4c-4522-4a7d-b7c9-70c4b220561e___FREC_C.Rust 3570.JPG\n",
      "/Users/tarun/plant/PlantDataset/train/Apple___Cedar_apple_rust/e0d2045f-215f-4aeb-be90-0859ce7c49cc___FREC_C.Rust 3613_newGRR.JPG\n",
      "/Users/tarun/plant/PlantDataset/train/Apple___Cedar_apple_rust/3fe25d8e-4497-49bd-b4e0-9c7dd3c3c6cd___FREC_C.Rust 9960_180deg.JPG\n",
      "/Users/tarun/plant/PlantDataset/train/Apple___Cedar_apple_rust/d2465b2c-5b95-4557-b086-211e6e7a73d2___FREC_C.Rust 0045_180deg.JPG\n",
      "/Users/tarun/plant/PlantDataset/train/Apple___Cedar_apple_rust/b75430d8-c8a2-4620-9bbb-88c301cba700___FREC_C.Rust 4385_newPixel25.JPG\n",
      "/Users/tarun/plant/PlantDataset/train/Apple___Cedar_apple_rust/0fbdccdc-fb96-475a-92bb-65734592c895___FREC_C.Rust 3619_new30degFlipLR.JPG\n",
      "/Users/tarun/plant/PlantDataset/train/Apple___Cedar_apple_rust/11a41b2a-5bf3-458a-801c-0898dd280c1e___FREC_C.Rust 9874_newGRR.JPG\n",
      "/Users/tarun/plant/PlantDataset/train/Apple___Cedar_apple_rust/78821840-5d27-43ae-b830-c54e9f84432d___FREC_C.Rust 9891.JPG\n",
      "/Users/tarun/plant/PlantDataset/train/Apple___Cedar_apple_rust/de0d25d1-eb08-4b9a-ac44-07d755d1fca0___FREC_C.Rust 9856_newGRR.JPG\n",
      "/Users/tarun/plant/PlantDataset/train/Apple___Cedar_apple_rust/d4547913-b1ce-4620-b078-dbf24ea71764___FREC_C.Rust 4197_newGRR.JPG\n",
      "/Users/tarun/plant/PlantDataset/train/Apple___Cedar_apple_rust/b5a75c29-c79a-4db0-8976-e33e48628ccb___FREC_C.Rust 9966_90deg.JPG\n",
      "/Users/tarun/plant/PlantDataset/train/Apple___Cedar_apple_rust/ea119d19-1b3a-4767-af1d-e8b148a3bb8d___FREC_C.Rust 3579_newGRR.JPG\n",
      "/Users/tarun/plant/PlantDataset/train/Apple___Cedar_apple_rust/77f413dd-06cd-4e01-92f9-fdb8d0320b68___FREC_C.Rust 0089_270deg.JPG\n",
      "/Users/tarun/plant/PlantDataset/train/Apple___Cedar_apple_rust/77f413dd-06cd-4e01-92f9-fdb8d0320b68___FREC_C.Rust 0089_new30degFlipTB.JPG\n",
      "/Users/tarun/plant/PlantDataset/train/Apple___Cedar_apple_rust/fcfc7057-7de6-466b-9f7e-9b767deaf266___FREC_C.Rust 3807.JPG\n",
      "/Users/tarun/plant/PlantDataset/train/Apple___Cedar_apple_rust/23f6e0fa-3860-48a5-a3f4-4e64b54a3046___FREC_C.Rust 4336.JPG\n",
      "/Users/tarun/plant/PlantDataset/train/Apple___Cedar_apple_rust/accd43fa-2496-47ad-a24b-81da9e5f82b7___FREC_C.Rust 3783_270deg.JPG\n",
      "/Users/tarun/plant/PlantDataset/train/Apple___Cedar_apple_rust/04da297e-5238-41b1-a8a0-0c87c6c2f21f___FREC_C.Rust 4394_270deg.JPG\n",
      "/Users/tarun/plant/PlantDataset/train/Apple___Cedar_apple_rust/2dd8a8e6-8774-49a9-a712-9fa6b9ef21f3___FREC_C.Rust 3594_270deg.JPG\n",
      "/Users/tarun/plant/PlantDataset/train/Apple___Cedar_apple_rust/7ddc6bbf-42d1-4c84-b695-88077058656f___FREC_C.Rust 4079_180deg.JPG\n",
      "/Users/tarun/plant/PlantDataset/train/Apple___Cedar_apple_rust/c1d81b03-9e29-4f99-813b-1a9578defbc8___FREC_C.Rust 3942_new30degFlipLR.JPG\n",
      "/Users/tarun/plant/PlantDataset/train/Apple___Cedar_apple_rust/4485494e-e310-49b5-9ca8-73608ec4e83c___FREC_C.Rust 3631_newPixel25.JPG\n",
      "/Users/tarun/plant/PlantDataset/train/Apple___Cedar_apple_rust/c915957c-39df-4299-8061-f1f94293529a___FREC_C.Rust 3660_new30degFlipLR.JPG\n",
      "/Users/tarun/plant/PlantDataset/train/Apple___Cedar_apple_rust/ad8d7957-d361-44cd-ab49-f58e23870614___FREC_C.Rust 0110_90deg.JPG\n",
      "/Users/tarun/plant/PlantDataset/train/Apple___Cedar_apple_rust/5d4e82f2-d720-45fa-b913-13773583ee0f___FREC_C.Rust 4181_newPixel25.JPG\n",
      "/Users/tarun/plant/PlantDataset/train/Apple___Cedar_apple_rust/848e865c-bdbb-41eb-a4d1-90f1d49d1d74___FREC_C.Rust 0067_270deg.JPG\n",
      "/Users/tarun/plant/PlantDataset/train/Apple___Cedar_apple_rust/a5644e1f-cc61-4ecc-a642-a39cb32cf157___FREC_C.Rust 4450_90deg.JPG\n",
      "/Users/tarun/plant/PlantDataset/train/Apple___Cedar_apple_rust/290ad123-7702-4219-9773-17e07f22438c___FREC_C.Rust 4444_180deg.JPG\n",
      "/Users/tarun/plant/PlantDataset/train/Apple___Cedar_apple_rust/c8ef20c5-1117-4774-aeec-0f263f9f3b3c___FREC_C.Rust 3853_newPixel25.JPG\n",
      "/Users/tarun/plant/PlantDataset/train/Apple___Cedar_apple_rust/96a1d021-2c27-46a0-9891-41e449e4910e___FREC_C.Rust 3610_new30degFlipLR.JPG\n",
      "/Users/tarun/plant/PlantDataset/train/Apple___Cedar_apple_rust/7c4829bb-fb00-42fc-b19f-1fc057aa61c3___FREC_C.Rust 9986_270deg.JPG\n",
      "/Users/tarun/plant/PlantDataset/train/Apple___Cedar_apple_rust/3762c9a3-83db-44b7-88be-07c048ad293b___FREC_C.Rust 9945_new30degFlipLR.JPG\n",
      "/Users/tarun/plant/PlantDataset/train/Apple___Cedar_apple_rust/09239528-a0a0-4a2d-af03-c5d5f7a27710___FREC_C.Rust 4024_newGRR.JPG\n",
      "/Users/tarun/plant/PlantDataset/train/Apple___Cedar_apple_rust/8e4fc487-528e-4ff9-94dd-165332126018___FREC_C.Rust 9890_newPixel25.JPG\n",
      "/Users/tarun/plant/PlantDataset/train/Apple___Cedar_apple_rust/24f68f21-8edb-49df-b0f1-d75ac66631fd___FREC_C.Rust 9937_new30degFlipTB.JPG\n",
      "/Users/tarun/plant/PlantDataset/train/Apple___Cedar_apple_rust/c915957c-39df-4299-8061-f1f94293529a___FREC_C.Rust 3660_270deg.JPG\n",
      "/Users/tarun/plant/PlantDataset/train/Apple___Cedar_apple_rust/46aef257-999e-4158-9107-c5f5c7c8016a___FREC_C.Rust 4147.JPG\n",
      "/Users/tarun/plant/PlantDataset/train/Apple___Cedar_apple_rust/fb11d069-d664-4666-ab51-3a7a4284e495___FREC_C.Rust 3791_180deg.JPG\n",
      "/Users/tarun/plant/PlantDataset/train/Apple___Cedar_apple_rust/9251881a-0cf0-48e1-80c5-562704abb40c___FREC_C.Rust 3681_180deg.JPG\n",
      "/Users/tarun/plant/PlantDataset/train/Apple___Cedar_apple_rust/821d427b-7aff-475c-8d76-6c984e09463f___FREC_C.Rust 3760_newGRR.JPG\n",
      "/Users/tarun/plant/PlantDataset/train/Apple___Cedar_apple_rust/9e83b384-97cc-4b00-a283-cbed301e876a___FREC_C.Rust 4052_270deg.JPG\n",
      "/Users/tarun/plant/PlantDataset/train/Apple___Cedar_apple_rust/af89cf7a-446b-4a39-b454-99a611c10ed2___FREC_C.Rust 3862.JPG\n",
      "/Users/tarun/plant/PlantDataset/train/Apple___Cedar_apple_rust/4dc8e2a8-4374-488a-afc6-fd0ea7f15c88___FREC_C.Rust 3991_new30degFlipLR.JPG\n",
      "/Users/tarun/plant/PlantDataset/train/Apple___Cedar_apple_rust/891545af-a393-4733-89a9-847a6da455ab___FREC_C.Rust 4182_newPixel25.JPG\n",
      "/Users/tarun/plant/PlantDataset/train/Apple___Cedar_apple_rust/7ce07da8-973f-467f-98af-642a1ffbea04___FREC_C.Rust 4334_new30degFlipLR.JPG\n",
      "/Users/tarun/plant/PlantDataset/train/Apple___Cedar_apple_rust/891545af-a393-4733-89a9-847a6da455ab___FREC_C.Rust 4182_new30degFlipTB.JPG\n",
      "/Users/tarun/plant/PlantDataset/train/Apple___Cedar_apple_rust/96a1d021-2c27-46a0-9891-41e449e4910e___FREC_C.Rust 3610_newGRR.JPG\n",
      "/Users/tarun/plant/PlantDataset/train/Apple___Cedar_apple_rust/5b047b56-77e8-4bbd-8b5c-7c72821b50f0___FREC_C.Rust 0101_new30degFlipLR.JPG\n",
      "/Users/tarun/plant/PlantDataset/train/Apple___Cedar_apple_rust/492e83ef-7407-42f1-a0e2-e272cf1cdbc1___FREC_C.Rust 0024_270deg.JPG\n",
      "/Users/tarun/plant/PlantDataset/train/Apple___Cedar_apple_rust/eb94b818-0cd7-4233-8315-1138c258eb88___FREC_C.Rust 0164_new30degFlipLR.JPG\n",
      "/Users/tarun/plant/PlantDataset/train/Apple___Cedar_apple_rust/23f6e0fa-3860-48a5-a3f4-4e64b54a3046___FREC_C.Rust 4336_90deg.JPG\n",
      "/Users/tarun/plant/PlantDataset/train/Apple___Cedar_apple_rust/d4cda9ab-6b06-4551-ad3d-ee61dd78450a___FREC_C.Rust 3592_new30degFlipLR.JPG\n",
      "/Users/tarun/plant/PlantDataset/train/Apple___Cedar_apple_rust/ad8d7957-d361-44cd-ab49-f58e23870614___FREC_C.Rust 0110_newPixel25.JPG\n",
      "/Users/tarun/plant/PlantDataset/train/Apple___Cedar_apple_rust/23f6e0fa-3860-48a5-a3f4-4e64b54a3046___FREC_C.Rust 4336_newPixel25.JPG\n",
      "/Users/tarun/plant/PlantDataset/train/Apple___Cedar_apple_rust/b845075b-dbb8-4b69-bec2-36e99cee7f3c___FREC_C.Rust 4038_newPixel25.JPG\n",
      "/Users/tarun/plant/PlantDataset/train/Apple___Cedar_apple_rust/7e6e24dd-b8e6-4668-b4ae-a2480441bb78___FREC_C.Rust 3627_90deg.JPG\n",
      "/Users/tarun/plant/PlantDataset/train/Apple___Cedar_apple_rust/39c00da9-396e-4bd3-8e4a-f701c11d4fa7___FREC_C.Rust 3907_newPixel25.JPG\n",
      "/Users/tarun/plant/PlantDataset/train/Apple___Cedar_apple_rust/5b1f2adb-5065-4b7f-8b51-bc5695ad5ebb___FREC_C.Rust 9802_new30degFlipLR.JPG\n",
      "/Users/tarun/plant/PlantDataset/train/Apple___Cedar_apple_rust/20ef08f2-96ae-4148-942c-3d7708cd94d8___FREC_C.Rust 9830_newPixel25.JPG\n",
      "/Users/tarun/plant/PlantDataset/train/Apple___Cedar_apple_rust/17b9f64c-4660-424f-9c8e-d9a49654e512___FREC_C.Rust 3776_270deg.JPG\n",
      "/Users/tarun/plant/PlantDataset/train/Apple___Cedar_apple_rust/ee7229ad-03bd-4ca3-9814-ace05f041b4c___FREC_C.Rust 0187_90deg.JPG\n",
      "/Users/tarun/plant/PlantDataset/train/Apple___Cedar_apple_rust/064b14b5-af1b-4bcf-afe7-a061e5669dbb___FREC_C.Rust 9839_new30degFlipLR.JPG\n",
      "/Users/tarun/plant/PlantDataset/train/Apple___Cedar_apple_rust/dec47754-abfe-496b-a310-47d1fbb077ba___FREC_C.Rust 9910.JPG\n",
      "/Users/tarun/plant/PlantDataset/train/Apple___Cedar_apple_rust/7c4829bb-fb00-42fc-b19f-1fc057aa61c3___FREC_C.Rust 9986.JPG\n",
      "/Users/tarun/plant/PlantDataset/train/Apple___Cedar_apple_rust/bdf1ac66-9dd3-4590-8e49-ee0e754a69f5___FREC_C.Rust 0151.JPG\n",
      "/Users/tarun/plant/PlantDataset/train/Apple___Cedar_apple_rust/1ec3e679-2b1e-4243-9e62-67f8f04314b3___FREC_C.Rust 4328_newPixel25.JPG\n",
      "/Users/tarun/plant/PlantDataset/train/Apple___Cedar_apple_rust/a88eb7c4-930a-448e-923e-bef22327fe25___FREC_C.Rust 0044_180deg.JPG\n",
      "/Users/tarun/plant/PlantDataset/train/Apple___Cedar_apple_rust/3dcf5bf7-744a-439e-881b-10f73fd83616___FREC_C.Rust 3642_newPixel25.JPG\n",
      "/Users/tarun/plant/PlantDataset/train/Apple___Cedar_apple_rust/1a69060b-e45e-4d95-881c-f6d1960dffcd___FREC_C.Rust 0065_new30degFlipLR.JPG\n",
      "/Users/tarun/plant/PlantDataset/train/Apple___Cedar_apple_rust/8e4fc487-528e-4ff9-94dd-165332126018___FREC_C.Rust 9890_newGRR.JPG\n",
      "/Users/tarun/plant/PlantDataset/train/Apple___Cedar_apple_rust/4dc8e2a8-4374-488a-afc6-fd0ea7f15c88___FREC_C.Rust 3991_270deg.JPG\n",
      "/Users/tarun/plant/PlantDataset/train/Apple___Cedar_apple_rust/a523f082-e20a-40a4-b91a-6806b3794f29___FREC_C.Rust 3965.JPG\n",
      "/Users/tarun/plant/PlantDataset/train/Apple___Cedar_apple_rust/8e50e865-0621-442a-945d-f402f328151b___FREC_C.Rust 3699_newPixel25.JPG\n",
      "/Users/tarun/plant/PlantDataset/train/Apple___Cedar_apple_rust/9b3023a6-f35a-46b4-be98-022eb2ac42e4___FREC_C.Rust 9801_newGRR.JPG\n",
      "/Users/tarun/plant/PlantDataset/train/Apple___Cedar_apple_rust/821d427b-7aff-475c-8d76-6c984e09463f___FREC_C.Rust 3760.JPG\n",
      "/Users/tarun/plant/PlantDataset/train/Apple___Cedar_apple_rust/ec8120c7-f9b9-4831-a7b3-242a9c22a17a___FREC_C.Rust 3720.JPG\n",
      "/Users/tarun/plant/PlantDataset/train/Apple___Cedar_apple_rust/d46c67aa-e05c-48f7-9287-fbc727396c9e___FREC_C.Rust 4036_270deg.JPG\n",
      "/Users/tarun/plant/PlantDataset/train/Apple___Cedar_apple_rust/31cd0e16-01aa-442a-af4d-1162ac8a7b81___FREC_C.Rust 9889.JPG\n",
      "/Users/tarun/plant/PlantDataset/train/Apple___Cedar_apple_rust/7ce07da8-973f-467f-98af-642a1ffbea04___FREC_C.Rust 4334.JPG\n",
      "/Users/tarun/plant/PlantDataset/train/Apple___Cedar_apple_rust/f6af5eb5-6338-48a2-8b23-c7143b7f4a62___FREC_C.Rust 0016_newGRR.JPG\n",
      "/Users/tarun/plant/PlantDataset/train/Apple___Cedar_apple_rust/e908463e-59ee-4eac-b1c9-4a79850030bc___FREC_C.Rust 9980_newGRR.JPG\n",
      "/Users/tarun/plant/PlantDataset/train/Apple___Cedar_apple_rust/ee7229ad-03bd-4ca3-9814-ace05f041b4c___FREC_C.Rust 0187_270deg.JPG\n",
      "/Users/tarun/plant/PlantDataset/train/Apple___Cedar_apple_rust/dc75b693-0cd6-4a48-b0a0-e442070df2cc___FREC_C.Rust 9951_new30degFlipLR.JPG\n",
      "/Users/tarun/plant/PlantDataset/train/Apple___Cedar_apple_rust/82ecdc54-ded2-4767-b865-c1df8ac85eaf___FREC_C.Rust 0128_new30degFlipLR.JPG\n",
      "/Users/tarun/plant/PlantDataset/train/Apple___Cedar_apple_rust/0321e067-d13b-47d0-b3a6-76ba6f357d02___FREC_C.Rust 3667_newPixel25.JPG\n",
      "/Users/tarun/plant/PlantDataset/train/Apple___Cedar_apple_rust/5367e167-14f3-4d65-bd93-4c4b693e0bc7___FREC_C.Rust 4109_new30degFlipLR.JPG\n",
      "/Users/tarun/plant/PlantDataset/train/Apple___Cedar_apple_rust/a3bfb6c7-1f1e-407a-a2cf-40b316896185___FREC_C.Rust 9819_270deg.JPG\n",
      "/Users/tarun/plant/PlantDataset/train/Apple___Cedar_apple_rust/7ba80ce1-562a-404b-a8e9-273cd917081a___FREC_C.Rust 9833_new30degFlipLR.JPG\n",
      "/Users/tarun/plant/PlantDataset/train/Apple___Cedar_apple_rust/1cfc6e73-1d86-4fb9-bffb-010163531711___FREC_C.Rust 3944.JPG\n",
      "/Users/tarun/plant/PlantDataset/train/Apple___Cedar_apple_rust/052e3deb-0499-4685-bc39-cea7f1df0700___FREC_C.Rust 3742_newPixel25.JPG\n",
      "/Users/tarun/plant/PlantDataset/train/Apple___Cedar_apple_rust/d64bd246-5ab0-4b1e-b522-3f69668214d1___FREC_C.Rust 4290.JPG\n",
      "/Users/tarun/plant/PlantDataset/train/Apple___Cedar_apple_rust/d46c67aa-e05c-48f7-9287-fbc727396c9e___FREC_C.Rust 4036_newPixel25.JPG\n",
      "/Users/tarun/plant/PlantDataset/train/Apple___Cedar_apple_rust/17b9f64c-4660-424f-9c8e-d9a49654e512___FREC_C.Rust 3776_180deg.JPG\n",
      "/Users/tarun/plant/PlantDataset/train/Apple___Cedar_apple_rust/f02732b5-5250-4c05-80cf-fa68e71fee69___FREC_C.Rust 0234_newGRR.JPG\n",
      "/Users/tarun/plant/PlantDataset/train/Apple___Cedar_apple_rust/affae282-693e-4078-b037-de7037ecdcdc___FREC_C.Rust 9909_new30degFlipLR.JPG\n",
      "/Users/tarun/plant/PlantDataset/train/Apple___Cedar_apple_rust/cf570118-397c-434d-b158-d3539dd12786___FREC_C.Rust 0122_270deg.JPG\n",
      "/Users/tarun/plant/PlantDataset/train/Apple___Cedar_apple_rust/2ac8d689-f30a-4eee-a856-86c92f8dcbd2___FREC_C.Rust 3952.JPG\n",
      "/Users/tarun/plant/PlantDataset/train/Apple___Cedar_apple_rust/3e4303ad-6293-4522-821b-ef5dd3b658ce___FREC_C.Rust 3686_90deg.JPG\n",
      "/Users/tarun/plant/PlantDataset/train/Apple___Cedar_apple_rust/77f413dd-06cd-4e01-92f9-fdb8d0320b68___FREC_C.Rust 0089_90deg.JPG\n",
      "/Users/tarun/plant/PlantDataset/train/Apple___Cedar_apple_rust/e733b839-3fac-4c4e-ac1c-38fa89c1e739___FREC_C.Rust 3546_newPixel25.JPG\n",
      "/Users/tarun/plant/PlantDataset/train/Apple___Cedar_apple_rust/dc75b693-0cd6-4a48-b0a0-e442070df2cc___FREC_C.Rust 9951_new30degFlipTB.JPG\n",
      "/Users/tarun/plant/PlantDataset/train/Apple___Cedar_apple_rust/5367e167-14f3-4d65-bd93-4c4b693e0bc7___FREC_C.Rust 4109_new30degFlipTB.JPG\n",
      "/Users/tarun/plant/PlantDataset/train/Apple___Cedar_apple_rust/94d6b99f-2ac4-4a88-823f-3c607358d057___FREC_C.Rust 9826_newPixel25.JPG\n",
      "/Users/tarun/plant/PlantDataset/train/Apple___Cedar_apple_rust/492e83ef-7407-42f1-a0e2-e272cf1cdbc1___FREC_C.Rust 0024_180deg.JPG\n",
      "/Users/tarun/plant/PlantDataset/train/Apple___Cedar_apple_rust/b20f66dd-3447-4d83-96d8-b63d03741f47___FREC_C.Rust 3621_newGRR.JPG\n",
      "/Users/tarun/plant/PlantDataset/train/Apple___Cedar_apple_rust/c915957c-39df-4299-8061-f1f94293529a___FREC_C.Rust 3660_180deg.JPG\n",
      "/Users/tarun/plant/PlantDataset/train/Apple___Cedar_apple_rust/d58e68d2-a041-445c-8639-7359edd4827c___FREC_C.Rust 3558_180deg.JPG\n",
      "/Users/tarun/plant/PlantDataset/train/Apple___Cedar_apple_rust/f2c49716-d630-4dfa-8104-e98b8a9d7497___FREC_C.Rust 9897_90deg.JPG\n",
      "/Users/tarun/plant/PlantDataset/train/Apple___Cedar_apple_rust/9e83b384-97cc-4b00-a283-cbed301e876a___FREC_C.Rust 4052_180deg.JPG\n",
      "/Users/tarun/plant/PlantDataset/train/Apple___Cedar_apple_rust/891545af-a393-4733-89a9-847a6da455ab___FREC_C.Rust 4182_new30degFlipLR.JPG\n",
      "/Users/tarun/plant/PlantDataset/train/Apple___Cedar_apple_rust/46597071-9826-4f76-b853-083b76c5ef63___FREC_C.Rust 3666.JPG\n",
      "/Users/tarun/plant/PlantDataset/train/Apple___Cedar_apple_rust/eb94b818-0cd7-4233-8315-1138c258eb88___FREC_C.Rust 0164_new30degFlipTB.JPG\n",
      "/Users/tarun/plant/PlantDataset/train/Apple___Cedar_apple_rust/5b047b56-77e8-4bbd-8b5c-7c72821b50f0___FREC_C.Rust 0101_new30degFlipTB.JPG\n",
      "/Users/tarun/plant/PlantDataset/train/Apple___Cedar_apple_rust/a3bfb6c7-1f1e-407a-a2cf-40b316896185___FREC_C.Rust 9819_180deg.JPG\n",
      "/Users/tarun/plant/PlantDataset/train/Apple___Cedar_apple_rust/1b567c7d-1041-4240-a56c-8ea94e6252b4___FREC_C.Rust 4245_newPixel25.JPG\n",
      "/Users/tarun/plant/PlantDataset/train/Apple___Cedar_apple_rust/24f68f21-8edb-49df-b0f1-d75ac66631fd___FREC_C.Rust 9937_new30degFlipLR.JPG\n",
      "/Users/tarun/plant/PlantDataset/train/Apple___Cedar_apple_rust/4dc8e2a8-4374-488a-afc6-fd0ea7f15c88___FREC_C.Rust 3991_new30degFlipTB.JPG\n",
      "/Users/tarun/plant/PlantDataset/train/Apple___Cedar_apple_rust/0cd24b0c-0a9d-483f-8734-5c08988e029f___FREC_C.Rust 3762_new30degFlipTB.JPG\n",
      "/Users/tarun/plant/PlantDataset/train/Apple___Cedar_apple_rust/a88eb7c4-930a-448e-923e-bef22327fe25___FREC_C.Rust 0044_270deg.JPG\n",
      "/Users/tarun/plant/PlantDataset/train/Apple___Cedar_apple_rust/0ce943e7-3fed-41cb-8430-0e0f54ff2bc4___FREC_C.Rust 0014_newGRR.JPG\n",
      "/Users/tarun/plant/PlantDataset/train/Apple___Cedar_apple_rust/b75430d8-c8a2-4620-9bbb-88c301cba700___FREC_C.Rust 4385_90deg.JPG\n",
      "/Users/tarun/plant/PlantDataset/train/Apple___Cedar_apple_rust/7e6e24dd-b8e6-4668-b4ae-a2480441bb78___FREC_C.Rust 3627_newGRR.JPG\n",
      "/Users/tarun/plant/PlantDataset/train/Apple___Cedar_apple_rust/4dc8e2a8-4374-488a-afc6-fd0ea7f15c88___FREC_C.Rust 3991_180deg.JPG\n",
      "/Users/tarun/plant/PlantDataset/train/Apple___Cedar_apple_rust/82ecdc54-ded2-4767-b865-c1df8ac85eaf___FREC_C.Rust 0128_newPixel25.JPG\n",
      "/Users/tarun/plant/PlantDataset/train/Apple___Cedar_apple_rust/85f1b51d-ad5e-4ec2-a46b-2a9dade22e2a___FREC_C.Rust 9971_newPixel25.JPG\n",
      "/Users/tarun/plant/PlantDataset/train/Apple___Cedar_apple_rust/4fd1cebf-96dd-4786-b1df-021dac153ca7___FREC_C.Rust 9953_newGRR.JPG\n",
      "/Users/tarun/plant/PlantDataset/train/Apple___Cedar_apple_rust/0ce943e7-3fed-41cb-8430-0e0f54ff2bc4___FREC_C.Rust 0014_90deg.JPG\n",
      "/Users/tarun/plant/PlantDataset/train/Apple___Cedar_apple_rust/d4cda9ab-6b06-4551-ad3d-ee61dd78450a___FREC_C.Rust 3592_new30degFlipTB.JPG\n",
      "/Users/tarun/plant/PlantDataset/train/Apple___Cedar_apple_rust/5b1f2adb-5065-4b7f-8b51-bc5695ad5ebb___FREC_C.Rust 9802_new30degFlipTB.JPG\n",
      "/Users/tarun/plant/PlantDataset/train/Apple___Cedar_apple_rust/a9c36955-73f5-43d5-9e1e-03672ed95b38___FREC_C.Rust 3893_newPixel25.JPG\n",
      "/Users/tarun/plant/PlantDataset/train/Apple___Cedar_apple_rust/5271addc-c445-4af1-ba68-318c7b509e1f___FREC_C.Rust 3585_newPixel25.JPG\n",
      "SHAPE: (1760, 256, 256, 3)\n"
     ]
    }
   ],
   "source": [
    "z = []\n",
    "files = glob.glob (\"/Users/tarun/plant/PlantDataset/train/Apple___Cedar_apple_rust/*.JPG\")\n",
    "for myFile in files:\n",
    "    print(myFile)\n",
    "    image = cv2.imread (myFile)\n",
    "    z.append (image)\n",
    "\n",
    "print('SHAPE:', np.array(z).shape)"
   ]
  },
  {
   "cell_type": "code",
   "execution_count": 26,
   "id": "4d85ceef",
   "metadata": {},
   "outputs": [
    {
     "output_type": "stream",
     "name": "stdout",
     "text": [
      "SHAPE: (4003, 256, 256, 3)\n"
     ]
    }
   ],
   "source": [
    "x.extend(x1)\n",
    "print('SHAPE:', np.array(x).shape)"
   ]
  },
  {
   "cell_type": "code",
   "execution_count": 27,
   "id": "17aa6ff8",
   "metadata": {},
   "outputs": [
    {
     "output_type": "stream",
     "name": "stdout",
     "text": [
      "SHAPE: (5763, 256, 256, 3)\n"
     ]
    }
   ],
   "source": [
    "x.extend(z)\n",
    "print('SHAPE:', np.array(x).shape)"
   ]
  },
  {
   "cell_type": "code",
   "execution_count": 28,
   "id": "fe383f4c",
   "metadata": {
    "tags": [
     "outputPrepend"
    ]
   },
   "outputs": [
    {
     "output_type": "stream",
     "name": "stdout",
     "text": [
      "HL 8171_flipTB.JPG\n",
      "/Users/tarun/plant/PlantDataset/train/Apple___healthy/60be19f7-984f-4e9d-ad1d-4d21ea4c0eef___RS_HL 7966.JPG\n",
      "/Users/tarun/plant/PlantDataset/train/Apple___healthy/c0eef36a-242b-4420-9153-198446da57d4___RS_HL 7478_flipTB.JPG\n",
      "/Users/tarun/plant/PlantDataset/train/Apple___healthy/c53e1b93-f910-412e-b902-19f1693ea08d___RS_HL 5962.JPG\n",
      "/Users/tarun/plant/PlantDataset/train/Apple___healthy/d15fe9d3-0631-4482-a482-68d9169f1970___RS_HL 7894.JPG\n",
      "/Users/tarun/plant/PlantDataset/train/Apple___healthy/47c52b97-c8c7-41da-8bff-608d8db48408___RS_HL 6243.JPG\n",
      "/Users/tarun/plant/PlantDataset/train/Apple___healthy/8e153b00-732e-420f-8cea-f947b19403ad___RS_HL 7728.JPG\n",
      "/Users/tarun/plant/PlantDataset/train/Apple___healthy/55e058db-7a66-4468-b6f8-a2e3fd4d567d___RS_HL 8128.JPG\n",
      "/Users/tarun/plant/PlantDataset/train/Apple___healthy/e9a9e270-a397-4f0c-a1aa-d064d38379e2___RS_HL 8158.JPG\n",
      "/Users/tarun/plant/PlantDataset/train/Apple___healthy/ef39563c-7897-48be-b7d5-5371b873b110___RS_HL 8024.JPG\n",
      "/Users/tarun/plant/PlantDataset/train/Apple___healthy/32d7538b-1c41-49c4-a67e-4ef228aaa438___RS_HL 7529.JPG\n",
      "/Users/tarun/plant/PlantDataset/train/Apple___healthy/30995ef5-ad2d-4949-b0e0-f98b074b4a96___RS_HL 7378.JPG\n",
      "/Users/tarun/plant/PlantDataset/train/Apple___healthy/c73cded7-83a5-4c2f-8f38-0b225165822c___RS_HL 5826_flipTB.JPG\n",
      "/Users/tarun/plant/PlantDataset/train/Apple___healthy/3b7ee41f-9af2-4425-a7ea-574ef63979c8___RS_HL 7838.JPG\n",
      "/Users/tarun/plant/PlantDataset/train/Apple___healthy/bd44da3a-be59-458e-a81b-cf8f9d38724d___RS_HL 7336.JPG\n",
      "/Users/tarun/plant/PlantDataset/train/Apple___healthy/b7e9a2ff-31e8-4ddc-b739-17a8889715e7___RS_HL 6285.JPG\n",
      "/Users/tarun/plant/PlantDataset/train/Apple___healthy/bae0be56-db99-469e-909a-6035f9b85443___RS_HL 6003_flipTB.JPG\n",
      "/Users/tarun/plant/PlantDataset/train/Apple___healthy/c6086c14-d6e9-4c87-8bfe-1275b959bcf7___RS_HL 7369_flipTB.JPG\n",
      "/Users/tarun/plant/PlantDataset/train/Apple___healthy/7cbd343b-9af0-47cb-9aa5-e19e675b3057___RS_HL 7265.JPG\n",
      "/Users/tarun/plant/PlantDataset/train/Apple___healthy/688b1671-7399-46a1-b93e-53b11cf210f7___RS_HL 7842.JPG\n",
      "/Users/tarun/plant/PlantDataset/train/Apple___healthy/b30e7ae6-7ea7-4eaf-8ffa-06b0093c9f75___RS_HL 8030_flipTB.JPG\n",
      "/Users/tarun/plant/PlantDataset/train/Apple___healthy/0776a839-af75-4f70-81b5-2c8dbecc0c55___RS_HL 7851.JPG\n",
      "/Users/tarun/plant/PlantDataset/train/Apple___healthy/d3780b4b-4bf7-484a-ab4a-2c2f0894f930___RS_HL 7681_flipTB.JPG\n",
      "/Users/tarun/plant/PlantDataset/train/Apple___healthy/2255256e-1e76-4c19-8d32-f168ac6eeaa2___RS_HL 5784.JPG\n",
      "/Users/tarun/plant/PlantDataset/train/Apple___healthy/bcd55989-eab4-4d03-8fe2-2f24ba37c637___RS_HL 7394.JPG\n",
      "/Users/tarun/plant/PlantDataset/train/Apple___healthy/55b3e1e7-0bd4-4e0b-b929-19d68fc43e23___RS_HL 7653.JPG\n",
      "/Users/tarun/plant/PlantDataset/train/Apple___healthy/bede2484-dd97-4291-9132-bf015313a6bd___RS_HL 8196_flipTB.JPG\n",
      "/Users/tarun/plant/PlantDataset/train/Apple___healthy/ddbedf65-df68-476a-b6d5-c2b72d5e9b0b___RS_HL 5753_flipTB.JPG\n",
      "/Users/tarun/plant/PlantDataset/train/Apple___healthy/8fd3cfbd-fbca-4c33-a2a7-1e7ecc71ec9e___RS_HL 6091.JPG\n",
      "/Users/tarun/plant/PlantDataset/train/Apple___healthy/1b9f5fe1-6d06-4ff6-a35d-3155f623e4fb___RS_HL 6228.JPG\n",
      "/Users/tarun/plant/PlantDataset/train/Apple___healthy/d39e5813-55e2-40e1-a305-5d549efa46f4___RS_HL 8112_flipTB.JPG\n",
      "/Users/tarun/plant/PlantDataset/train/Apple___healthy/c53b358c-9cf4-4388-9743-7c3447715424___RS_HL 7880.JPG\n",
      "/Users/tarun/plant/PlantDataset/train/Apple___healthy/0098dbd9-286a-4d6a-bf4b-5459d66f88c0___RS_HL 5776.JPG\n",
      "/Users/tarun/plant/PlantDataset/train/Apple___healthy/1c807ca4-b6f5-4123-8d3b-cd44238df38d___RS_HL 6140.JPG\n",
      "/Users/tarun/plant/PlantDataset/train/Apple___healthy/eb1b7162-9f7a-4bb7-b3fc-5dcaef541b55___RS_HL 6218_flipTB.JPG\n",
      "/Users/tarun/plant/PlantDataset/train/Apple___healthy/afac9fcd-ff8d-4ab8-9be2-c5649a59d6a0___RS_HL 6324.JPG\n",
      "/Users/tarun/plant/PlantDataset/train/Apple___healthy/53b0c397-52b3-40c1-9ef5-c52b6ae7f4bb___RS_HL 6329.JPG\n",
      "/Users/tarun/plant/PlantDataset/train/Apple___healthy/de1cec8e-3880-4410-9fdb-99e79ce2dcbe___RS_HL 7819.JPG\n",
      "/Users/tarun/plant/PlantDataset/train/Apple___healthy/fac07867-acdd-4a19-8be5-987958575af0___RS_HL 5972.JPG\n",
      "/Users/tarun/plant/PlantDataset/train/Apple___healthy/53d09cc6-89ef-4180-a823-31c5f6566656___RS_HL 6070.JPG\n",
      "/Users/tarun/plant/PlantDataset/train/Apple___healthy/d2ccc66e-eedd-4a68-8b8b-d4b8018f6a56___RS_HL 5792_flipTB.JPG\n",
      "/Users/tarun/plant/PlantDataset/train/Apple___healthy/9ee2b5e6-46cf-400f-a82f-660a2ac05157___RS_HL 5643.JPG\n",
      "/Users/tarun/plant/PlantDataset/train/Apple___healthy/de10e57b-5529-437c-8d64-15821f05c574___RS_HL 8094.JPG\n",
      "/Users/tarun/plant/PlantDataset/train/Apple___healthy/c87060be-7d4e-4cb2-b688-fe5378438d16___RS_HL 7473.JPG\n",
      "/Users/tarun/plant/PlantDataset/train/Apple___healthy/f7f31913-51ef-481d-aacd-e6492daa74bd___RS_HL 5851_flipTB.JPG\n",
      "/Users/tarun/plant/PlantDataset/train/Apple___healthy/43619607-151e-41c1-b428-89f24c177515___RS_HL 5723_flipTB.JPG\n",
      "/Users/tarun/plant/PlantDataset/train/Apple___healthy/828a6b50-e2fb-4e63-a595-556aa41d43a7___RS_HL 6250.JPG\n",
      "/Users/tarun/plant/PlantDataset/train/Apple___healthy/18873cb4-cf30-414d-9ffd-c965879d84b1___RS_HL 6239.JPG\n",
      "/Users/tarun/plant/PlantDataset/train/Apple___healthy/44acd453-48a7-48db-997a-34b00a4d437a___RS_HL 7892.JPG\n",
      "/Users/tarun/plant/PlantDataset/train/Apple___healthy/42777529-bf54-4134-9bd6-34fbd135575d___RS_HL 8045_flipTB.JPG\n",
      "/Users/tarun/plant/PlantDataset/train/Apple___healthy/decde1a5-7bb9-4f9c-ae10-99b8edcb24fd___RS_HL 7375_flipTB.JPG\n",
      "/Users/tarun/plant/PlantDataset/train/Apple___healthy/6e158c4d-f39d-4667-9fb1-7ff184fd7288___RS_HL 6192.JPG\n",
      "/Users/tarun/plant/PlantDataset/train/Apple___healthy/514b3065-844b-40c8-8a86-043200a1779e___RS_HL 7721.JPG\n",
      "/Users/tarun/plant/PlantDataset/train/Apple___healthy/997e59bf-7010-4153-a994-47aee2fdc666___RS_HL 8023.JPG\n",
      "/Users/tarun/plant/PlantDataset/train/Apple___healthy/f0cc8fe8-a9ec-42bb-83b7-274f8f5f00f0___RS_HL 7940.JPG\n",
      "/Users/tarun/plant/PlantDataset/train/Apple___healthy/8b36cf3e-4ce6-477b-9773-442f5d3c90e1___RS_HL 7931.JPG\n",
      "/Users/tarun/plant/PlantDataset/train/Apple___healthy/aed7208f-81b3-4fbc-869b-87083033e048___RS_HL 8180_flipTB.JPG\n",
      "/Users/tarun/plant/PlantDataset/train/Apple___healthy/72059689-4c66-4922-8702-1a8d1fef1594___RS_HL 7729_flipTB.JPG\n",
      "/Users/tarun/plant/PlantDataset/train/Apple___healthy/95742a3e-9664-496c-8e3d-90bdd9299ae5___RS_HL 7298_flipTB.JPG\n",
      "/Users/tarun/plant/PlantDataset/train/Apple___healthy/1652d645-fb1b-4529-acbe-17093566cd2a___RS_HL 8074.JPG\n",
      "/Users/tarun/plant/PlantDataset/train/Apple___healthy/4b8147d5-9bcb-4375-ab29-de19201bc9af___RS_HL 7372.JPG\n",
      "/Users/tarun/plant/PlantDataset/train/Apple___healthy/e25a6ff6-6872-4e79-ac62-14221935dd6b___RS_HL 5736.JPG\n",
      "/Users/tarun/plant/PlantDataset/train/Apple___healthy/33acc3da-5f90-49e4-b70d-b3d60921e08e___RS_HL 7263.JPG\n",
      "/Users/tarun/plant/PlantDataset/train/Apple___healthy/229d89f1-b2ac-4427-b7e7-47139f62b73d___RS_HL 7341.JPG\n",
      "/Users/tarun/plant/PlantDataset/train/Apple___healthy/8de1ca48-0d3b-4473-bc5a-9b4a881006ff___RS_HL 7433.JPG\n",
      "/Users/tarun/plant/PlantDataset/train/Apple___healthy/afc0668a-0e88-4fa3-a91b-acf3f54551d7___RS_HL 7800_flipTB.JPG\n",
      "/Users/tarun/plant/PlantDataset/train/Apple___healthy/a58444b0-ca47-491a-8ddb-c9ae42c26747___RS_HL 6060_flipTB.JPG\n",
      "/Users/tarun/plant/PlantDataset/train/Apple___healthy/857684fb-c4a3-43a4-ad47-da0058b403cd___RS_HL 8053.JPG\n",
      "/Users/tarun/plant/PlantDataset/train/Apple___healthy/7c5e4508-64ba-4b06-8a5b-6d0147280d88___RS_HL 7577.JPG\n",
      "/Users/tarun/plant/PlantDataset/train/Apple___healthy/1230a95a-5f08-4fd6-b6e9-44c0c7b1fe8c___RS_HL 8092_flipTB.JPG\n",
      "/Users/tarun/plant/PlantDataset/train/Apple___healthy/7ac83dd1-c411-4348-82d9-f59abcf75924___RS_HL 7245.JPG\n",
      "/Users/tarun/plant/PlantDataset/train/Apple___healthy/a63295f1-8032-4db2-b0d7-4e51f6e30bad___RS_HL 6089.JPG\n",
      "/Users/tarun/plant/PlantDataset/train/Apple___healthy/735b41f2-e433-4ca1-98eb-85b9af69a7bc___RS_HL 5879.JPG\n",
      "/Users/tarun/plant/PlantDataset/train/Apple___healthy/dcaa9b5c-3581-421e-b3ee-b52097931cd6___RS_HL 7404_flipTB.JPG\n",
      "/Users/tarun/plant/PlantDataset/train/Apple___healthy/ea45b7c8-f1c2-42c0-bfec-96444c58ddd0___RS_HL 6004_flipTB.JPG\n",
      "/Users/tarun/plant/PlantDataset/train/Apple___healthy/dd296b3c-b97a-4af0-b9f2-3085b1e8b35a___RS_HL 7503_flipTB.JPG\n",
      "/Users/tarun/plant/PlantDataset/train/Apple___healthy/70491e38-2a9e-4fb7-9ab5-dfa49d46b202___RS_HL 7758.JPG\n",
      "/Users/tarun/plant/PlantDataset/train/Apple___healthy/4ffc00fe-a8ce-4103-9fab-30165684d8c5___RS_HL 7490.JPG\n",
      "/Users/tarun/plant/PlantDataset/train/Apple___healthy/4839a9b1-c89f-475c-849f-c40c44e9cfff___RS_HL 6040.JPG\n",
      "/Users/tarun/plant/PlantDataset/train/Apple___healthy/7de88302-023d-4979-ad91-88cb5c02f14b___RS_HL 7255.JPG\n",
      "/Users/tarun/plant/PlantDataset/train/Apple___healthy/1356ba06-a72d-480b-b9e5-7bc349d9e605___RS_HL 6208_flipTB.JPG\n",
      "/Users/tarun/plant/PlantDataset/train/Apple___healthy/da91e28c-3e10-406c-be5c-d10afd8e183d___RS_HL 6041_flipTB.JPG\n",
      "/Users/tarun/plant/PlantDataset/train/Apple___healthy/9ec4f654-e45e-4910-8b1f-8b9825cefbd1___RS_HL 8173.JPG\n",
      "/Users/tarun/plant/PlantDataset/train/Apple___healthy/2796f6e4-6b9f-4b3b-9f96-a6788b2e0f02___RS_HL 5712.JPG\n",
      "/Users/tarun/plant/PlantDataset/train/Apple___healthy/1cf4ad6b-8c00-42de-aff0-ee2662c54df1___RS_HL 7462.JPG\n",
      "/Users/tarun/plant/PlantDataset/train/Apple___healthy/06c0c5f7-59cd-498b-8284-51290720a18d___RS_HL 7636.JPG\n",
      "/Users/tarun/plant/PlantDataset/train/Apple___healthy/a8af4c4f-6022-4e82-99bf-b0044e1bd3c3___RS_HL 8003_flipTB.JPG\n",
      "/Users/tarun/plant/PlantDataset/train/Apple___healthy/d7308460-64d2-4e9e-aa0d-5b4f62d378ef___RS_HL 5802.JPG\n",
      "/Users/tarun/plant/PlantDataset/train/Apple___healthy/bd802f98-838a-4703-b38d-5db77ddac1b8___RS_HL 8154_flipTB.JPG\n",
      "/Users/tarun/plant/PlantDataset/train/Apple___healthy/56c8fb12-185b-4225-bdee-abdbdcc6101b___RS_HL 7574.JPG\n",
      "/Users/tarun/plant/PlantDataset/train/Apple___healthy/5941b857-a525-4aff-ba20-def608d63c4d___RS_HL 6119.JPG\n",
      "/Users/tarun/plant/PlantDataset/train/Apple___healthy/65fcf384-964b-41c5-9a54-aecb473283d2___RS_HL 7672.JPG\n",
      "/Users/tarun/plant/PlantDataset/train/Apple___healthy/ceead707-a3f7-4ac7-801e-113399dcf68a___RS_HL 7254.JPG\n",
      "/Users/tarun/plant/PlantDataset/train/Apple___healthy/d3524c88-0d60-43e0-a181-3ecc0facd54a___RS_HL 8181.JPG\n",
      "/Users/tarun/plant/PlantDataset/train/Apple___healthy/2c7fe12b-945d-4828-a327-fc17eb0c4afc___RS_HL 5942.JPG\n",
      "/Users/tarun/plant/PlantDataset/train/Apple___healthy/7519aef6-3f42-4dd9-8e9e-f3eced492298___RS_HL 5863.JPG\n",
      "/Users/tarun/plant/PlantDataset/train/Apple___healthy/bb94fafa-e2c6-41bc-8146-83835e579513___RS_HL 7585_flipTB.JPG\n",
      "/Users/tarun/plant/PlantDataset/train/Apple___healthy/9b958d1b-ef54-4290-9636-4aa08eb55dda___RS_HL 5843.JPG\n",
      "/Users/tarun/plant/PlantDataset/train/Apple___healthy/2d1542c5-6771-4433-a912-313e77945d85___RS_HL 5683.JPG\n",
      "/Users/tarun/plant/PlantDataset/train/Apple___healthy/56357993-94b9-4ed2-bc6e-22d4245f958e___RS_HL 7313_flipTB.JPG\n",
      "/Users/tarun/plant/PlantDataset/train/Apple___healthy/e0b3b9e7-70ab-4cd5-ba2f-2924568dc837___RS_HL 7774.JPG\n",
      "/Users/tarun/plant/PlantDataset/train/Apple___healthy/177523d1-d9b9-4ba5-94b9-22d5832aa664___RS_HL 5762_flipTB.JPG\n",
      "/Users/tarun/plant/PlantDataset/train/Apple___healthy/d45d99cd-6834-4e22-9a4d-f58ef0806ed0___RS_HL 7562_flipTB.JPG\n",
      "/Users/tarun/plant/PlantDataset/train/Apple___healthy/f549a038-8cff-43b5-814c-70ecbfc2476a___RS_HL 6044_flipTB.JPG\n",
      "/Users/tarun/plant/PlantDataset/train/Apple___healthy/d6035c7f-f163-4c6b-ba51-d61d10ca1fed___RS_HL 8109.JPG\n",
      "/Users/tarun/plant/PlantDataset/train/Apple___healthy/96717630-6d48-4660-b472-268f5f1304d9___RS_HL 7978.JPG\n",
      "/Users/tarun/plant/PlantDataset/train/Apple___healthy/4c50a62b-3af4-43f9-a31d-794abd545413___RS_HL 7739.JPG\n",
      "/Users/tarun/plant/PlantDataset/train/Apple___healthy/638ea400-bbc7-4642-b7f3-f57e2f3409cb___RS_HL 7718.JPG\n",
      "/Users/tarun/plant/PlantDataset/train/Apple___healthy/d9e69ce7-c65b-4c96-85ad-04fcb1698d55___RS_HL 8020_flipTB.JPG\n",
      "/Users/tarun/plant/PlantDataset/train/Apple___healthy/a64b16af-0fb8-4c07-a4d3-b3f87e33d6ca___RS_HL 5795.JPG\n",
      "/Users/tarun/plant/PlantDataset/train/Apple___healthy/e3aa227f-1e49-4a2a-8e10-6a1c5c985214___RS_HL 6057.JPG\n",
      "/Users/tarun/plant/PlantDataset/train/Apple___healthy/ab4fd2f9-da8a-4fe7-9634-50be1efa0730___RS_HL 7714.JPG\n",
      "/Users/tarun/plant/PlantDataset/train/Apple___healthy/eff8a4a7-8aa4-4549-ae15-035f85c15486___RS_HL 7783.JPG\n",
      "/Users/tarun/plant/PlantDataset/train/Apple___healthy/b876a8f5-9fee-48fe-817c-f810a55c9ee2___RS_HL 7496.JPG\n",
      "/Users/tarun/plant/PlantDataset/train/Apple___healthy/803fcf75-7e13-45a8-bb3d-352140702555___RS_HL 5677.JPG\n",
      "/Users/tarun/plant/PlantDataset/train/Apple___healthy/88076c11-c60e-4aea-afca-a1f1187eff0a___RS_HL 5706_flipTB.JPG\n",
      "/Users/tarun/plant/PlantDataset/train/Apple___healthy/cb2820ba-baab-455a-8830-df6f53bbb580___RS_HL 6097_flipTB.JPG\n",
      "/Users/tarun/plant/PlantDataset/train/Apple___healthy/3561a457-ec26-442a-925a-cdbe7f37a430___RS_HL 5786.JPG\n",
      "/Users/tarun/plant/PlantDataset/train/Apple___healthy/818082df-492c-4c5e-a3bb-a3153818d816___RS_HL 7319_flipTB.JPG\n",
      "/Users/tarun/plant/PlantDataset/train/Apple___healthy/fac70506-5bb2-40bb-a8bd-249cbe7c27e3___RS_HL 7693_flipTB.JPG\n",
      "/Users/tarun/plant/PlantDataset/train/Apple___healthy/35f0c52c-8a43-4bf2-8d55-2a827dbc5c4d___RS_HL 7251.JPG\n",
      "/Users/tarun/plant/PlantDataset/train/Apple___healthy/818854a8-1153-49bb-8981-8c6e5f34fbbe___RS_HL 8089.JPG\n",
      "/Users/tarun/plant/PlantDataset/train/Apple___healthy/269865f0-68b7-4046-8076-22e347b36567___RS_HL 6256.JPG\n",
      "/Users/tarun/plant/PlantDataset/train/Apple___healthy/cd18fd71-59d6-4d48-8c52-d31ff68f1fe2___RS_HL 5716.JPG\n",
      "/Users/tarun/plant/PlantDataset/train/Apple___healthy/53ad510e-0bf0-4366-928b-8d80f1a51b50___RS_HL 5873.JPG\n",
      "/Users/tarun/plant/PlantDataset/train/Apple___healthy/84ed8ffd-a47f-4b52-befa-938a10012a4c___RS_HL 6135.JPG\n",
      "/Users/tarun/plant/PlantDataset/train/Apple___healthy/013b7c70-5e3b-42b7-86af-167815a5b04f___RS_HL 7480.JPG\n",
      "/Users/tarun/plant/PlantDataset/train/Apple___healthy/9ae0c2e4-ff70-4be7-a231-65d4c2acd8ee___RS_HL 7476.JPG\n",
      "/Users/tarun/plant/PlantDataset/train/Apple___healthy/94e40c05-1631-42bc-99b8-ec4afafd8d7b___RS_HL 5710.JPG\n",
      "/Users/tarun/plant/PlantDataset/train/Apple___healthy/6272b53a-1ade-46fc-85e8-cf9517c6e0ed___RS_HL 7858_flipTB.JPG\n",
      "/Users/tarun/plant/PlantDataset/train/Apple___healthy/b93cadc6-112d-40f1-bec9-60c88e79f919___RS_HL 6229.JPG\n",
      "/Users/tarun/plant/PlantDataset/train/Apple___healthy/f85fb3d4-c93d-4ef3-8ff2-47171f8aea77___RS_HL 6132.JPG\n",
      "/Users/tarun/plant/PlantDataset/train/Apple___healthy/cb32fb76-f899-4c50-8599-2d9551ff036d___RS_HL 6084.JPG\n",
      "/Users/tarun/plant/PlantDataset/train/Apple___healthy/40b69253-5e07-452f-82b5-8d4f0f15e400___RS_HL 5813.JPG\n",
      "/Users/tarun/plant/PlantDataset/train/Apple___healthy/94aeb96c-b0f5-4554-9627-98d131c7b321___RS_HL 5988.JPG\n",
      "/Users/tarun/plant/PlantDataset/train/Apple___healthy/d321145e-6ab0-4ad2-8109-f34ee4389149___RS_HL 7848.JPG\n",
      "/Users/tarun/plant/PlantDataset/train/Apple___healthy/5e6846df-21b1-444c-ac0d-34c67443dbef___RS_HL 7270.JPG\n",
      "/Users/tarun/plant/PlantDataset/train/Apple___healthy/2b96d8f8-6642-4897-b43e-dde7fb2fcb2a___RS_HL 7295.JPG\n",
      "/Users/tarun/plant/PlantDataset/train/Apple___healthy/885dd825-a34b-4149-bbb0-445fa62a4e64___RS_HL 7814.JPG\n",
      "/Users/tarun/plant/PlantDataset/train/Apple___healthy/404ef08f-0f34-4530-bc4b-ce356b3c2da1___RS_HL 7484.JPG\n",
      "/Users/tarun/plant/PlantDataset/train/Apple___healthy/95884f1c-6886-41a1-9ce3-cffa1dcaf8e5___RS_HL 6051_flipTB.JPG\n",
      "/Users/tarun/plant/PlantDataset/train/Apple___healthy/d57beb14-b60a-431f-8a41-17a342cba57a___RS_HL 5737_flipTB.JPG\n",
      "/Users/tarun/plant/PlantDataset/train/Apple___healthy/12253089-92a5-4a3d-b742-f554cc2a0fe0___RS_HL 5756.JPG\n",
      "/Users/tarun/plant/PlantDataset/train/Apple___healthy/1630633a-63cb-433f-96bc-bc47a933506c___RS_HL 5718.JPG\n",
      "/Users/tarun/plant/PlantDataset/train/Apple___healthy/6504ca1b-442e-4839-b61e-2660fffcb67b___RS_HL 7952_flipTB.JPG\n",
      "/Users/tarun/plant/PlantDataset/train/Apple___healthy/ba78848a-d307-4ba9-bb8e-34de742de684___RS_HL 7266_flipTB.JPG\n",
      "/Users/tarun/plant/PlantDataset/train/Apple___healthy/3d2a5995-d293-471e-bcd3-862a8850d78d___RS_HL 5773.JPG\n",
      "/Users/tarun/plant/PlantDataset/train/Apple___healthy/dff74209-1167-4878-8236-e0bf62e877dd___RS_HL 7815.JPG\n",
      "/Users/tarun/plant/PlantDataset/train/Apple___healthy/a88f01ad-8550-49f1-9757-e9e9649d81b2___RS_HL 7360.JPG\n",
      "/Users/tarun/plant/PlantDataset/train/Apple___healthy/a1867bda-d965-4389-8a19-ed13c82df5f6___RS_HL 7655.JPG\n",
      "/Users/tarun/plant/PlantDataset/train/Apple___healthy/d8182f26-41c1-47b0-96e2-e55236736738___RS_HL 6078_flipTB.JPG\n",
      "/Users/tarun/plant/PlantDataset/train/Apple___healthy/d3543a4b-c5df-44f9-99e2-199e814e61cc___RS_HL 7805_flipTB.JPG\n",
      "/Users/tarun/plant/PlantDataset/train/Apple___healthy/e323a987-eb04-44a2-aaa0-0d85518bb3dd___RS_HL 7668.JPG\n",
      "/Users/tarun/plant/PlantDataset/train/Apple___healthy/844a6049-175e-4f5b-bdf4-142866cf0bc8___RS_HL 8022.JPG\n",
      "/Users/tarun/plant/PlantDataset/train/Apple___healthy/a1630d3e-2f30-455e-b259-d92b7b332588___RS_HL 5768_flipTB.JPG\n",
      "/Users/tarun/plant/PlantDataset/train/Apple___healthy/b68238fa-2e01-43b2-bf8c-0e9d38848b02___RS_HL 6289.JPG\n",
      "/Users/tarun/plant/PlantDataset/train/Apple___healthy/43619607-151e-41c1-b428-89f24c177515___RS_HL 5723.JPG\n",
      "/Users/tarun/plant/PlantDataset/train/Apple___healthy/a30bee25-14fb-43d2-9ab2-b179c920839c___RS_HL 5778_flipTB.JPG\n",
      "/Users/tarun/plant/PlantDataset/train/Apple___healthy/b0178b88-d413-498c-a6de-1d7cef560d3a___RS_HL 7925.JPG\n",
      "/Users/tarun/plant/PlantDataset/train/Apple___healthy/dbe783c1-f25b-4c7b-9151-4f4abab0ec31___RS_HL 5701.JPG\n",
      "/Users/tarun/plant/PlantDataset/train/Apple___healthy/bfe9c599-e0d3-4ce6-8d8a-403df3d265cc___RS_HL 8058_flipTB.JPG\n",
      "/Users/tarun/plant/PlantDataset/train/Apple___healthy/6b11324f-6b70-40d7-9cd2-f7d36b0c69cd___RS_HL 7431.JPG\n",
      "/Users/tarun/plant/PlantDataset/train/Apple___healthy/fb0953a0-71a5-4c1c-9fb3-f0d9888c2170___RS_HL 8036.JPG\n",
      "/Users/tarun/plant/PlantDataset/train/Apple___healthy/3673d121-b5de-481c-b057-d4ee5b4959b1___RS_HL 6269.JPG\n",
      "/Users/tarun/plant/PlantDataset/train/Apple___healthy/dbe91ac0-dcec-40f0-8be3-be2cafd83d5a___RS_HL 7384_flipTB.JPG\n",
      "/Users/tarun/plant/PlantDataset/train/Apple___healthy/ddbfa011-a5f6-449d-a327-b169fb547136___RS_HL 6306_flipTB.JPG\n",
      "/Users/tarun/plant/PlantDataset/train/Apple___healthy/ce2f655a-64d9-44ed-a67c-7e23db612a35___RS_HL 7915_flipTB.JPG\n",
      "/Users/tarun/plant/PlantDataset/train/Apple___healthy/7ccedff8-c997-40f4-bcd6-50e43a783389___RS_HL 7936.JPG\n",
      "/Users/tarun/plant/PlantDataset/train/Apple___healthy/d092beaf-5cb5-400a-a3b7-b8bcd501af2b___RS_HL 8076_flipTB.JPG\n",
      "/Users/tarun/plant/PlantDataset/train/Apple___healthy/58bebbd8-1cfa-486b-86b3-64cf33697320___RS_HL 7651.JPG\n",
      "/Users/tarun/plant/PlantDataset/train/Apple___healthy/8656f9ff-3a95-4350-af32-82ed2fbff533___RS_HL 7976_flipTB.JPG\n",
      "/Users/tarun/plant/PlantDataset/train/Apple___healthy/3e8eb97c-b2ad-4aeb-82ff-2f1334801c9b___RS_HL 6098.JPG\n",
      "/Users/tarun/plant/PlantDataset/train/Apple___healthy/f21adca8-b2d2-4a92-84f6-27a46e0935f8___RS_HL 8093_flipTB.JPG\n",
      "/Users/tarun/plant/PlantDataset/train/Apple___healthy/32a59e5f-9167-42d4-8040-40563e416572___RS_HL 6156.JPG\n",
      "/Users/tarun/plant/PlantDataset/train/Apple___healthy/4b22a1e7-745b-4c78-a49e-14ca8cfba26a___RS_HL 8111.JPG\n",
      "/Users/tarun/plant/PlantDataset/train/Apple___healthy/a16cfc1d-26ae-4bf8-bd37-5f1ba495447b___RS_HL 5905.JPG\n",
      "/Users/tarun/plant/PlantDataset/train/Apple___healthy/e6b195c1-8aa7-4853-9885-2a6db55b99aa___RS_HL 7409_flipTB.JPG\n",
      "/Users/tarun/plant/PlantDataset/train/Apple___healthy/4c6671cb-b873-4e04-9dd8-fafb839a3d28___RS_HL 7797.JPG\n",
      "/Users/tarun/plant/PlantDataset/train/Apple___healthy/a64b16af-0fb8-4c07-a4d3-b3f87e33d6ca___RS_HL 5795_flipTB.JPG\n",
      "/Users/tarun/plant/PlantDataset/train/Apple___healthy/76c0783e-5e1a-4a25-8371-9e7ef2a8c9d7___RS_HL 7465.JPG\n",
      "/Users/tarun/plant/PlantDataset/train/Apple___healthy/c21cf428-bfc3-4710-b5d2-69d1c0e94748___RS_HL 6268_flipTB.JPG\n",
      "/Users/tarun/plant/PlantDataset/train/Apple___healthy/d91d546a-0d07-4c6c-b1b6-1686371c0062___RS_HL 8121_flipTB.JPG\n",
      "SHAPE: (2008, 256, 256, 3)\n"
     ]
    }
   ],
   "source": [
    "u = []\n",
    "files = glob.glob (\"/Users/tarun/plant/PlantDataset/train/Apple___healthy/*.JPG\")\n",
    "for myFile in files:\n",
    "    print(myFile)\n",
    "    image = cv2.imread (myFile)\n",
    "    u.append (image)\n",
    "\n",
    "print('SHAPE:', np.array(u).shape)"
   ]
  },
  {
   "cell_type": "code",
   "execution_count": 29,
   "id": "b9380f42",
   "metadata": {},
   "outputs": [
    {
     "output_type": "stream",
     "name": "stdout",
     "text": [
      "SHAPE: (7771, 256, 256, 3)\n"
     ]
    }
   ],
   "source": [
    "x.extend(u)\n",
    "print('SHAPE:', np.array(x).shape)"
   ]
  },
  {
   "cell_type": "code",
   "execution_count": 30,
   "id": "6f0efe33",
   "metadata": {},
   "outputs": [
    {
     "output_type": "stream",
     "name": "stdout",
     "text": [
      "(5763,)\n"
     ]
    }
   ],
   "source": [
    "y=[1] * 5763 # 1 for being unhealthy\n",
    "print(np.array(y).shape)"
   ]
  },
  {
   "cell_type": "code",
   "execution_count": 31,
   "id": "27ba318b",
   "metadata": {},
   "outputs": [
    {
     "output_type": "stream",
     "name": "stdout",
     "text": [
      "(2008,)\n"
     ]
    }
   ],
   "source": [
    "yn=[0]*2008\n",
    "print(np.array(yn).shape)"
   ]
  },
  {
   "cell_type": "code",
   "execution_count": 32,
   "id": "fbaab00e",
   "metadata": {},
   "outputs": [
    {
     "output_type": "stream",
     "name": "stdout",
     "text": [
      "SHAPE: (7771,)\n"
     ]
    }
   ],
   "source": [
    "y.extend(yn)\n",
    "print('SHAPE:', np.array(y).shape)"
   ]
  },
  {
   "cell_type": "code",
   "execution_count": 33,
   "id": "2d8c5305",
   "metadata": {},
   "outputs": [
    {
     "output_type": "stream",
     "name": "stdout",
     "text": [
      "(7771, 196608)\n"
     ]
    }
   ],
   "source": [
    "X=np.array(x).reshape(7771,196608) \n",
    "print(X.shape)"
   ]
  },
  {
   "cell_type": "code",
   "execution_count": 34,
   "id": "e3061d15",
   "metadata": {},
   "outputs": [
    {
     "output_type": "execute_result",
     "data": {
      "text/plain": [
       "   0       1       2       3       4       5       6       7       8       \\\n",
       "0       0       0       0       0       0       0       0       0       0   \n",
       "1      19       0       3     152     128     136     153     126     135   \n",
       "2       7       0       3      56      46      52       8       1       6   \n",
       "3     155     121     131     147     113     123     147     113     123   \n",
       "4      23       2       0     170     149     147     174     151     149   \n",
       "\n",
       "   9       ...  196599  196600  196601  196602  196603  196604  196605  \\\n",
       "0       0  ...       0       0       0       0       0       0       0   \n",
       "1     137  ...     170     130     131     162     122     123     161   \n",
       "2      14  ...     167     141     147     163     137     143     166   \n",
       "3     155  ...     154     132     157     149     127     155     145   \n",
       "4     174  ...     148     114     115     150     116     117     149   \n",
       "\n",
       "   196606  196607  196608  \n",
       "0       0       0       1  \n",
       "1     121     122       1  \n",
       "2     140     146       1  \n",
       "3     126     153       1  \n",
       "4     115     116       1  \n",
       "\n",
       "[5 rows x 196609 columns]"
      ],
      "text/html": "<div>\n<style scoped>\n    .dataframe tbody tr th:only-of-type {\n        vertical-align: middle;\n    }\n\n    .dataframe tbody tr th {\n        vertical-align: top;\n    }\n\n    .dataframe thead th {\n        text-align: right;\n    }\n</style>\n<table border=\"1\" class=\"dataframe\">\n  <thead>\n    <tr style=\"text-align: right;\">\n      <th></th>\n      <th>0</th>\n      <th>1</th>\n      <th>2</th>\n      <th>3</th>\n      <th>4</th>\n      <th>5</th>\n      <th>6</th>\n      <th>7</th>\n      <th>8</th>\n      <th>9</th>\n      <th>...</th>\n      <th>196599</th>\n      <th>196600</th>\n      <th>196601</th>\n      <th>196602</th>\n      <th>196603</th>\n      <th>196604</th>\n      <th>196605</th>\n      <th>196606</th>\n      <th>196607</th>\n      <th>196608</th>\n    </tr>\n  </thead>\n  <tbody>\n    <tr>\n      <th>0</th>\n      <td>0</td>\n      <td>0</td>\n      <td>0</td>\n      <td>0</td>\n      <td>0</td>\n      <td>0</td>\n      <td>0</td>\n      <td>0</td>\n      <td>0</td>\n      <td>0</td>\n      <td>...</td>\n      <td>0</td>\n      <td>0</td>\n      <td>0</td>\n      <td>0</td>\n      <td>0</td>\n      <td>0</td>\n      <td>0</td>\n      <td>0</td>\n      <td>0</td>\n      <td>1</td>\n    </tr>\n    <tr>\n      <th>1</th>\n      <td>19</td>\n      <td>0</td>\n      <td>3</td>\n      <td>152</td>\n      <td>128</td>\n      <td>136</td>\n      <td>153</td>\n      <td>126</td>\n      <td>135</td>\n      <td>137</td>\n      <td>...</td>\n      <td>170</td>\n      <td>130</td>\n      <td>131</td>\n      <td>162</td>\n      <td>122</td>\n      <td>123</td>\n      <td>161</td>\n      <td>121</td>\n      <td>122</td>\n      <td>1</td>\n    </tr>\n    <tr>\n      <th>2</th>\n      <td>7</td>\n      <td>0</td>\n      <td>3</td>\n      <td>56</td>\n      <td>46</td>\n      <td>52</td>\n      <td>8</td>\n      <td>1</td>\n      <td>6</td>\n      <td>14</td>\n      <td>...</td>\n      <td>167</td>\n      <td>141</td>\n      <td>147</td>\n      <td>163</td>\n      <td>137</td>\n      <td>143</td>\n      <td>166</td>\n      <td>140</td>\n      <td>146</td>\n      <td>1</td>\n    </tr>\n    <tr>\n      <th>3</th>\n      <td>155</td>\n      <td>121</td>\n      <td>131</td>\n      <td>147</td>\n      <td>113</td>\n      <td>123</td>\n      <td>147</td>\n      <td>113</td>\n      <td>123</td>\n      <td>155</td>\n      <td>...</td>\n      <td>154</td>\n      <td>132</td>\n      <td>157</td>\n      <td>149</td>\n      <td>127</td>\n      <td>155</td>\n      <td>145</td>\n      <td>126</td>\n      <td>153</td>\n      <td>1</td>\n    </tr>\n    <tr>\n      <th>4</th>\n      <td>23</td>\n      <td>2</td>\n      <td>0</td>\n      <td>170</td>\n      <td>149</td>\n      <td>147</td>\n      <td>174</td>\n      <td>151</td>\n      <td>149</td>\n      <td>174</td>\n      <td>...</td>\n      <td>148</td>\n      <td>114</td>\n      <td>115</td>\n      <td>150</td>\n      <td>116</td>\n      <td>117</td>\n      <td>149</td>\n      <td>115</td>\n      <td>116</td>\n      <td>1</td>\n    </tr>\n  </tbody>\n</table>\n<p>5 rows × 196609 columns</p>\n</div>"
     },
     "metadata": {},
     "execution_count": 34
    }
   ],
   "source": [
    "df=pd.DataFrame(np.c_[X,y])\n",
    "df.head()"
   ]
  },
  {
   "cell_type": "code",
   "execution_count": 35,
   "id": "3a4dfa9b",
   "metadata": {},
   "outputs": [
    {
     "output_type": "execute_result",
     "data": {
      "text/plain": [
       "1    5763\n",
       "0    2008\n",
       "Name: 196608, dtype: int64"
      ]
     },
     "metadata": {},
     "execution_count": 35
    }
   ],
   "source": [
    "df[196608].value_counts()"
   ]
  },
  {
   "cell_type": "code",
   "execution_count": 36,
   "id": "80e0edfe",
   "metadata": {},
   "outputs": [],
   "source": [
    "from sklearn.model_selection import train_test_split\n",
    "train_x,test_x,train_y,test_y=train_test_split(X,y,test_size=0.25,random_state=0)"
   ]
  },
  {
   "cell_type": "code",
   "execution_count": 37,
   "id": "74f1f6f2",
   "metadata": {},
   "outputs": [],
   "source": [
    "from sklearn.linear_model import LogisticRegression\n",
    "lg=LogisticRegression(solver='lbfgs',max_iter=1000)\n",
    "lg.fit(train_x,train_y)"
   ]
  },
  {
   "cell_type": "code",
   "execution_count": null,
   "id": "e2749eeb",
   "metadata": {},
   "outputs": [
    {
     "output_type": "error",
     "ename": "Error",
     "evalue": "Direct kernel connection broken",
     "traceback": [
      "Error: Direct kernel connection broken",
      "at E.getDisposedError (/Users/tarun/.vscode/extensions/ms-toolsai.jupyter-2021.8.1013163132/out/client/extension.js:37:830936)",
      "at f.M.handleCodeRequest (/Users/tarun/.vscode/extensions/ms-toolsai.jupyter-2021.8.1013163132/out/client/extension.js:90:205677)",
      "at /Users/tarun/.vscode/extensions/ms-toolsai.jupyter-2021.8.1013163132/out/client/extension.js:90:219693",
      "at runMicrotasks (<anonymous>)",
      "at processTicksAndRejections (internal/process/task_queues.js:93:5)"
     ]
    }
   ],
   "source": [
    "pred=lg.predict(test_x)\n",
    "pred"
   ]
  },
  {
   "cell_type": "code",
   "execution_count": 18,
   "id": "e8fabf06",
   "metadata": {},
   "outputs": [
    {
     "output_type": "stream",
     "name": "stdout",
     "text": [
      "0.9397838394235718\n"
     ]
    }
   ],
   "source": [
    "scores=lg.score(test_x,test_y)\n",
    "print(scores)"
   ]
  },
  {
   "cell_type": "code",
   "execution_count": 19,
   "id": "93a71fc5",
   "metadata": {},
   "outputs": [
    {
     "output_type": "stream",
     "name": "stdout",
     "text": [
      "[[ 436   64]\n [  53 1390]]\n"
     ]
    }
   ],
   "source": [
    "from sklearn import metrics\n",
    "cm = metrics.confusion_matrix(test_y, pred)\n",
    "print(cm)"
   ]
  },
  {
   "cell_type": "code",
   "execution_count": 20,
   "id": "d323b412",
   "metadata": {},
   "outputs": [
    {
     "output_type": "execute_result",
     "data": {
      "text/plain": [
       "<AxesSubplot:>"
      ]
     },
     "metadata": {},
     "execution_count": 20
    },
    {
     "output_type": "display_data",
     "data": {
      "text/plain": "<Figure size 432x288 with 2 Axes>",
      "image/svg+xml": "<?xml version=\"1.0\" encoding=\"utf-8\" standalone=\"no\"?>\n<!DOCTYPE svg PUBLIC \"-//W3C//DTD SVG 1.1//EN\"\n  \"http://www.w3.org/Graphics/SVG/1.1/DTD/svg11.dtd\">\n<!-- Created with matplotlib (https://matplotlib.org/) -->\n<svg height=\"248.518125pt\" version=\"1.1\" viewBox=\"0 0 358.980125 248.518125\" width=\"358.980125pt\" xmlns=\"http://www.w3.org/2000/svg\" xmlns:xlink=\"http://www.w3.org/1999/xlink\">\n <metadata>\n  <rdf:RDF xmlns:cc=\"http://creativecommons.org/ns#\" xmlns:dc=\"http://purl.org/dc/elements/1.1/\" xmlns:rdf=\"http://www.w3.org/1999/02/22-rdf-syntax-ns#\">\n   <cc:Work>\n    <dc:type rdf:resource=\"http://purl.org/dc/dcmitype/StillImage\"/>\n    <dc:date>2021-07-14T11:04:06.676936</dc:date>\n    <dc:format>image/svg+xml</dc:format>\n    <dc:creator>\n     <cc:Agent>\n      <dc:title>Matplotlib v3.3.2, https://matplotlib.org/</dc:title>\n     </cc:Agent>\n    </dc:creator>\n   </cc:Work>\n  </rdf:RDF>\n </metadata>\n <defs>\n  <style type=\"text/css\">*{stroke-linecap:butt;stroke-linejoin:round;}</style>\n </defs>\n <g id=\"figure_1\">\n  <g id=\"patch_1\">\n   <path d=\"M -0 248.518125 \nL 358.980125 248.518125 \nL 358.980125 0 \nL -0 0 \nz\n\" style=\"fill:none;\"/>\n  </g>\n  <g id=\"axes_1\">\n   <g id=\"patch_2\">\n    <path d=\"M 23.878125 224.64 \nL 291.718125 224.64 \nL 291.718125 7.2 \nL 23.878125 7.2 \nz\n\" style=\"fill:#ffffff;\"/>\n   </g>\n   <g id=\"QuadMesh_1\">\n    <path clip-path=\"url(#p066b310339)\" d=\"M 23.878125 7.2 \nL 157.798125 7.2 \nL 157.798125 115.92 \nL 23.878125 115.92 \nL 23.878125 7.2 \n\" style=\"fill:#701f57;\"/>\n    <path clip-path=\"url(#p066b310339)\" d=\"M 157.798125 7.2 \nL 291.718125 7.2 \nL 291.718125 115.92 \nL 157.798125 115.92 \nL 157.798125 7.2 \n\" style=\"fill:#05061b;\"/>\n    <path clip-path=\"url(#p066b310339)\" d=\"M 23.878125 115.92 \nL 157.798125 115.92 \nL 157.798125 224.64 \nL 23.878125 224.64 \nL 23.878125 115.92 \n\" style=\"fill:#03051a;\"/>\n    <path clip-path=\"url(#p066b310339)\" d=\"M 157.798125 115.92 \nL 291.718125 115.92 \nL 291.718125 224.64 \nL 157.798125 224.64 \nL 157.798125 115.92 \n\" style=\"fill:#faebdd;\"/>\n   </g>\n   <g id=\"matplotlib.axis_1\">\n    <g id=\"xtick_1\">\n     <g id=\"line2d_1\">\n      <defs>\n       <path d=\"M 0 0 \nL 0 3.5 \n\" id=\"m8d6a7cfc17\" style=\"stroke:#000000;stroke-width:0.8;\"/>\n      </defs>\n      <g>\n       <use style=\"stroke:#000000;stroke-width:0.8;\" x=\"90.838125\" xlink:href=\"#m8d6a7cfc17\" y=\"224.64\"/>\n      </g>\n     </g>\n     <g id=\"text_1\">\n      <!-- 0 -->\n      <g transform=\"translate(87.656875 239.238437)scale(0.1 -0.1)\">\n       <defs>\n        <path d=\"M 31.78125 66.40625 \nQ 24.171875 66.40625 20.328125 58.90625 \nQ 16.5 51.421875 16.5 36.375 \nQ 16.5 21.390625 20.328125 13.890625 \nQ 24.171875 6.390625 31.78125 6.390625 \nQ 39.453125 6.390625 43.28125 13.890625 \nQ 47.125 21.390625 47.125 36.375 \nQ 47.125 51.421875 43.28125 58.90625 \nQ 39.453125 66.40625 31.78125 66.40625 \nz\nM 31.78125 74.21875 \nQ 44.046875 74.21875 50.515625 64.515625 \nQ 56.984375 54.828125 56.984375 36.375 \nQ 56.984375 17.96875 50.515625 8.265625 \nQ 44.046875 -1.421875 31.78125 -1.421875 \nQ 19.53125 -1.421875 13.0625 8.265625 \nQ 6.59375 17.96875 6.59375 36.375 \nQ 6.59375 54.828125 13.0625 64.515625 \nQ 19.53125 74.21875 31.78125 74.21875 \nz\n\" id=\"DejaVuSans-48\"/>\n       </defs>\n       <use xlink:href=\"#DejaVuSans-48\"/>\n      </g>\n     </g>\n    </g>\n    <g id=\"xtick_2\">\n     <g id=\"line2d_2\">\n      <g>\n       <use style=\"stroke:#000000;stroke-width:0.8;\" x=\"224.758125\" xlink:href=\"#m8d6a7cfc17\" y=\"224.64\"/>\n      </g>\n     </g>\n     <g id=\"text_2\">\n      <!-- 1 -->\n      <g transform=\"translate(221.576875 239.238437)scale(0.1 -0.1)\">\n       <defs>\n        <path d=\"M 12.40625 8.296875 \nL 28.515625 8.296875 \nL 28.515625 63.921875 \nL 10.984375 60.40625 \nL 10.984375 69.390625 \nL 28.421875 72.90625 \nL 38.28125 72.90625 \nL 38.28125 8.296875 \nL 54.390625 8.296875 \nL 54.390625 0 \nL 12.40625 0 \nz\n\" id=\"DejaVuSans-49\"/>\n       </defs>\n       <use xlink:href=\"#DejaVuSans-49\"/>\n      </g>\n     </g>\n    </g>\n   </g>\n   <g id=\"matplotlib.axis_2\">\n    <g id=\"ytick_1\">\n     <g id=\"line2d_3\">\n      <defs>\n       <path d=\"M 0 0 \nL -3.5 0 \n\" id=\"m526b8b80b1\" style=\"stroke:#000000;stroke-width:0.8;\"/>\n      </defs>\n      <g>\n       <use style=\"stroke:#000000;stroke-width:0.8;\" x=\"23.878125\" xlink:href=\"#m526b8b80b1\" y=\"61.56\"/>\n      </g>\n     </g>\n     <g id=\"text_3\">\n      <!-- 0 -->\n      <g transform=\"translate(14.798438 64.123281)rotate(-90)scale(0.1 -0.1)\">\n       <use xlink:href=\"#DejaVuSans-48\"/>\n      </g>\n     </g>\n    </g>\n    <g id=\"ytick_2\">\n     <g id=\"line2d_4\">\n      <g>\n       <use style=\"stroke:#000000;stroke-width:0.8;\" x=\"23.878125\" xlink:href=\"#m526b8b80b1\" y=\"170.28\"/>\n      </g>\n     </g>\n     <g id=\"text_4\">\n      <!-- 1 -->\n      <g transform=\"translate(14.798438 172.843281)rotate(-90)scale(0.1 -0.1)\">\n       <use xlink:href=\"#DejaVuSans-49\"/>\n      </g>\n     </g>\n    </g>\n   </g>\n   <g id=\"text_5\">\n    <!-- 4.4e+02 -->\n    <g style=\"fill:#ffffff;\" transform=\"translate(69.257656 64.319375)scale(0.1 -0.1)\">\n     <defs>\n      <path d=\"M 37.796875 64.3125 \nL 12.890625 25.390625 \nL 37.796875 25.390625 \nz\nM 35.203125 72.90625 \nL 47.609375 72.90625 \nL 47.609375 25.390625 \nL 58.015625 25.390625 \nL 58.015625 17.1875 \nL 47.609375 17.1875 \nL 47.609375 0 \nL 37.796875 0 \nL 37.796875 17.1875 \nL 4.890625 17.1875 \nL 4.890625 26.703125 \nz\n\" id=\"DejaVuSans-52\"/>\n      <path d=\"M 10.6875 12.40625 \nL 21 12.40625 \nL 21 0 \nL 10.6875 0 \nz\n\" id=\"DejaVuSans-46\"/>\n      <path d=\"M 56.203125 29.59375 \nL 56.203125 25.203125 \nL 14.890625 25.203125 \nQ 15.484375 15.921875 20.484375 11.0625 \nQ 25.484375 6.203125 34.421875 6.203125 \nQ 39.59375 6.203125 44.453125 7.46875 \nQ 49.3125 8.734375 54.109375 11.28125 \nL 54.109375 2.78125 \nQ 49.265625 0.734375 44.1875 -0.34375 \nQ 39.109375 -1.421875 33.890625 -1.421875 \nQ 20.796875 -1.421875 13.15625 6.1875 \nQ 5.515625 13.8125 5.515625 26.8125 \nQ 5.515625 40.234375 12.765625 48.109375 \nQ 20.015625 56 32.328125 56 \nQ 43.359375 56 49.78125 48.890625 \nQ 56.203125 41.796875 56.203125 29.59375 \nz\nM 47.21875 32.234375 \nQ 47.125 39.59375 43.09375 43.984375 \nQ 39.0625 48.390625 32.421875 48.390625 \nQ 24.90625 48.390625 20.390625 44.140625 \nQ 15.875 39.890625 15.1875 32.171875 \nz\n\" id=\"DejaVuSans-101\"/>\n      <path d=\"M 46 62.703125 \nL 46 35.5 \nL 73.1875 35.5 \nL 73.1875 27.203125 \nL 46 27.203125 \nL 46 0 \nL 37.796875 0 \nL 37.796875 27.203125 \nL 10.59375 27.203125 \nL 10.59375 35.5 \nL 37.796875 35.5 \nL 37.796875 62.703125 \nz\n\" id=\"DejaVuSans-43\"/>\n      <path d=\"M 19.1875 8.296875 \nL 53.609375 8.296875 \nL 53.609375 0 \nL 7.328125 0 \nL 7.328125 8.296875 \nQ 12.9375 14.109375 22.625 23.890625 \nQ 32.328125 33.6875 34.8125 36.53125 \nQ 39.546875 41.84375 41.421875 45.53125 \nQ 43.3125 49.21875 43.3125 52.78125 \nQ 43.3125 58.59375 39.234375 62.25 \nQ 35.15625 65.921875 28.609375 65.921875 \nQ 23.96875 65.921875 18.8125 64.3125 \nQ 13.671875 62.703125 7.8125 59.421875 \nL 7.8125 69.390625 \nQ 13.765625 71.78125 18.9375 73 \nQ 24.125 74.21875 28.421875 74.21875 \nQ 39.75 74.21875 46.484375 68.546875 \nQ 53.21875 62.890625 53.21875 53.421875 \nQ 53.21875 48.921875 51.53125 44.890625 \nQ 49.859375 40.875 45.40625 35.40625 \nQ 44.1875 33.984375 37.640625 27.21875 \nQ 31.109375 20.453125 19.1875 8.296875 \nz\n\" id=\"DejaVuSans-50\"/>\n     </defs>\n     <use xlink:href=\"#DejaVuSans-52\"/>\n     <use x=\"63.623047\" xlink:href=\"#DejaVuSans-46\"/>\n     <use x=\"95.410156\" xlink:href=\"#DejaVuSans-52\"/>\n     <use x=\"159.033203\" xlink:href=\"#DejaVuSans-101\"/>\n     <use x=\"220.556641\" xlink:href=\"#DejaVuSans-43\"/>\n     <use x=\"304.345703\" xlink:href=\"#DejaVuSans-48\"/>\n     <use x=\"367.96875\" xlink:href=\"#DejaVuSans-50\"/>\n    </g>\n   </g>\n   <g id=\"text_6\">\n    <!-- 64 -->\n    <g style=\"fill:#ffffff;\" transform=\"translate(218.395625 64.319375)scale(0.1 -0.1)\">\n     <defs>\n      <path d=\"M 33.015625 40.375 \nQ 26.375 40.375 22.484375 35.828125 \nQ 18.609375 31.296875 18.609375 23.390625 \nQ 18.609375 15.53125 22.484375 10.953125 \nQ 26.375 6.390625 33.015625 6.390625 \nQ 39.65625 6.390625 43.53125 10.953125 \nQ 47.40625 15.53125 47.40625 23.390625 \nQ 47.40625 31.296875 43.53125 35.828125 \nQ 39.65625 40.375 33.015625 40.375 \nz\nM 52.59375 71.296875 \nL 52.59375 62.3125 \nQ 48.875 64.0625 45.09375 64.984375 \nQ 41.3125 65.921875 37.59375 65.921875 \nQ 27.828125 65.921875 22.671875 59.328125 \nQ 17.53125 52.734375 16.796875 39.40625 \nQ 19.671875 43.65625 24.015625 45.921875 \nQ 28.375 48.1875 33.59375 48.1875 \nQ 44.578125 48.1875 50.953125 41.515625 \nQ 57.328125 34.859375 57.328125 23.390625 \nQ 57.328125 12.15625 50.6875 5.359375 \nQ 44.046875 -1.421875 33.015625 -1.421875 \nQ 20.359375 -1.421875 13.671875 8.265625 \nQ 6.984375 17.96875 6.984375 36.375 \nQ 6.984375 53.65625 15.1875 63.9375 \nQ 23.390625 74.21875 37.203125 74.21875 \nQ 40.921875 74.21875 44.703125 73.484375 \nQ 48.484375 72.75 52.59375 71.296875 \nz\n\" id=\"DejaVuSans-54\"/>\n     </defs>\n     <use xlink:href=\"#DejaVuSans-54\"/>\n     <use x=\"63.623047\" xlink:href=\"#DejaVuSans-52\"/>\n    </g>\n   </g>\n   <g id=\"text_7\">\n    <!-- 53 -->\n    <g style=\"fill:#ffffff;\" transform=\"translate(84.475625 173.039375)scale(0.1 -0.1)\">\n     <defs>\n      <path d=\"M 10.796875 72.90625 \nL 49.515625 72.90625 \nL 49.515625 64.59375 \nL 19.828125 64.59375 \nL 19.828125 46.734375 \nQ 21.96875 47.46875 24.109375 47.828125 \nQ 26.265625 48.1875 28.421875 48.1875 \nQ 40.625 48.1875 47.75 41.5 \nQ 54.890625 34.8125 54.890625 23.390625 \nQ 54.890625 11.625 47.5625 5.09375 \nQ 40.234375 -1.421875 26.90625 -1.421875 \nQ 22.3125 -1.421875 17.546875 -0.640625 \nQ 12.796875 0.140625 7.71875 1.703125 \nL 7.71875 11.625 \nQ 12.109375 9.234375 16.796875 8.0625 \nQ 21.484375 6.890625 26.703125 6.890625 \nQ 35.15625 6.890625 40.078125 11.328125 \nQ 45.015625 15.765625 45.015625 23.390625 \nQ 45.015625 31 40.078125 35.4375 \nQ 35.15625 39.890625 26.703125 39.890625 \nQ 22.75 39.890625 18.8125 39.015625 \nQ 14.890625 38.140625 10.796875 36.28125 \nz\n\" id=\"DejaVuSans-53\"/>\n      <path d=\"M 40.578125 39.3125 \nQ 47.65625 37.796875 51.625 33 \nQ 55.609375 28.21875 55.609375 21.1875 \nQ 55.609375 10.40625 48.1875 4.484375 \nQ 40.765625 -1.421875 27.09375 -1.421875 \nQ 22.515625 -1.421875 17.65625 -0.515625 \nQ 12.796875 0.390625 7.625 2.203125 \nL 7.625 11.71875 \nQ 11.71875 9.328125 16.59375 8.109375 \nQ 21.484375 6.890625 26.8125 6.890625 \nQ 36.078125 6.890625 40.9375 10.546875 \nQ 45.796875 14.203125 45.796875 21.1875 \nQ 45.796875 27.640625 41.28125 31.265625 \nQ 36.765625 34.90625 28.71875 34.90625 \nL 20.21875 34.90625 \nL 20.21875 43.015625 \nL 29.109375 43.015625 \nQ 36.375 43.015625 40.234375 45.921875 \nQ 44.09375 48.828125 44.09375 54.296875 \nQ 44.09375 59.90625 40.109375 62.90625 \nQ 36.140625 65.921875 28.71875 65.921875 \nQ 24.65625 65.921875 20.015625 65.03125 \nQ 15.375 64.15625 9.8125 62.3125 \nL 9.8125 71.09375 \nQ 15.4375 72.65625 20.34375 73.4375 \nQ 25.25 74.21875 29.59375 74.21875 \nQ 40.828125 74.21875 47.359375 69.109375 \nQ 53.90625 64.015625 53.90625 55.328125 \nQ 53.90625 49.265625 50.4375 45.09375 \nQ 46.96875 40.921875 40.578125 39.3125 \nz\n\" id=\"DejaVuSans-51\"/>\n     </defs>\n     <use xlink:href=\"#DejaVuSans-53\"/>\n     <use x=\"63.623047\" xlink:href=\"#DejaVuSans-51\"/>\n    </g>\n   </g>\n   <g id=\"text_8\">\n    <!-- 1.4e+03 -->\n    <g style=\"fill:#262626;\" transform=\"translate(203.177656 173.039375)scale(0.1 -0.1)\">\n     <use xlink:href=\"#DejaVuSans-49\"/>\n     <use x=\"63.623047\" xlink:href=\"#DejaVuSans-46\"/>\n     <use x=\"95.410156\" xlink:href=\"#DejaVuSans-52\"/>\n     <use x=\"159.033203\" xlink:href=\"#DejaVuSans-101\"/>\n     <use x=\"220.556641\" xlink:href=\"#DejaVuSans-43\"/>\n     <use x=\"304.345703\" xlink:href=\"#DejaVuSans-48\"/>\n     <use x=\"367.96875\" xlink:href=\"#DejaVuSans-51\"/>\n    </g>\n   </g>\n  </g>\n  <g id=\"axes_2\">\n   <g id=\"patch_3\">\n    <path clip-path=\"url(#p5bb4589d4c)\" d=\"M 308.458125 224.64 \nL 308.458125 223.790625 \nL 308.458125 8.049375 \nL 308.458125 7.2 \nL 319.330125 7.2 \nL 319.330125 8.049375 \nL 319.330125 223.790625 \nL 319.330125 224.64 \nz\n\" style=\"fill:#ffffff;stroke:#ffffff;stroke-linejoin:miter;stroke-width:0.01;\"/>\n   </g>\n   <image height=\"217\" id=\"imageab3de03bf3\" transform=\"scale(1 -1)translate(0 -217)\" width=\"11\" x=\"308\" xlink:href=\"data:image/png;base64,\niVBORw0KGgoAAAANSUhEUgAAAAsAAADZCAYAAAD2WsoCAAABX0lEQVR4nNWa2w0DMQjAeN0S3X/OXlfAH5ZovhEyhqS5qDnP543lmszcxtLgAMFdJWUurcAiGCgzsuFhHPHc6dk4MXWoQLEpNzKb7dZsaBgTaDb2y5wNrd0QY7/Mk58EjzZIzIbXbm9brUPp8HvqoA2AIarTmJGNI8wIg+1ukpkVuP48+FsbJJjY8DDmBgZrN2EehHHEhoYx7z61uAfrBgaykWExwwIBRjNmEgxEi+oSnAXTJLhIMMKAmdexMV1fKbNYIDjsGHM1sAGZAQZSJ9oYbTYQs6auwFWGYYQ3G14wuPeQxx6qjmUGN3OWGdwLJgiGx8wwwM8mzEyeLFBmGEze6zQbQZ4NPRtJbES3hIGa4nnO0QoU200yoz0IPnlVG6SDHgaywc461EFLHdzdGoZXIMrcaPhvMLN2o3nWNmzemDrRBinwxvBnP1Jmc/iJZ9Ju9C+LKwWydmtnnVXgD2R4KiPLLY7SAAAAAElFTkSuQmCC\" y=\"-7\"/>\n   <g id=\"matplotlib.axis_3\"/>\n   <g id=\"matplotlib.axis_4\">\n    <g id=\"ytick_3\">\n     <g id=\"line2d_5\">\n      <defs>\n       <path d=\"M 0 0 \nL 3.5 0 \n\" id=\"m2b735011b9\" style=\"stroke:#000000;stroke-width:0.8;\"/>\n      </defs>\n      <g>\n       <use style=\"stroke:#000000;stroke-width:0.8;\" x=\"319.330125\" xlink:href=\"#m2b735011b9\" y=\"200.732984\"/>\n      </g>\n     </g>\n     <g id=\"text_9\">\n      <!-- 200 -->\n      <g transform=\"translate(326.330125 204.532203)scale(0.1 -0.1)\">\n       <use xlink:href=\"#DejaVuSans-50\"/>\n       <use x=\"63.623047\" xlink:href=\"#DejaVuSans-48\"/>\n       <use x=\"127.246094\" xlink:href=\"#DejaVuSans-48\"/>\n      </g>\n     </g>\n    </g>\n    <g id=\"ytick_4\">\n     <g id=\"line2d_6\">\n      <g>\n       <use style=\"stroke:#000000;stroke-width:0.8;\" x=\"319.330125\" xlink:href=\"#m2b735011b9\" y=\"168.206432\"/>\n      </g>\n     </g>\n     <g id=\"text_10\">\n      <!-- 400 -->\n      <g transform=\"translate(326.330125 172.005651)scale(0.1 -0.1)\">\n       <use xlink:href=\"#DejaVuSans-52\"/>\n       <use x=\"63.623047\" xlink:href=\"#DejaVuSans-48\"/>\n       <use x=\"127.246094\" xlink:href=\"#DejaVuSans-48\"/>\n      </g>\n     </g>\n    </g>\n    <g id=\"ytick_5\">\n     <g id=\"line2d_7\">\n      <g>\n       <use style=\"stroke:#000000;stroke-width:0.8;\" x=\"319.330125\" xlink:href=\"#m2b735011b9\" y=\"135.67988\"/>\n      </g>\n     </g>\n     <g id=\"text_11\">\n      <!-- 600 -->\n      <g transform=\"translate(326.330125 139.479099)scale(0.1 -0.1)\">\n       <use xlink:href=\"#DejaVuSans-54\"/>\n       <use x=\"63.623047\" xlink:href=\"#DejaVuSans-48\"/>\n       <use x=\"127.246094\" xlink:href=\"#DejaVuSans-48\"/>\n      </g>\n     </g>\n    </g>\n    <g id=\"ytick_6\">\n     <g id=\"line2d_8\">\n      <g>\n       <use style=\"stroke:#000000;stroke-width:0.8;\" x=\"319.330125\" xlink:href=\"#m2b735011b9\" y=\"103.153328\"/>\n      </g>\n     </g>\n     <g id=\"text_12\">\n      <!-- 800 -->\n      <g transform=\"translate(326.330125 106.952547)scale(0.1 -0.1)\">\n       <defs>\n        <path d=\"M 31.78125 34.625 \nQ 24.75 34.625 20.71875 30.859375 \nQ 16.703125 27.09375 16.703125 20.515625 \nQ 16.703125 13.921875 20.71875 10.15625 \nQ 24.75 6.390625 31.78125 6.390625 \nQ 38.8125 6.390625 42.859375 10.171875 \nQ 46.921875 13.96875 46.921875 20.515625 \nQ 46.921875 27.09375 42.890625 30.859375 \nQ 38.875 34.625 31.78125 34.625 \nz\nM 21.921875 38.8125 \nQ 15.578125 40.375 12.03125 44.71875 \nQ 8.5 49.078125 8.5 55.328125 \nQ 8.5 64.0625 14.71875 69.140625 \nQ 20.953125 74.21875 31.78125 74.21875 \nQ 42.671875 74.21875 48.875 69.140625 \nQ 55.078125 64.0625 55.078125 55.328125 \nQ 55.078125 49.078125 51.53125 44.71875 \nQ 48 40.375 41.703125 38.8125 \nQ 48.828125 37.15625 52.796875 32.3125 \nQ 56.78125 27.484375 56.78125 20.515625 \nQ 56.78125 9.90625 50.3125 4.234375 \nQ 43.84375 -1.421875 31.78125 -1.421875 \nQ 19.734375 -1.421875 13.25 4.234375 \nQ 6.78125 9.90625 6.78125 20.515625 \nQ 6.78125 27.484375 10.78125 32.3125 \nQ 14.796875 37.15625 21.921875 38.8125 \nz\nM 18.3125 54.390625 \nQ 18.3125 48.734375 21.84375 45.5625 \nQ 25.390625 42.390625 31.78125 42.390625 \nQ 38.140625 42.390625 41.71875 45.5625 \nQ 45.3125 48.734375 45.3125 54.390625 \nQ 45.3125 60.0625 41.71875 63.234375 \nQ 38.140625 66.40625 31.78125 66.40625 \nQ 25.390625 66.40625 21.84375 63.234375 \nQ 18.3125 60.0625 18.3125 54.390625 \nz\n\" id=\"DejaVuSans-56\"/>\n       </defs>\n       <use xlink:href=\"#DejaVuSans-56\"/>\n       <use x=\"63.623047\" xlink:href=\"#DejaVuSans-48\"/>\n       <use x=\"127.246094\" xlink:href=\"#DejaVuSans-48\"/>\n      </g>\n     </g>\n    </g>\n    <g id=\"ytick_7\">\n     <g id=\"line2d_9\">\n      <g>\n       <use style=\"stroke:#000000;stroke-width:0.8;\" x=\"319.330125\" xlink:href=\"#m2b735011b9\" y=\"70.626776\"/>\n      </g>\n     </g>\n     <g id=\"text_13\">\n      <!-- 1000 -->\n      <g transform=\"translate(326.330125 74.425995)scale(0.1 -0.1)\">\n       <use xlink:href=\"#DejaVuSans-49\"/>\n       <use x=\"63.623047\" xlink:href=\"#DejaVuSans-48\"/>\n       <use x=\"127.246094\" xlink:href=\"#DejaVuSans-48\"/>\n       <use x=\"190.869141\" xlink:href=\"#DejaVuSans-48\"/>\n      </g>\n     </g>\n    </g>\n    <g id=\"ytick_8\">\n     <g id=\"line2d_10\">\n      <g>\n       <use style=\"stroke:#000000;stroke-width:0.8;\" x=\"319.330125\" xlink:href=\"#m2b735011b9\" y=\"38.100224\"/>\n      </g>\n     </g>\n     <g id=\"text_14\">\n      <!-- 1200 -->\n      <g transform=\"translate(326.330125 41.899443)scale(0.1 -0.1)\">\n       <use xlink:href=\"#DejaVuSans-49\"/>\n       <use x=\"63.623047\" xlink:href=\"#DejaVuSans-50\"/>\n       <use x=\"127.246094\" xlink:href=\"#DejaVuSans-48\"/>\n       <use x=\"190.869141\" xlink:href=\"#DejaVuSans-48\"/>\n      </g>\n     </g>\n    </g>\n   </g>\n   <g id=\"patch_4\">\n    <path d=\"M 308.458125 224.64 \nL 308.458125 223.790625 \nL 308.458125 8.049375 \nL 308.458125 7.2 \nL 319.330125 7.2 \nL 319.330125 8.049375 \nL 319.330125 223.790625 \nL 319.330125 224.64 \nz\n\" style=\"fill:none;\"/>\n   </g>\n  </g>\n </g>\n <defs>\n  <clipPath id=\"p066b310339\">\n   <rect height=\"217.44\" width=\"267.84\" x=\"23.878125\" y=\"7.2\"/>\n  </clipPath>\n  <clipPath id=\"p5bb4589d4c\">\n   <rect height=\"217.44\" width=\"10.872\" x=\"308.458125\" y=\"7.2\"/>\n  </clipPath>\n </defs>\n</svg>\n",
      "image/png": "[encoded data removed]"
     },
     "metadata": {
      "needs_background": "light"
     }
    }
   ],
   "source": [
    "import seaborn as sns\n",
    "sns.heatmap(cm,annot=True)"
   ]
  },
  {
   "cell_type": "code",
   "execution_count": 21,
   "id": "1ea08737",
   "metadata": {},
   "outputs": [
    {
     "output_type": "stream",
     "name": "stdout",
     "text": [
      "              precision    recall  f1-score   support\n\n           0       0.89      0.87      0.88       500\n           1       0.96      0.96      0.96      1443\n\n    accuracy                           0.94      1943\n   macro avg       0.92      0.92      0.92      1943\nweighted avg       0.94      0.94      0.94      1943\n\n"
     ]
    }
   ],
   "source": [
    "from sklearn.metrics import classification_report\n",
    "print(classification_report(test_y,pred))"
   ]
  }
 ],
 "metadata": {
  "interpreter": {
   "hash": "dca0ade3e726a953b501b15e8e990130d2b7799f14cfd9f4271676035ebe5511"
  },
  "kernelspec": {
   "name": "python3",
   "display_name": "Python 3.7.9 64-bit (conda)"
  },
  "language_info": {
   "codemirror_mode": {
    "name": "ipython",
    "version": 3
   },
   "file_extension": ".py",
   "mimetype": "text/x-python",
   "name": "python",
   "nbconvert_exporter": "python",
   "pygments_lexer": "ipython3",
   "version": "3.7.9"
  }
 },
 "nbformat": 4,
 "nbformat_minor": 5
}