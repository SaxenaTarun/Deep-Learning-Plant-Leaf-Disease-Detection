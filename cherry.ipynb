{
 "cells": [
  {
   "cell_type": "code",
   "execution_count": 2,
   "metadata": {},
   "outputs": [
    {
     "output_type": "stream",
     "name": "stderr",
     "text": [
      "/opt/anaconda3/lib/python3.7/site-packages/tensorflow/python/framework/dtypes.py:516: FutureWarning: Passing (type, 1) or '1type' as a synonym of type is deprecated; in a future version of numpy, it will be understood as (type, (1,)) / '(1,)type'.\n",
      "  _np_qint8 = np.dtype([(\"qint8\", np.int8, 1)])\n",
      "/opt/anaconda3/lib/python3.7/site-packages/tensorflow/python/framework/dtypes.py:517: FutureWarning: Passing (type, 1) or '1type' as a synonym of type is deprecated; in a future version of numpy, it will be understood as (type, (1,)) / '(1,)type'.\n",
      "  _np_quint8 = np.dtype([(\"quint8\", np.uint8, 1)])\n",
      "/opt/anaconda3/lib/python3.7/site-packages/tensorflow/python/framework/dtypes.py:518: FutureWarning: Passing (type, 1) or '1type' as a synonym of type is deprecated; in a future version of numpy, it will be understood as (type, (1,)) / '(1,)type'.\n",
      "  _np_qint16 = np.dtype([(\"qint16\", np.int16, 1)])\n",
      "/opt/anaconda3/lib/python3.7/site-packages/tensorflow/python/framework/dtypes.py:519: FutureWarning: Passing (type, 1) or '1type' as a synonym of type is deprecated; in a future version of numpy, it will be understood as (type, (1,)) / '(1,)type'.\n",
      "  _np_quint16 = np.dtype([(\"quint16\", np.uint16, 1)])\n",
      "/opt/anaconda3/lib/python3.7/site-packages/tensorflow/python/framework/dtypes.py:520: FutureWarning: Passing (type, 1) or '1type' as a synonym of type is deprecated; in a future version of numpy, it will be understood as (type, (1,)) / '(1,)type'.\n",
      "  _np_qint32 = np.dtype([(\"qint32\", np.int32, 1)])\n",
      "/opt/anaconda3/lib/python3.7/site-packages/tensorflow/python/framework/dtypes.py:525: FutureWarning: Passing (type, 1) or '1type' as a synonym of type is deprecated; in a future version of numpy, it will be understood as (type, (1,)) / '(1,)type'.\n",
      "  np_resource = np.dtype([(\"resource\", np.ubyte, 1)])\n",
      "/opt/anaconda3/lib/python3.7/site-packages/tensorboard/compat/tensorflow_stub/dtypes.py:541: FutureWarning: Passing (type, 1) or '1type' as a synonym of type is deprecated; in a future version of numpy, it will be understood as (type, (1,)) / '(1,)type'.\n",
      "  _np_qint8 = np.dtype([(\"qint8\", np.int8, 1)])\n",
      "/opt/anaconda3/lib/python3.7/site-packages/tensorboard/compat/tensorflow_stub/dtypes.py:542: FutureWarning: Passing (type, 1) or '1type' as a synonym of type is deprecated; in a future version of numpy, it will be understood as (type, (1,)) / '(1,)type'.\n",
      "  _np_quint8 = np.dtype([(\"quint8\", np.uint8, 1)])\n",
      "/opt/anaconda3/lib/python3.7/site-packages/tensorboard/compat/tensorflow_stub/dtypes.py:543: FutureWarning: Passing (type, 1) or '1type' as a synonym of type is deprecated; in a future version of numpy, it will be understood as (type, (1,)) / '(1,)type'.\n",
      "  _np_qint16 = np.dtype([(\"qint16\", np.int16, 1)])\n",
      "/opt/anaconda3/lib/python3.7/site-packages/tensorboard/compat/tensorflow_stub/dtypes.py:544: FutureWarning: Passing (type, 1) or '1type' as a synonym of type is deprecated; in a future version of numpy, it will be understood as (type, (1,)) / '(1,)type'.\n",
      "  _np_quint16 = np.dtype([(\"quint16\", np.uint16, 1)])\n",
      "/opt/anaconda3/lib/python3.7/site-packages/tensorboard/compat/tensorflow_stub/dtypes.py:545: FutureWarning: Passing (type, 1) or '1type' as a synonym of type is deprecated; in a future version of numpy, it will be understood as (type, (1,)) / '(1,)type'.\n",
      "  _np_qint32 = np.dtype([(\"qint32\", np.int32, 1)])\n",
      "/opt/anaconda3/lib/python3.7/site-packages/tensorboard/compat/tensorflow_stub/dtypes.py:550: FutureWarning: Passing (type, 1) or '1type' as a synonym of type is deprecated; in a future version of numpy, it will be understood as (type, (1,)) / '(1,)type'.\n",
      "  np_resource = np.dtype([(\"resource\", np.ubyte, 1)])\n"
     ]
    }
   ],
   "source": [
    "import numpy as np\n",
    "import pandas as pd\n",
    "import os, sys\n",
    "from IPython.display import display\n",
    "from IPython.display import Image as _Imgdis\n",
    "from PIL import Image\n",
    "import tensorflow as tf\n",
    "import cv2\n",
    "import glob\n",
    "import numpy as np"
   ]
  },
  {
   "cell_type": "code",
   "execution_count": 3,
   "metadata": {
    "tags": [
     "outputPrepend"
    ]
   },
   "outputs": [
    {
     "output_type": "stream",
     "name": "stdout",
     "text": [
      "JPG\n",
      "/Users/tarun/plant/PlantDataset/train/Cherry_(including_sour)___Powdery_mildew/b3da442a-b270-4488-b9a0-c55707d5d0e2___FREC_Pwd.M 4608.JPG\n",
      "/Users/tarun/plant/PlantDataset/train/Cherry_(including_sour)___Powdery_mildew/3531b280-cdf5-4983-b83e-21259674d575___FREC_Pwd.M 4907.JPG\n",
      "/Users/tarun/plant/PlantDataset/train/Cherry_(including_sour)___Powdery_mildew/5d785df7-f03c-4a2d-be73-567831c490a8___FREC_Pwd.M 4616_flipLR.JPG\n",
      "/Users/tarun/plant/PlantDataset/train/Cherry_(including_sour)___Powdery_mildew/65ab8993-f636-4bad-9771-2f07cd178cb9___FREC_Pwd.M 0390_flipLR.JPG\n",
      "/Users/tarun/plant/PlantDataset/train/Cherry_(including_sour)___Powdery_mildew/4f75ddb3-f360-4d18-9d1b-f3fe7ffc1798___FREC_Pwd.M 4595.JPG\n",
      "/Users/tarun/plant/PlantDataset/train/Cherry_(including_sour)___Powdery_mildew/1c0ef846-0a17-4c88-b0c2-11eea5a40378___FREC_Pwd.M 0525_flipLR.JPG\n",
      "/Users/tarun/plant/PlantDataset/train/Cherry_(including_sour)___Powdery_mildew/56b0482b-80d1-4cd8-82c9-478b8d9e296e___FREC_Pwd.M 0594_flipLR.JPG\n",
      "/Users/tarun/plant/PlantDataset/train/Cherry_(including_sour)___Powdery_mildew/d0f63be7-d2c4-4041-819f-9167015d1fed___FREC_Pwd.M 0486_flipLR.JPG\n",
      "/Users/tarun/plant/PlantDataset/train/Cherry_(including_sour)___Powdery_mildew/50bd37ab-bb09-4edc-ba61-70ace46811c3___FREC_Pwd.M 5015.JPG\n",
      "/Users/tarun/plant/PlantDataset/train/Cherry_(including_sour)___Powdery_mildew/9f1837a8-5fe3-429a-acaa-2f851be4cbc9___FREC_Pwd.M 4843.JPG\n",
      "/Users/tarun/plant/PlantDataset/train/Cherry_(including_sour)___Powdery_mildew/b8ff7b14-e3b8-4bdc-821e-39fa9736de9c___FREC_Pwd.M 0261_flipLR.JPG\n",
      "/Users/tarun/plant/PlantDataset/train/Cherry_(including_sour)___Powdery_mildew/b24c156d-6183-49a7-86ad-3b90c943d470___FREC_Pwd.M 4889_flipLR.JPG\n",
      "/Users/tarun/plant/PlantDataset/train/Cherry_(including_sour)___Powdery_mildew/1935522e-77d1-4fc2-a84f-5f32835cf0d0___FREC_Pwd.M 4792.JPG\n",
      "/Users/tarun/plant/PlantDataset/train/Cherry_(including_sour)___Powdery_mildew/1e41d6af-63c2-47c2-8a71-f41e558eadbf___FREC_Pwd.M 4557.JPG\n",
      "/Users/tarun/plant/PlantDataset/train/Cherry_(including_sour)___Powdery_mildew/3928d15a-b841-4524-a5be-b34546c358f2___FREC_Pwd.M 0324.JPG\n",
      "/Users/tarun/plant/PlantDataset/train/Cherry_(including_sour)___Powdery_mildew/e1c64177-d299-42a7-9d72-7ec29a326460___FREC_Pwd.M 4834.JPG\n",
      "/Users/tarun/plant/PlantDataset/train/Cherry_(including_sour)___Powdery_mildew/a76ebe42-b9c1-4848-8b89-b62ef6e1a91c___FREC_Pwd.M 5115.JPG\n",
      "/Users/tarun/plant/PlantDataset/train/Cherry_(including_sour)___Powdery_mildew/1935522e-77d1-4fc2-a84f-5f32835cf0d0___FREC_Pwd.M 4792_flipLR.JPG\n",
      "/Users/tarun/plant/PlantDataset/train/Cherry_(including_sour)___Powdery_mildew/84476972-818a-486a-bb2f-a685bc9dac24___FREC_Pwd.M 0407_flipLR.JPG\n",
      "/Users/tarun/plant/PlantDataset/train/Cherry_(including_sour)___Powdery_mildew/ab269e53-f834-4f28-a175-c24de184f407___FREC_Pwd.M 0511_flipLR.JPG\n",
      "/Users/tarun/plant/PlantDataset/train/Cherry_(including_sour)___Powdery_mildew/0c22dfef-7413-4f46-b949-903d238678a3___FREC_Pwd.M 5094.JPG\n",
      "/Users/tarun/plant/PlantDataset/train/Cherry_(including_sour)___Powdery_mildew/13c13e29-d8eb-4013-9cda-674e92b8d4b4___FREC_Pwd.M 5006.JPG\n",
      "/Users/tarun/plant/PlantDataset/train/Cherry_(including_sour)___Powdery_mildew/17512756-a606-4ea5-9443-aae374a46e86___FREC_Pwd.M 0504.JPG\n",
      "/Users/tarun/plant/PlantDataset/train/Cherry_(including_sour)___Powdery_mildew/68ae9ec5-0f6e-42f9-90ad-c620230e5f03___FREC_Pwd.M 0485_flipLR.JPG\n",
      "/Users/tarun/plant/PlantDataset/train/Cherry_(including_sour)___Powdery_mildew/486df68c-c24c-4ab0-87b0-6e79a8435ce8___FREC_Pwd.M 0399_flipLR.JPG\n",
      "/Users/tarun/plant/PlantDataset/train/Cherry_(including_sour)___Powdery_mildew/908003f7-4b82-4be9-9d9d-e2e8debb230e___FREC_Pwd.M 0453_flipLR.JPG\n",
      "/Users/tarun/plant/PlantDataset/train/Cherry_(including_sour)___Powdery_mildew/c48bbceb-9d7d-4793-a520-d40142ea1705___FREC_Pwd.M 0429.JPG\n",
      "/Users/tarun/plant/PlantDataset/train/Cherry_(including_sour)___Powdery_mildew/fd16a9a9-e8d6-4122-b393-a31e787b9d28___FREC_Pwd.M 4762_flipLR.JPG\n",
      "/Users/tarun/plant/PlantDataset/train/Cherry_(including_sour)___Powdery_mildew/0fe7c76c-cc34-4b75-b254-45c62cbab52a___FREC_Pwd.M 4783_flipLR.JPG\n",
      "/Users/tarun/plant/PlantDataset/train/Cherry_(including_sour)___Powdery_mildew/a0e5fb1a-b456-4f0c-9fa2-e7f9976c72c9___FREC_Pwd.M 0332.JPG\n",
      "/Users/tarun/plant/PlantDataset/train/Cherry_(including_sour)___Powdery_mildew/31a54a72-3f8a-4b00-b283-7b8b20d72234___FREC_Pwd.M 4685_flipLR.JPG\n",
      "/Users/tarun/plant/PlantDataset/train/Cherry_(including_sour)___Powdery_mildew/460f7421-98c2-4477-b10b-88341b71f4f8___FREC_Pwd.M 0579.JPG\n",
      "/Users/tarun/plant/PlantDataset/train/Cherry_(including_sour)___Powdery_mildew/da099922-273a-456d-a8c0-84226a746907___FREC_Pwd.M 4881.JPG\n",
      "/Users/tarun/plant/PlantDataset/train/Cherry_(including_sour)___Powdery_mildew/3241ea49-4272-490b-95d5-6797a3aea739___FREC_Pwd.M 0408_flipLR.JPG\n",
      "/Users/tarun/plant/PlantDataset/train/Cherry_(including_sour)___Powdery_mildew/994248c0-09b3-45d7-abee-d7bc761672aa___FREC_Pwd.M 0508.JPG\n",
      "/Users/tarun/plant/PlantDataset/train/Cherry_(including_sour)___Powdery_mildew/6faac72d-9593-4b9f-9008-93ecdf88c730___FREC_Pwd.M 0308_flipLR.JPG\n",
      "/Users/tarun/plant/PlantDataset/train/Cherry_(including_sour)___Powdery_mildew/4fb47a09-ee8b-445f-9fb0-b74a8317a65f___FREC_Pwd.M 4577.JPG\n",
      "/Users/tarun/plant/PlantDataset/train/Cherry_(including_sour)___Powdery_mildew/d297097e-4fbb-4133-b8d8-eb3a2d9acfc2___FREC_Pwd.M 4609_flipLR.JPG\n",
      "/Users/tarun/plant/PlantDataset/train/Cherry_(including_sour)___Powdery_mildew/728525fd-75a3-4356-a7b4-34d56c31e12b___FREC_Pwd.M 4857.JPG\n",
      "/Users/tarun/plant/PlantDataset/train/Cherry_(including_sour)___Powdery_mildew/7d064d83-ccf6-4d7e-947f-885dea2c9b6f___FREC_Pwd.M 0281.JPG\n",
      "/Users/tarun/plant/PlantDataset/train/Cherry_(including_sour)___Powdery_mildew/3947085c-910c-4251-bd9f-90c25fddcb3a___FREC_Pwd.M 0576.JPG\n",
      "/Users/tarun/plant/PlantDataset/train/Cherry_(including_sour)___Powdery_mildew/d184dd0f-62f4-4354-8b8a-d876f404cf8c___FREC_Pwd.M 0520.JPG\n",
      "/Users/tarun/plant/PlantDataset/train/Cherry_(including_sour)___Powdery_mildew/9f75b6f7-0a6e-4347-8476-cc2054a4f49f___FREC_Pwd.M 0311_flipLR.JPG\n",
      "/Users/tarun/plant/PlantDataset/train/Cherry_(including_sour)___Powdery_mildew/5ec8805d-ee83-4bcc-a76f-e6bfbeed7a71___FREC_Pwd.M 5158.JPG\n",
      "/Users/tarun/plant/PlantDataset/train/Cherry_(including_sour)___Powdery_mildew/cfe1fe90-4871-461c-b5b3-68df83336004___FREC_Pwd.M 4918.JPG\n",
      "/Users/tarun/plant/PlantDataset/train/Cherry_(including_sour)___Powdery_mildew/b42d85e1-0707-4692-93a1-74b0465ef2ef___FREC_Pwd.M 4468.JPG\n",
      "/Users/tarun/plant/PlantDataset/train/Cherry_(including_sour)___Powdery_mildew/8a3e2835-651b-4e81-8f39-60ac46db2962___FREC_Pwd.M 4897_flipLR.JPG\n",
      "/Users/tarun/plant/PlantDataset/train/Cherry_(including_sour)___Powdery_mildew/2c9735ee-ac5b-4312-8956-beadb239456f___FREC_Pwd.M 4527_flipLR.JPG\n",
      "/Users/tarun/plant/PlantDataset/train/Cherry_(including_sour)___Powdery_mildew/4fb47a09-ee8b-445f-9fb0-b74a8317a65f___FREC_Pwd.M 4577_flipLR.JPG\n",
      "/Users/tarun/plant/PlantDataset/train/Cherry_(including_sour)___Powdery_mildew/900cf5aa-c000-45d4-8e30-743c195b1ccd___FREC_Pwd.M 0516_flipLR.JPG\n",
      "/Users/tarun/plant/PlantDataset/train/Cherry_(including_sour)___Powdery_mildew/177ebecc-dcdc-4d9f-8949-cb47b4473730___FREC_Pwd.M 4709.JPG\n",
      "/Users/tarun/plant/PlantDataset/train/Cherry_(including_sour)___Powdery_mildew/8556b7ae-0dc8-4d68-ac44-119f1aff6082___FREC_Pwd.M 0588.JPG\n",
      "/Users/tarun/plant/PlantDataset/train/Cherry_(including_sour)___Powdery_mildew/261f74c4-437a-49a1-8039-a04f6ee6e986___FREC_Pwd.M 4819_flipLR.JPG\n",
      "/Users/tarun/plant/PlantDataset/train/Cherry_(including_sour)___Powdery_mildew/7899bce2-cd7e-4f46-b636-a7b350d2c9cb___FREC_Pwd.M 4585.JPG\n",
      "/Users/tarun/plant/PlantDataset/train/Cherry_(including_sour)___Powdery_mildew/5d4a44a9-b7a1-46a4-9355-651e3c205b0c___FREC_Pwd.M 4972.JPG\n",
      "/Users/tarun/plant/PlantDataset/train/Cherry_(including_sour)___Powdery_mildew/e816bd35-a4f4-41f9-b761-8803ff323652___FREC_Pwd.M 0559_flipLR.JPG\n",
      "/Users/tarun/plant/PlantDataset/train/Cherry_(including_sour)___Powdery_mildew/e5ca68e7-17cb-4aee-bf65-7abba2629a29___FREC_Pwd.M 0325.JPG\n",
      "/Users/tarun/plant/PlantDataset/train/Cherry_(including_sour)___Powdery_mildew/fd8d4072-e0b3-4936-95c2-e2d6dc6d22b0___FREC_Pwd.M 0250.JPG\n",
      "/Users/tarun/plant/PlantDataset/train/Cherry_(including_sour)___Powdery_mildew/826e78de-feb2-495c-9268-a9617970026e___FREC_Pwd.M 4622_flipLR.JPG\n",
      "/Users/tarun/plant/PlantDataset/train/Cherry_(including_sour)___Powdery_mildew/a00c665f-2c4b-42b1-9e36-a77a129c79da___FREC_Pwd.M 0301.JPG\n",
      "/Users/tarun/plant/PlantDataset/train/Cherry_(including_sour)___Powdery_mildew/b6039e39-f0d4-48dc-894a-987e0338c5ae___FREC_Pwd.M 4815_flipLR.JPG\n",
      "/Users/tarun/plant/PlantDataset/train/Cherry_(including_sour)___Powdery_mildew/6f863320-0323-490f-a02d-b943a9caa94f___FREC_Pwd.M 0251.JPG\n",
      "/Users/tarun/plant/PlantDataset/train/Cherry_(including_sour)___Powdery_mildew/4e716573-bcb1-4c3c-97c3-3d4062f893b4___FREC_Pwd.M 4652.JPG\n",
      "/Users/tarun/plant/PlantDataset/train/Cherry_(including_sour)___Powdery_mildew/081459be-800b-428c-a45e-3431c10fab63___FREC_Pwd.M 5140.JPG\n",
      "/Users/tarun/plant/PlantDataset/train/Cherry_(including_sour)___Powdery_mildew/da493dd2-8ffd-4d42-8601-621e62616683___FREC_Pwd.M 4480_flipLR.JPG\n",
      "/Users/tarun/plant/PlantDataset/train/Cherry_(including_sour)___Powdery_mildew/4bc900b6-d994-4356-920b-8e44574a4b4e___FREC_Pwd.M 0334_flipLR.JPG\n",
      "/Users/tarun/plant/PlantDataset/train/Cherry_(including_sour)___Powdery_mildew/d45b03fe-d4cc-470c-bb27-e8ced9b6468f___FREC_Pwd.M 5081_flipLR.JPG\n",
      "/Users/tarun/plant/PlantDataset/train/Cherry_(including_sour)___Powdery_mildew/f7d72dfe-0b0c-44a2-96b3-fd588eb10b12___FREC_Pwd.M 0500.JPG\n",
      "/Users/tarun/plant/PlantDataset/train/Cherry_(including_sour)___Powdery_mildew/6d3cf9a5-37ab-41e6-b786-4ba6e245560a___FREC_Pwd.M 0521.JPG\n",
      "/Users/tarun/plant/PlantDataset/train/Cherry_(including_sour)___Powdery_mildew/45738ed0-df8b-4fcb-ac68-8393fcacbfec___FREC_Pwd.M 0498.JPG\n",
      "/Users/tarun/plant/PlantDataset/train/Cherry_(including_sour)___Powdery_mildew/105aa4f9-1ff7-43a4-b350-d1f7916cdc6f___FREC_Pwd.M 4963_flipLR.JPG\n",
      "/Users/tarun/plant/PlantDataset/train/Cherry_(including_sour)___Powdery_mildew/4d8dadf9-1b3d-49d1-a8f2-eaf5ccaef559___FREC_Pwd.M 0433_flipLR.JPG\n",
      "/Users/tarun/plant/PlantDataset/train/Cherry_(including_sour)___Powdery_mildew/5f7b4b75-2cb6-4deb-bd86-56f336357d83___FREC_Pwd.M 0340_flipLR.JPG\n",
      "/Users/tarun/plant/PlantDataset/train/Cherry_(including_sour)___Powdery_mildew/78a912be-4a06-43c3-ac79-876b1a0f7c9f___FREC_Pwd.M 5072.JPG\n",
      "/Users/tarun/plant/PlantDataset/train/Cherry_(including_sour)___Powdery_mildew/9f1755ba-99e8-4a92-8221-45d175090c59___FREC_Pwd.M 4493.JPG\n",
      "/Users/tarun/plant/PlantDataset/train/Cherry_(including_sour)___Powdery_mildew/644a0661-efb6-4200-8b57-388fd1b2d588___FREC_Pwd.M 4464_flipLR.JPG\n",
      "/Users/tarun/plant/PlantDataset/train/Cherry_(including_sour)___Powdery_mildew/226bc7bb-e0ba-4c98-b7f6-cef16129a3d8___FREC_Pwd.M 4883.JPG\n",
      "/Users/tarun/plant/PlantDataset/train/Cherry_(including_sour)___Powdery_mildew/5d4a44a9-b7a1-46a4-9355-651e3c205b0c___FREC_Pwd.M 4972_flipLR.JPG\n",
      "/Users/tarun/plant/PlantDataset/train/Cherry_(including_sour)___Powdery_mildew/61505a92-161b-4a79-aee7-eba09ca4e560___FREC_Pwd.M 4615.JPG\n",
      "/Users/tarun/plant/PlantDataset/train/Cherry_(including_sour)___Powdery_mildew/3531b280-cdf5-4983-b83e-21259674d575___FREC_Pwd.M 4907_flipLR.JPG\n",
      "/Users/tarun/plant/PlantDataset/train/Cherry_(including_sour)___Powdery_mildew/85447316-1260-4088-9121-3b1d69c533f1___FREC_Pwd.M 5141.JPG\n",
      "/Users/tarun/plant/PlantDataset/train/Cherry_(including_sour)___Powdery_mildew/012b55cf-de7a-483a-9118-0fd8ff012185___FREC_Pwd.M 0423.JPG\n",
      "/Users/tarun/plant/PlantDataset/train/Cherry_(including_sour)___Powdery_mildew/9010117f-944e-4649-8610-5bd70d100f03___FREC_Pwd.M 4808.JPG\n",
      "/Users/tarun/plant/PlantDataset/train/Cherry_(including_sour)___Powdery_mildew/fdf38a3e-2855-4a4c-8094-9cfd9a94d037___FREC_Pwd.M 0351_flipLR.JPG\n",
      "/Users/tarun/plant/PlantDataset/train/Cherry_(including_sour)___Powdery_mildew/70c5c136-d253-4825-902a-ab8e4f6b8588___FREC_Pwd.M 4849.JPG\n",
      "/Users/tarun/plant/PlantDataset/train/Cherry_(including_sour)___Powdery_mildew/2c9a1c22-8603-4181-aa14-78ff3b683380___FREC_Pwd.M 5113_flipLR.JPG\n",
      "/Users/tarun/plant/PlantDataset/train/Cherry_(including_sour)___Powdery_mildew/58d5d331-0ee1-4db8-bbab-3e0e8b7b5844___FREC_Pwd.M 0537.JPG\n",
      "/Users/tarun/plant/PlantDataset/train/Cherry_(including_sour)___Powdery_mildew/3889d54c-d40e-4663-bef0-d2df478ee413___FREC_Pwd.M 0374_flipLR.JPG\n",
      "/Users/tarun/plant/PlantDataset/train/Cherry_(including_sour)___Powdery_mildew/58d680f4-c586-47d0-98a6-0e89ad4f8ff2___FREC_Pwd.M 0401_flipLR.JPG\n",
      "/Users/tarun/plant/PlantDataset/train/Cherry_(including_sour)___Powdery_mildew/4cc877f9-6253-4b54-886c-c5cc5fd5e62c___FREC_Pwd.M 4717_flipLR.JPG\n",
      "/Users/tarun/plant/PlantDataset/train/Cherry_(including_sour)___Powdery_mildew/52aea538-85d0-461c-8956-25af2d74a1ac___FREC_Pwd.M 0426.JPG\n",
      "/Users/tarun/plant/PlantDataset/train/Cherry_(including_sour)___Powdery_mildew/77e3b2c2-5e50-467f-b081-91a84f9d6436___FREC_Pwd.M 0258.JPG\n",
      "/Users/tarun/plant/PlantDataset/train/Cherry_(including_sour)___Powdery_mildew/ec5335a1-204b-4db7-86b2-1dec53bc4be8___FREC_Pwd.M 4638_flipLR.JPG\n",
      "/Users/tarun/plant/PlantDataset/train/Cherry_(including_sour)___Powdery_mildew/9606fef7-31e2-439d-93e1-f2d860844cad___FREC_Pwd.M 4613_flipLR.JPG\n",
      "/Users/tarun/plant/PlantDataset/train/Cherry_(including_sour)___Powdery_mildew/4e25945a-6555-4546-b605-414bd68a7fe0___FREC_Pwd.M 4628.JPG\n",
      "/Users/tarun/plant/PlantDataset/train/Cherry_(including_sour)___Powdery_mildew/d184dd0f-62f4-4354-8b8a-d876f404cf8c___FREC_Pwd.M 0520_flipLR.JPG\n",
      "/Users/tarun/plant/PlantDataset/train/Cherry_(including_sour)___Powdery_mildew/9e549db4-f6b2-4f65-a2d9-bcddb6f14f0d___FREC_Pwd.M 4718.JPG\n",
      "/Users/tarun/plant/PlantDataset/train/Cherry_(including_sour)___Powdery_mildew/13de61b0-1cf6-4fc1-98fa-ee1ad6a81455___FREC_Pwd.M 4781.JPG\n",
      "/Users/tarun/plant/PlantDataset/train/Cherry_(including_sour)___Powdery_mildew/ab79b5ac-9d44-42c8-a745-25cca89aed90___FREC_Pwd.M 4925_flipLR.JPG\n",
      "/Users/tarun/plant/PlantDataset/train/Cherry_(including_sour)___Powdery_mildew/356ef788-2518-4519-8df0-c92c41cb8249___FREC_Pwd.M 5104_flipLR.JPG\n",
      "/Users/tarun/plant/PlantDataset/train/Cherry_(including_sour)___Powdery_mildew/937668de-0516-4a8a-870b-9cbaaf83d0fa___FREC_Pwd.M 0437.JPG\n",
      "/Users/tarun/plant/PlantDataset/train/Cherry_(including_sour)___Powdery_mildew/2c972b35-2f4c-4658-ac84-3bb1af7a746d___FREC_Pwd.M 4660.JPG\n",
      "/Users/tarun/plant/PlantDataset/train/Cherry_(including_sour)___Powdery_mildew/94ebc82a-0f50-4fcd-a3e7-a10b5c844781___FREC_Pwd.M 4484.JPG\n",
      "/Users/tarun/plant/PlantDataset/train/Cherry_(including_sour)___Powdery_mildew/6bb964c3-86cc-4655-8a2c-adcc061e8fe4___FREC_Pwd.M 5099.JPG\n",
      "/Users/tarun/plant/PlantDataset/train/Cherry_(including_sour)___Powdery_mildew/63009443-982d-4280-a402-c764c0d04420___FREC_Pwd.M 4790_flipLR.JPG\n",
      "/Users/tarun/plant/PlantDataset/train/Cherry_(including_sour)___Powdery_mildew/87e0db60-4830-436a-ab50-5e5bfa10028f___FREC_Pwd.M 5080_flipLR.JPG\n",
      "/Users/tarun/plant/PlantDataset/train/Cherry_(including_sour)___Powdery_mildew/5627316e-8d75-4b66-a790-02a6845a33a4___FREC_Pwd.M 4482.JPG\n",
      "/Users/tarun/plant/PlantDataset/train/Cherry_(including_sour)___Powdery_mildew/6f76b1b9-8650-4510-bdb5-3f82191e6bc8___FREC_Pwd.M 4841_flipLR.JPG\n",
      "/Users/tarun/plant/PlantDataset/train/Cherry_(including_sour)___Powdery_mildew/e3d4af8b-baa3-48bd-86ad-6d98e821c4e0___FREC_Pwd.M 4983_flipLR.JPG\n",
      "/Users/tarun/plant/PlantDataset/train/Cherry_(including_sour)___Powdery_mildew/fccd6a7d-673f-4cf5-a136-97cc303e00bb___FREC_Pwd.M 4653.JPG\n",
      "/Users/tarun/plant/PlantDataset/train/Cherry_(including_sour)___Powdery_mildew/a1b8deb6-ef70-4d87-8fea-188a2d84b240___FREC_Pwd.M 5069_flipLR.JPG\n",
      "/Users/tarun/plant/PlantDataset/train/Cherry_(including_sour)___Powdery_mildew/7395ef22-f4fa-41de-8b01-adf1980a7882___FREC_Pwd.M 4497_flipLR.JPG\n",
      "/Users/tarun/plant/PlantDataset/train/Cherry_(including_sour)___Powdery_mildew/54b4c0b5-c1e6-445b-8cdf-9c11c3b76e0d___FREC_Pwd.M 5145_flipLR.JPG\n",
      "/Users/tarun/plant/PlantDataset/train/Cherry_(including_sour)___Powdery_mildew/4ea0cb8a-6b0a-4aec-8b8d-0dc973f28878___FREC_Pwd.M 0280_flipLR.JPG\n",
      "/Users/tarun/plant/PlantDataset/train/Cherry_(including_sour)___Powdery_mildew/460f7421-98c2-4477-b10b-88341b71f4f8___FREC_Pwd.M 0579_flipLR.JPG\n",
      "/Users/tarun/plant/PlantDataset/train/Cherry_(including_sour)___Powdery_mildew/0d20bb6d-798a-4c82-8aea-8d64bd1a086b___FREC_Pwd.M 4761.JPG\n",
      "/Users/tarun/plant/PlantDataset/train/Cherry_(including_sour)___Powdery_mildew/fbc52151-4c04-430b-a188-a03b17d93d0d___FREC_Pwd.M 0266.JPG\n",
      "/Users/tarun/plant/PlantDataset/train/Cherry_(including_sour)___Powdery_mildew/b0084869-42c1-4124-853d-d73f99ee8d38___FREC_Pwd.M 4807_flipLR.JPG\n",
      "/Users/tarun/plant/PlantDataset/train/Cherry_(including_sour)___Powdery_mildew/ff59e364-f269-4a12-ac5a-be4f1e05dbe3___FREC_Pwd.M 4579_flipLR.JPG\n",
      "/Users/tarun/plant/PlantDataset/train/Cherry_(including_sour)___Powdery_mildew/e3e163b5-48e0-4820-8140-6353bf6ab71d___FREC_Pwd.M 0270_flipLR.JPG\n",
      "/Users/tarun/plant/PlantDataset/train/Cherry_(including_sour)___Powdery_mildew/11d570e7-a7d3-4f03-bb46-6b83b97faf43___FREC_Pwd.M 4496.JPG\n",
      "/Users/tarun/plant/PlantDataset/train/Cherry_(including_sour)___Powdery_mildew/7d22a800-a720-4f93-9209-7dee8313f42c___FREC_Pwd.M 0272_flipLR.JPG\n",
      "/Users/tarun/plant/PlantDataset/train/Cherry_(including_sour)___Powdery_mildew/f9699ceb-b9c3-43f5-8968-d6afa32a0153___FREC_Pwd.M 5160_flipLR.JPG\n",
      "/Users/tarun/plant/PlantDataset/train/Cherry_(including_sour)___Powdery_mildew/ad7637de-7c1f-4ec7-a3d6-14032337a6c3___FREC_Pwd.M 5163_flipLR.JPG\n",
      "/Users/tarun/plant/PlantDataset/train/Cherry_(including_sour)___Powdery_mildew/3578c9a5-57d9-4ed9-bfec-d9f889742827___FREC_Pwd.M 4635.JPG\n",
      "/Users/tarun/plant/PlantDataset/train/Cherry_(including_sour)___Powdery_mildew/a0e41113-2d10-4f8a-95fb-c4c71dfe1dae___FREC_Pwd.M 4670_flipLR.JPG\n",
      "/Users/tarun/plant/PlantDataset/train/Cherry_(including_sour)___Powdery_mildew/783e28d7-3b7f-4b9c-81a0-99218f2d3f84___FREC_Pwd.M 4833_flipLR.JPG\n",
      "/Users/tarun/plant/PlantDataset/train/Cherry_(including_sour)___Powdery_mildew/9c2e0ff6-cf68-4bcc-9004-e3b4cd89d4ec___FREC_Pwd.M 0439.JPG\n",
      "/Users/tarun/plant/PlantDataset/train/Cherry_(including_sour)___Powdery_mildew/0ac12d2d-a98c-4e25-b715-94e7579a98f1___FREC_Pwd.M 4887.JPG\n",
      "/Users/tarun/plant/PlantDataset/train/Cherry_(including_sour)___Powdery_mildew/fb9f7797-a300-4486-aef5-0203b072ddce___FREC_Pwd.M 4510_flipLR.JPG\n",
      "/Users/tarun/plant/PlantDataset/train/Cherry_(including_sour)___Powdery_mildew/77989419-b1f4-4e7e-8e85-48edbd870d31___FREC_Pwd.M 4933_flipLR.JPG\n",
      "/Users/tarun/plant/PlantDataset/train/Cherry_(including_sour)___Powdery_mildew/c47ee85f-2032-4c39-ab3b-3c12e0ef10d6___FREC_Pwd.M 4596.JPG\n",
      "/Users/tarun/plant/PlantDataset/train/Cherry_(including_sour)___Powdery_mildew/a00c665f-2c4b-42b1-9e36-a77a129c79da___FREC_Pwd.M 0301_flipLR.JPG\n",
      "/Users/tarun/plant/PlantDataset/train/Cherry_(including_sour)___Powdery_mildew/f5ed7117-153e-4e4a-a466-297bdbd1bf37___FREC_Pwd.M 4787.JPG\n",
      "/Users/tarun/plant/PlantDataset/train/Cherry_(including_sour)___Powdery_mildew/ebd3dcc5-9ac0-49c8-b8cd-03f4869f9ce2___FREC_Pwd.M 4695.JPG\n",
      "/Users/tarun/plant/PlantDataset/train/Cherry_(including_sour)___Powdery_mildew/82d1cf96-b56d-4476-a14e-759319b473b8___FREC_Pwd.M 0519_flipLR.JPG\n",
      "/Users/tarun/plant/PlantDataset/train/Cherry_(including_sour)___Powdery_mildew/675b034a-1138-468e-a70b-3bce7d373414___FREC_Pwd.M 4961_flipLR.JPG\n",
      "/Users/tarun/plant/PlantDataset/train/Cherry_(including_sour)___Powdery_mildew/46713371-70e1-4a42-9537-5781e602c174___FREC_Pwd.M 0384_flipLR.JPG\n",
      "/Users/tarun/plant/PlantDataset/train/Cherry_(including_sour)___Powdery_mildew/31e0b236-bd92-4020-976d-520cdff0e28b___FREC_Pwd.M 5066_flipLR.JPG\n",
      "/Users/tarun/plant/PlantDataset/train/Cherry_(including_sour)___Powdery_mildew/61bd19e2-80b5-4370-a497-2d25a15a7ac7___FREC_Pwd.M 0577_flipLR.JPG\n",
      "/Users/tarun/plant/PlantDataset/train/Cherry_(including_sour)___Powdery_mildew/e638a8be-b258-4318-aca7-385c39cdd53f___FREC_Pwd.M 0419_flipLR.JPG\n",
      "SHAPE: (1683, 256, 256, 3)\n"
     ]
    }
   ],
   "source": [
    "x = []\n",
    "files = glob.glob (\"/Users/tarun/plant/PlantDataset/train/Cherry_(including_sour)___Powdery_mildew/*.JPG\")\n",
    "for myFile in files:\n",
    "    print(myFile)\n",
    "    image = cv2.imread (myFile)\n",
    "    x.append (image)\n",
    "\n",
    "print('SHAPE:', np.array(x).shape)"
   ]
  },
  {
   "cell_type": "code",
   "execution_count": 4,
   "metadata": {
    "tags": [
     "outputPrepend"
    ]
   },
   "outputs": [
    {
     "output_type": "stream",
     "name": "stdout",
     "text": [
      "_180deg.JPG\n",
      "/Users/tarun/plant/PlantDataset/train/Cherry_(including_sour)___healthy/28afb0d3-8bc6-4d22-9679-f128eeedf52b___JR_HL 4214_180deg.JPG\n",
      "/Users/tarun/plant/PlantDataset/train/Cherry_(including_sour)___healthy/048daa26-d38c-477a-96b8-018b3d4ba386___JR_HL 9767.JPG\n",
      "/Users/tarun/plant/PlantDataset/train/Cherry_(including_sour)___healthy/a4e6ad37-83aa-4eec-ad15-339ba1cd9b70___JR_HL 9484_flipTB.JPG\n",
      "/Users/tarun/plant/PlantDataset/train/Cherry_(including_sour)___healthy/a34f6c1e-7e15-4988-906d-47aa21d341c2___JR_HL 9822_180deg.JPG\n",
      "/Users/tarun/plant/PlantDataset/train/Cherry_(including_sour)___healthy/1de4d428-5a02-4774-811c-1634acc7a5f6___JR_HL 4216.JPG\n",
      "/Users/tarun/plant/PlantDataset/train/Cherry_(including_sour)___healthy/5ebfa4f5-0bcb-4055-a44b-612cbbfdeb96___JR_HL 3987.JPG\n",
      "/Users/tarun/plant/PlantDataset/train/Cherry_(including_sour)___healthy/d0afde99-1940-4a55-94da-dfbba13d20f6___JR_HL 4249_flipTB.JPG\n",
      "/Users/tarun/plant/PlantDataset/train/Cherry_(including_sour)___healthy/170d5af5-538b-4cf3-b344-de385bc254f8___JR_HL 4149_180deg.JPG\n",
      "/Users/tarun/plant/PlantDataset/train/Cherry_(including_sour)___healthy/f94456da-a0d9-4dfc-80ed-0b2d597c5479___JR_HL 3997.JPG\n",
      "/Users/tarun/plant/PlantDataset/train/Cherry_(including_sour)___healthy/263640d8-3279-4568-998c-e98f6e991b44___JR_HL 9865.JPG\n",
      "/Users/tarun/plant/PlantDataset/train/Cherry_(including_sour)___healthy/c62ca18f-b9e3-4907-881b-3e83e3428eea___JR_HL 3973.JPG\n",
      "/Users/tarun/plant/PlantDataset/train/Cherry_(including_sour)___healthy/1323484b-3af9-4ef3-bd2d-a26360c77a49___JR_HL 4032.JPG\n",
      "/Users/tarun/plant/PlantDataset/train/Cherry_(including_sour)___healthy/90f22e39-5ee0-4973-ae80-ef987d05990a___JR_HL 4085_180deg.JPG\n",
      "/Users/tarun/plant/PlantDataset/train/Cherry_(including_sour)___healthy/def8b180-dbf5-43aa-bd15-b762ff48ae09___JR_HL 4201.JPG\n",
      "/Users/tarun/plant/PlantDataset/train/Cherry_(including_sour)___healthy/5145073c-b7b7-4127-b856-860a402ddd30___JR_HL 4191_180deg.JPG\n",
      "/Users/tarun/plant/PlantDataset/train/Cherry_(including_sour)___healthy/385e8ead-27ad-4c17-a553-5a55788936d3___JR_HL 9889_flipTB.JPG\n",
      "/Users/tarun/plant/PlantDataset/train/Cherry_(including_sour)___healthy/5c8f1248-bc0f-4367-8f2a-ce9d1f675c96___JR_HL 4303.JPG\n",
      "/Users/tarun/plant/PlantDataset/train/Cherry_(including_sour)___healthy/b4f21001-a18e-46ca-9185-3172ef2a0de2___JR_HL 3934_180deg.JPG\n",
      "/Users/tarun/plant/PlantDataset/train/Cherry_(including_sour)___healthy/162dc895-00e6-4f02-ab49-a7030ec8984d___JR_HL 9445_flipTB.JPG\n",
      "/Users/tarun/plant/PlantDataset/train/Cherry_(including_sour)___healthy/ec1514ea-278c-4baf-889c-f2d057328abb___JR_HL 9752_flipTB.JPG\n",
      "/Users/tarun/plant/PlantDataset/train/Cherry_(including_sour)___healthy/78761149-870c-4ab1-8de3-4361d2866dd5___JR_HL 3982_flipTB.JPG\n",
      "/Users/tarun/plant/PlantDataset/train/Cherry_(including_sour)___healthy/0008f3d3-2f85-4973-be9a-1b520b8b59fc___JR_HL 4092_flipTB.JPG\n",
      "/Users/tarun/plant/PlantDataset/train/Cherry_(including_sour)___healthy/8c564a28-4d4c-49b7-a28d-a5e41ff8e205___JR_HL 9531_flipTB.JPG\n",
      "/Users/tarun/plant/PlantDataset/train/Cherry_(including_sour)___healthy/abecd8d1-a54e-45c5-9240-1380f5291cf9___JR_HL 4193_flipTB.JPG\n",
      "/Users/tarun/plant/PlantDataset/train/Cherry_(including_sour)___healthy/a46afcb8-ce3a-4583-aa94-ad5ea4c66ab0___JR_HL 4102.JPG\n",
      "/Users/tarun/plant/PlantDataset/train/Cherry_(including_sour)___healthy/e4a4adf6-5ad5-420f-bab7-64812af0ac2d___JR_HL 3977_flipTB.JPG\n",
      "/Users/tarun/plant/PlantDataset/train/Cherry_(including_sour)___healthy/ffba4782-60e5-4757-9b77-32b08b670e0f___JR_HL 9601.JPG\n",
      "/Users/tarun/plant/PlantDataset/train/Cherry_(including_sour)___healthy/fb875b22-ebb7-4100-ac70-ed127e9f1033___JR_HL 9623_180deg.JPG\n",
      "/Users/tarun/plant/PlantDataset/train/Cherry_(including_sour)___healthy/b6366199-b01d-439a-a457-25901712cad2___JR_HL 9812.JPG\n",
      "/Users/tarun/plant/PlantDataset/train/Cherry_(including_sour)___healthy/73331ba8-0579-4620-8884-5f3c64e5212a___JR_HL 4103_180deg.JPG\n",
      "/Users/tarun/plant/PlantDataset/train/Cherry_(including_sour)___healthy/0580bdc7-e60e-4ba9-87dc-1202e57b94aa___JR_HL 4159_flipTB.JPG\n",
      "/Users/tarun/plant/PlantDataset/train/Cherry_(including_sour)___healthy/f0fff559-2c33-4f20-8a41-e8d612e9f24f___JR_HL 4286.JPG\n",
      "/Users/tarun/plant/PlantDataset/train/Cherry_(including_sour)___healthy/534159ca-ce41-470a-bce3-729af336d250___JR_HL 9809.JPG\n",
      "/Users/tarun/plant/PlantDataset/train/Cherry_(including_sour)___healthy/a8395e57-8398-4306-bc22-a33efbb19c65___JR_HL 9439_180deg.JPG\n",
      "/Users/tarun/plant/PlantDataset/train/Cherry_(including_sour)___healthy/ea1daecd-c98f-4c73-8c21-6b9aaf757b67___JR_HL 9846_flipTB.JPG\n",
      "/Users/tarun/plant/PlantDataset/train/Cherry_(including_sour)___healthy/a4854d98-c643-4c4b-82b1-a9fcd3d205bd___JR_HL 9844.JPG\n",
      "/Users/tarun/plant/PlantDataset/train/Cherry_(including_sour)___healthy/e30c20ef-d5c2-483a-b3a1-1aa82397520e___JR_HL 9523_flipTB.JPG\n",
      "/Users/tarun/plant/PlantDataset/train/Cherry_(including_sour)___healthy/90cf84c2-0bca-4c08-a873-65ccfb87ed24___JR_HL 9733_flipTB.JPG\n",
      "/Users/tarun/plant/PlantDataset/train/Cherry_(including_sour)___healthy/35378286-4360-4041-aa11-43a90cfa9521___JR_HL 3937.JPG\n",
      "/Users/tarun/plant/PlantDataset/train/Cherry_(including_sour)___healthy/bdb6842e-dcd1-458f-8f88-4b0798556fe1___JR_HL 4255.JPG\n",
      "/Users/tarun/plant/PlantDataset/train/Cherry_(including_sour)___healthy/7feb145d-637f-4ce2-8f79-eb0be1160a86___JR_HL 4285_180deg.JPG\n",
      "/Users/tarun/plant/PlantDataset/train/Cherry_(including_sour)___healthy/3c96ff43-4d86-4bfd-a450-b4a4ad398c2d___JR_HL 9862.JPG\n",
      "/Users/tarun/plant/PlantDataset/train/Cherry_(including_sour)___healthy/49547074-60cf-4924-b6a3-4c70baf60186___JR_HL 4189.JPG\n",
      "/Users/tarun/plant/PlantDataset/train/Cherry_(including_sour)___healthy/baa49a32-a5a5-48a0-8c1c-2c599853e460___JR_HL 3970.JPG\n",
      "/Users/tarun/plant/PlantDataset/train/Cherry_(including_sour)___healthy/c0975993-8fad-45eb-a080-77461fea87c6___JR_HL 9559_flipTB.JPG\n",
      "/Users/tarun/plant/PlantDataset/train/Cherry_(including_sour)___healthy/6799a92a-334c-4147-bc38-267abda01076___JR_HL 9441_flipTB.JPG\n",
      "/Users/tarun/plant/PlantDataset/train/Cherry_(including_sour)___healthy/edd1268d-4387-495d-8ff3-4d1d8ef688a1___JR_HL 4265.JPG\n",
      "/Users/tarun/plant/PlantDataset/train/Cherry_(including_sour)___healthy/ee42359d-e301-4b46-8256-fba2da76bfd6___JR_HL 9638_180deg.JPG\n",
      "/Users/tarun/plant/PlantDataset/train/Cherry_(including_sour)___healthy/b570727c-3764-46cd-b128-d29353da1b9d___JR_HL 4024_180deg.JPG\n",
      "/Users/tarun/plant/PlantDataset/train/Cherry_(including_sour)___healthy/dc3751b1-9e26-400b-9b08-ba9b9dd1f275___JR_HL 9490_flipTB.JPG\n",
      "/Users/tarun/plant/PlantDataset/train/Cherry_(including_sour)___healthy/d88e4a8d-fd1c-41a4-b307-2615ba6783c2___JR_HL 9584_180deg.JPG\n",
      "/Users/tarun/plant/PlantDataset/train/Cherry_(including_sour)___healthy/d2407963-3cdb-44a8-afba-29cfd51ceec5___JR_HL 4316_180deg.JPG\n",
      "/Users/tarun/plant/PlantDataset/train/Cherry_(including_sour)___healthy/0982e1cc-78e8-4bb0-8969-c534e5b0b14b___JR_HL 4097_flipTB.JPG\n",
      "/Users/tarun/plant/PlantDataset/train/Cherry_(including_sour)___healthy/263c668e-176b-4e17-8065-37083fb8607b___JR_HL 4146_180deg.JPG\n",
      "/Users/tarun/plant/PlantDataset/train/Cherry_(including_sour)___healthy/1323484b-3af9-4ef3-bd2d-a26360c77a49___JR_HL 4032_flipTB.JPG\n",
      "/Users/tarun/plant/PlantDataset/train/Cherry_(including_sour)___healthy/c89bc3c2-97d5-4e38-a090-3ba121a17adf___JR_HL 4179_flipTB.JPG\n",
      "/Users/tarun/plant/PlantDataset/train/Cherry_(including_sour)___healthy/79ffb148-f995-42fc-9673-f43b58608d4a___JR_HL 9762_flipTB.JPG\n",
      "/Users/tarun/plant/PlantDataset/train/Cherry_(including_sour)___healthy/dc8ada8f-338c-4428-8878-b3d91f038374___JR_HL 9545_180deg.JPG\n",
      "/Users/tarun/plant/PlantDataset/train/Cherry_(including_sour)___healthy/b4ab9ee4-136d-4150-b01c-1d885669da4a___JR_HL 4312.JPG\n",
      "/Users/tarun/plant/PlantDataset/train/Cherry_(including_sour)___healthy/85cfbde6-c86e-487a-8a6f-c8d2db72d9af___JR_HL 9888_180deg.JPG\n",
      "/Users/tarun/plant/PlantDataset/train/Cherry_(including_sour)___healthy/9b15b47c-53e0-4873-b51c-d2b6e316d56c___JR_HL 4180_flipTB.JPG\n",
      "/Users/tarun/plant/PlantDataset/train/Cherry_(including_sour)___healthy/c30fb5bc-2fc0-42cd-a5db-5b4b774b9f7e___JR_HL 9574_180deg.JPG\n",
      "/Users/tarun/plant/PlantDataset/train/Cherry_(including_sour)___healthy/16952b2d-daf9-47c6-b15e-c2c465bd5cf0___JR_HL 9882.JPG\n",
      "/Users/tarun/plant/PlantDataset/train/Cherry_(including_sour)___healthy/9fcc3c88-5083-43a8-a65e-3ac55558ca1d___JR_HL 9633.JPG\n",
      "/Users/tarun/plant/PlantDataset/train/Cherry_(including_sour)___healthy/83b7e714-c245-47ae-819d-9ab8dc1b170f___JR_HL 9477_180deg.JPG\n",
      "/Users/tarun/plant/PlantDataset/train/Cherry_(including_sour)___healthy/32c38f0d-bc33-4579-b0d0-76305106d325___JR_HL 4291_flipTB.JPG\n",
      "/Users/tarun/plant/PlantDataset/train/Cherry_(including_sour)___healthy/7e88d72b-2f03-4220-afbf-060984a9eec9___JR_HL 4114.JPG\n",
      "/Users/tarun/plant/PlantDataset/train/Cherry_(including_sour)___healthy/9b806380-3a4c-44af-8f88-8f9e52fc1428___JR_HL 9736_180deg.JPG\n",
      "/Users/tarun/plant/PlantDataset/train/Cherry_(including_sour)___healthy/c4720744-b5a7-4cb2-8d61-b4f42d03d035___JR_HL 9783.JPG\n",
      "/Users/tarun/plant/PlantDataset/train/Cherry_(including_sour)___healthy/ecbbb8dc-05c9-479d-9014-2278ad4df5fe___JR_HL 9666_flipTB.JPG\n",
      "/Users/tarun/plant/PlantDataset/train/Cherry_(including_sour)___healthy/ded8ae3a-2f72-4ee5-a7d2-c682bfd59d6b___JR_HL 9875 copy_180deg.JPG\n",
      "/Users/tarun/plant/PlantDataset/train/Cherry_(including_sour)___healthy/90f22e39-5ee0-4973-ae80-ef987d05990a___JR_HL 4085.JPG\n",
      "/Users/tarun/plant/PlantDataset/train/Cherry_(including_sour)___healthy/190c64b8-b621-4b74-b5f3-f6576fd46cf5___JR_HL 4315_flipTB.JPG\n",
      "/Users/tarun/plant/PlantDataset/train/Cherry_(including_sour)___healthy/c889dabb-e9dc-448c-80f3-791fea97fafd___JR_HL 9501_flipTB.JPG\n",
      "/Users/tarun/plant/PlantDataset/train/Cherry_(including_sour)___healthy/9ce21384-43da-4599-99c3-63af7c18cf96___JR_HL 4004.JPG\n",
      "/Users/tarun/plant/PlantDataset/train/Cherry_(including_sour)___healthy/37031cef-9105-4a23-9282-86bcdbdbb4ac___JR_HL 4151_flipTB.JPG\n",
      "/Users/tarun/plant/PlantDataset/train/Cherry_(including_sour)___healthy/1075f5f1-8cfe-420a-a65d-7c3399b63f39___JR_HL 9827_flipTB.JPG\n",
      "/Users/tarun/plant/PlantDataset/train/Cherry_(including_sour)___healthy/6252a6cd-23cf-495c-b452-518100eb243c___JR_HL 4155_180deg.JPG\n",
      "/Users/tarun/plant/PlantDataset/train/Cherry_(including_sour)___healthy/76fcf126-ce7a-4848-b2ba-d248ff170906___JR_HL 9879 copy_flipTB.JPG\n",
      "/Users/tarun/plant/PlantDataset/train/Cherry_(including_sour)___healthy/5dcf6a68-ca6d-4814-a50d-4b55cd0a11da___JR_HL 9562.JPG\n",
      "/Users/tarun/plant/PlantDataset/train/Cherry_(including_sour)___healthy/8fbf0127-e286-466a-bb84-9d16e223953a___JR_HL 9459_flipTB.JPG\n",
      "/Users/tarun/plant/PlantDataset/train/Cherry_(including_sour)___healthy/aaee6da4-9549-447b-906d-2e42199da7c5___JR_HL 9833.JPG\n",
      "/Users/tarun/plant/PlantDataset/train/Cherry_(including_sour)___healthy/868deed9-9e18-4109-9df5-878c468922f3___JR_HL 9536_180deg.JPG\n",
      "/Users/tarun/plant/PlantDataset/train/Cherry_(including_sour)___healthy/d29d91c5-7669-4b82-b87a-fe7dd90bfc1f___JR_HL 9568.JPG\n",
      "/Users/tarun/plant/PlantDataset/train/Cherry_(including_sour)___healthy/3465ffb4-8097-454b-a471-f572fdc1da00___JR_HL 9664.JPG\n",
      "/Users/tarun/plant/PlantDataset/train/Cherry_(including_sour)___healthy/a46afcb8-ce3a-4583-aa94-ad5ea4c66ab0___JR_HL 4102_flipTB.JPG\n",
      "/Users/tarun/plant/PlantDataset/train/Cherry_(including_sour)___healthy/088b245d-2b68-4d2b-b7fe-0e9fc42131d3___JR_HL 4132_180deg.JPG\n",
      "/Users/tarun/plant/PlantDataset/train/Cherry_(including_sour)___healthy/79ffb148-f995-42fc-9673-f43b58608d4a___JR_HL 9762.JPG\n",
      "/Users/tarun/plant/PlantDataset/train/Cherry_(including_sour)___healthy/fe976376-e7b0-4052-831d-86e7c7a85c03___JR_HL 4141_flipTB.JPG\n",
      "/Users/tarun/plant/PlantDataset/train/Cherry_(including_sour)___healthy/dd98aaca-b658-457c-9a5e-ac44d434092c___JR_HL 9817_flipTB.JPG\n",
      "/Users/tarun/plant/PlantDataset/train/Cherry_(including_sour)___healthy/ee4413f6-08dd-4aab-80fb-7714028c7a27___JR_HL 4271_flipTB.JPG\n",
      "/Users/tarun/plant/PlantDataset/train/Cherry_(including_sour)___healthy/d88e4a8d-fd1c-41a4-b307-2615ba6783c2___JR_HL 9584.JPG\n",
      "/Users/tarun/plant/PlantDataset/train/Cherry_(including_sour)___healthy/92da1286-a52e-4ceb-bb92-2a6eba988a14___JR_HL 4177_flipTB.JPG\n",
      "/Users/tarun/plant/PlantDataset/train/Cherry_(including_sour)___healthy/c9c77d66-5410-4974-be51-16a22f16a1e7___JR_HL 3995_flipTB.JPG\n",
      "/Users/tarun/plant/PlantDataset/train/Cherry_(including_sour)___healthy/e39b1acb-977d-4757-95c2-ed6efc5b099b___JR_HL 3926_flipTB.JPG\n",
      "/Users/tarun/plant/PlantDataset/train/Cherry_(including_sour)___healthy/b180133a-d29f-46a0-a1a5-a56199f62091___JR_HL 4162_flipTB.JPG\n",
      "/Users/tarun/plant/PlantDataset/train/Cherry_(including_sour)___healthy/f9b20931-a503-421f-a8d2-59fa99d0b41a___JR_HL 4221_flipTB.JPG\n",
      "/Users/tarun/plant/PlantDataset/train/Cherry_(including_sour)___healthy/501a9e53-250c-4ba7-b216-2295f4883aba___JR_HL 9575_180deg.JPG\n",
      "/Users/tarun/plant/PlantDataset/train/Cherry_(including_sour)___healthy/db266952-0e00-4f77-932a-546a25524b63___JR_HL 9843.JPG\n",
      "/Users/tarun/plant/PlantDataset/train/Cherry_(including_sour)___healthy/385e8ead-27ad-4c17-a553-5a55788936d3___JR_HL 9889.JPG\n",
      "/Users/tarun/plant/PlantDataset/train/Cherry_(including_sour)___healthy/73528ace-e81b-4d49-abea-1b9c395feba2___JR_HL 4184_180deg.JPG\n",
      "/Users/tarun/plant/PlantDataset/train/Cherry_(including_sour)___healthy/ed682229-adac-4051-87d4-2d8fa45c25c8___JR_HL 9514.JPG\n",
      "/Users/tarun/plant/PlantDataset/train/Cherry_(including_sour)___healthy/ecf3ae61-8dea-41ee-838d-818507405409___JR_HL 9470.JPG\n",
      "/Users/tarun/plant/PlantDataset/train/Cherry_(including_sour)___healthy/988cce2b-7897-489d-b796-9a170e815785___JR_HL 9550_180deg.JPG\n",
      "/Users/tarun/plant/PlantDataset/train/Cherry_(including_sour)___healthy/d259c188-0c17-4199-aac1-5399903f74a3___JR_HL 4100_180deg.JPG\n",
      "/Users/tarun/plant/PlantDataset/train/Cherry_(including_sour)___healthy/97df0152-e34f-4b34-bb2e-b2d9aadb19ee___JR_HL 4209_flipTB.JPG\n",
      "/Users/tarun/plant/PlantDataset/train/Cherry_(including_sour)___healthy/4e8ba6af-7f3a-4a1a-9209-20bf45c8ea18___JR_HL 3989.JPG\n",
      "/Users/tarun/plant/PlantDataset/train/Cherry_(including_sour)___healthy/71a6d2b0-9f29-44b2-86b4-00f7dfa5a41d___JR_HL 9658_flipTB.JPG\n",
      "/Users/tarun/plant/PlantDataset/train/Cherry_(including_sour)___healthy/d96c8119-e1f1-485d-a92d-6e542ec0ab7b___JR_HL 4017_flipTB.JPG\n",
      "/Users/tarun/plant/PlantDataset/train/Cherry_(including_sour)___healthy/d9ffa906-ca86-4a23-bf43-033c6270e05f___JR_HL 4280_180deg.JPG\n",
      "/Users/tarun/plant/PlantDataset/train/Cherry_(including_sour)___healthy/d03d7e87-1375-490a-bb4a-b7dd2480f123___JR_HL 9476.JPG\n",
      "/Users/tarun/plant/PlantDataset/train/Cherry_(including_sour)___healthy/7355973a-9b0b-4c5b-ab54-17fb385572f2___JR_HL 9779.JPG\n",
      "/Users/tarun/plant/PlantDataset/train/Cherry_(including_sour)___healthy/ee929bdd-22bd-4a39-be24-11aa93d586fa___JR_HL 9576_180deg.JPG\n",
      "/Users/tarun/plant/PlantDataset/train/Cherry_(including_sour)___healthy/c30fb5bc-2fc0-42cd-a5db-5b4b774b9f7e___JR_HL 9574.JPG\n",
      "/Users/tarun/plant/PlantDataset/train/Cherry_(including_sour)___healthy/6e825c91-1907-4ad8-8ae4-50962f2b1b15___JR_HL 9877 copy_flipTB.JPG\n",
      "/Users/tarun/plant/PlantDataset/train/Cherry_(including_sour)___healthy/c655f45b-4c63-406c-8f6e-e3c4f9e85b06___JR_HL 9870_180deg.JPG\n",
      "/Users/tarun/plant/PlantDataset/train/Cherry_(including_sour)___healthy/f9b8d4e1-ad95-4bb2-b494-22c3004dda8f___JR_HL 9561_flipTB.JPG\n",
      "/Users/tarun/plant/PlantDataset/train/Cherry_(including_sour)___healthy/cabd4b57-e81f-4434-8366-87d70045bba1___JR_HL 4113_180deg.JPG\n",
      "/Users/tarun/plant/PlantDataset/train/Cherry_(including_sour)___healthy/d3dbee67-a252-467c-bb41-8df8d78ec476___JR_HL 9447.JPG\n",
      "/Users/tarun/plant/PlantDataset/train/Cherry_(including_sour)___healthy/c9c77d66-5410-4974-be51-16a22f16a1e7___JR_HL 3995.JPG\n",
      "/Users/tarun/plant/PlantDataset/train/Cherry_(including_sour)___healthy/e0f4ea8e-63d9-4440-8330-82ac0e34f881___JR_HL 9799_180deg.JPG\n",
      "/Users/tarun/plant/PlantDataset/train/Cherry_(including_sour)___healthy/ec1514ea-278c-4baf-889c-f2d057328abb___JR_HL 9752.JPG\n",
      "/Users/tarun/plant/PlantDataset/train/Cherry_(including_sour)___healthy/17c449c1-f296-4cb3-8d12-156b27d2981a___JR_HL 9703_180deg.JPG\n",
      "/Users/tarun/plant/PlantDataset/train/Cherry_(including_sour)___healthy/6be7d4c3-bd76-4d4d-b22a-59d3095384e9___JR_HL 4122_180deg.JPG\n",
      "/Users/tarun/plant/PlantDataset/train/Cherry_(including_sour)___healthy/0438b691-45f8-4251-83bd-8344656716a1___JR_HL 4152_180deg.JPG\n",
      "/Users/tarun/plant/PlantDataset/train/Cherry_(including_sour)___healthy/069996a8-8cdb-4837-a5fe-c5a957b5677a___JR_HL 3938.JPG\n",
      "/Users/tarun/plant/PlantDataset/train/Cherry_(including_sour)___healthy/ecf3ae61-8dea-41ee-838d-818507405409___JR_HL 9470_flipTB.JPG\n",
      "/Users/tarun/plant/PlantDataset/train/Cherry_(including_sour)___healthy/088b245d-2b68-4d2b-b7fe-0e9fc42131d3___JR_HL 4132.JPG\n",
      "/Users/tarun/plant/PlantDataset/train/Cherry_(including_sour)___healthy/c3101d4e-19b3-4959-92a4-b1b8c88d0bec___JR_HL 3994.JPG\n",
      "/Users/tarun/plant/PlantDataset/train/Cherry_(including_sour)___healthy/4606fb44-e54a-4101-80ae-2c486eda3559___JR_HL 9693_flipTB.JPG\n",
      "/Users/tarun/plant/PlantDataset/train/Cherry_(including_sour)___healthy/183e009f-456d-45f3-8f1a-efe984123983___JR_HL 4091_flipTB.JPG\n",
      "/Users/tarun/plant/PlantDataset/train/Cherry_(including_sour)___healthy/b6cf71f9-4a4c-45c6-94cb-9d014c43bc45___JR_HL 4296.JPG\n",
      "/Users/tarun/plant/PlantDataset/train/Cherry_(including_sour)___healthy/de0c82bd-2a79-47e0-8b46-e6ea9afe129c___JR_HL 9691.JPG\n",
      "/Users/tarun/plant/PlantDataset/train/Cherry_(including_sour)___healthy/ff11a187-14dc-4743-9930-1e1cf276273b___JR_HL 4101_180deg.JPG\n",
      "/Users/tarun/plant/PlantDataset/train/Cherry_(including_sour)___healthy/c89bc3c2-97d5-4e38-a090-3ba121a17adf___JR_HL 4179.JPG\n",
      "/Users/tarun/plant/PlantDataset/train/Cherry_(including_sour)___healthy/d9ffa906-ca86-4a23-bf43-033c6270e05f___JR_HL 4280.JPG\n",
      "/Users/tarun/plant/PlantDataset/train/Cherry_(including_sour)___healthy/18dd1c4b-ea49-49b7-9334-ad61763babd4___JR_HL 4297_180deg.JPG\n",
      "/Users/tarun/plant/PlantDataset/train/Cherry_(including_sour)___healthy/0e74a030-4b86-4c3f-8944-31e68d1911ba___JR_HL 4016.JPG\n",
      "/Users/tarun/plant/PlantDataset/train/Cherry_(including_sour)___healthy/5f3d0eae-f30c-46b6-8611-1b524b087186___JR_HL 9602.JPG\n",
      "/Users/tarun/plant/PlantDataset/train/Cherry_(including_sour)___healthy/3ca64926-0979-496f-a49b-1bdf04af6072___JR_HL 4065.JPG\n",
      "/Users/tarun/plant/PlantDataset/train/Cherry_(including_sour)___healthy/db2c8b52-1f7d-4bb7-8cf1-81f241091122___JR_HL 9881.JPG\n",
      "/Users/tarun/plant/PlantDataset/train/Cherry_(including_sour)___healthy/49cab9b4-2390-4636-9253-89f1c574f34b___JR_HL 9608_flipTB.JPG\n",
      "/Users/tarun/plant/PlantDataset/train/Cherry_(including_sour)___healthy/32f80959-fec7-4f33-a205-28e3f8b7a277___JR_HL 9682_180deg.JPG\n",
      "/Users/tarun/plant/PlantDataset/train/Cherry_(including_sour)___healthy/edff0b53-bdab-4792-84b2-73deec567e67___JR_HL 9889 copy_180deg.JPG\n",
      "/Users/tarun/plant/PlantDataset/train/Cherry_(including_sour)___healthy/37031cef-9105-4a23-9282-86bcdbdbb4ac___JR_HL 4151.JPG\n",
      "/Users/tarun/plant/PlantDataset/train/Cherry_(including_sour)___healthy/6ed358a8-f503-43ab-a5de-bbdb07ade6b6___JR_HL 4118_180deg.JPG\n",
      "/Users/tarun/plant/PlantDataset/train/Cherry_(including_sour)___healthy/318dfc8b-46ee-43cd-9fa5-7bdb8c022e4b___JR_HL 9840_180deg.JPG\n",
      "/Users/tarun/plant/PlantDataset/train/Cherry_(including_sour)___healthy/5248fd97-c794-4d16-b797-957d851da129___JR_HL 9892 copy.JPG\n",
      "/Users/tarun/plant/PlantDataset/train/Cherry_(including_sour)___healthy/fcdf9151-87bd-49bb-9069-06ebe74fb109___JR_HL 4051_180deg.JPG\n",
      "/Users/tarun/plant/PlantDataset/train/Cherry_(including_sour)___healthy/c290eab8-462a-4508-9dfb-822dbfba947a___JR_HL 9796.JPG\n",
      "/Users/tarun/plant/PlantDataset/train/Cherry_(including_sour)___healthy/7bb5ebf4-8be6-4652-913c-519b58a34821___JR_HL 9758_flipTB.JPG\n",
      "/Users/tarun/plant/PlantDataset/train/Cherry_(including_sour)___healthy/81dd61f6-d35f-45c7-aed4-0094a76eb6df___JR_HL 9591_180deg.JPG\n",
      "/Users/tarun/plant/PlantDataset/train/Cherry_(including_sour)___healthy/ac32e22a-5841-4531-8d5a-84f8c5288f4a___JR_HL 9845_flipTB.JPG\n",
      "SHAPE: (1826, 256, 256, 3)\n"
     ]
    }
   ],
   "source": [
    "x1 = []\n",
    "files = glob.glob (\"/Users/tarun/plant/PlantDataset/train/Cherry_(including_sour)___healthy/*.JPG\")\n",
    "for myFile in files:\n",
    "    print(myFile)\n",
    "    image = cv2.imread (myFile)\n",
    "    x1.append (image)\n",
    "\n",
    "print('SHAPE:', np.array(x1).shape)"
   ]
  },
  {
   "cell_type": "code",
   "execution_count": 5,
   "metadata": {},
   "outputs": [
    {
     "output_type": "stream",
     "name": "stdout",
     "text": [
      "SHAPE: (3509, 256, 256, 3)\n"
     ]
    }
   ],
   "source": [
    "x.extend(x1)\n",
    "print('SHAPE:', np.array(x).shape)"
   ]
  },
  {
   "cell_type": "code",
   "execution_count": 6,
   "metadata": {},
   "outputs": [
    {
     "output_type": "stream",
     "name": "stdout",
     "text": [
      "(1683,)\n"
     ]
    }
   ],
   "source": [
    "y=[1] * 1683 # 1 for being unhealthy\n",
    "print(np.array(y).shape)"
   ]
  },
  {
   "cell_type": "code",
   "execution_count": 7,
   "metadata": {},
   "outputs": [
    {
     "output_type": "stream",
     "name": "stdout",
     "text": [
      "(1826,)\n"
     ]
    }
   ],
   "source": [
    "yn=[0]*1826\n",
    "print(np.array(yn).shape)"
   ]
  },
  {
   "cell_type": "code",
   "execution_count": 8,
   "metadata": {},
   "outputs": [
    {
     "output_type": "stream",
     "name": "stdout",
     "text": [
      "SHAPE: (3509,)\n"
     ]
    }
   ],
   "source": [
    "y.extend(yn)\n",
    "print('SHAPE:', np.array(y).shape)"
   ]
  },
  {
   "cell_type": "code",
   "execution_count": 9,
   "metadata": {},
   "outputs": [
    {
     "output_type": "stream",
     "name": "stdout",
     "text": [
      "(3509, 196608)\n"
     ]
    }
   ],
   "source": [
    "X=np.array(x).reshape(3509,196608) \n",
    "print(X.shape)"
   ]
  },
  {
   "cell_type": "code",
   "execution_count": 10,
   "metadata": {},
   "outputs": [
    {
     "output_type": "execute_result",
     "data": {
      "text/plain": [
       "   0       1       2       3       4       5       6       7       8       \\\n",
       "0      92     102     112      89      99     109      85      95     105   \n",
       "1     148     141     146     146     139     144     145     138     143   \n",
       "2      88      91      96      87      90      95      86      89      94   \n",
       "3     191     122     137     197     128     143     193     124     139   \n",
       "4     127     128     142     127     129     140     126     128     139   \n",
       "\n",
       "   9       ...  196599  196600  196601  196602  196603  196604  196605  \\\n",
       "0      83  ...     167     170     175     165     168     173     163   \n",
       "1     144  ...      70      70      82      70      70      82      70   \n",
       "2      85  ...     106     107     117     109     110     120     114   \n",
       "3     190  ...     160     100     111     160     100     111     159   \n",
       "4     126  ...      95      88      95      95      88      95      95   \n",
       "\n",
       "   196606  196607  196608  \n",
       "0     166     171       1  \n",
       "1      70      82       1  \n",
       "2     115     125       1  \n",
       "3      99     110       1  \n",
       "4      88      95       1  \n",
       "\n",
       "[5 rows x 196609 columns]"
      ],
      "text/html": "<div>\n<style scoped>\n    .dataframe tbody tr th:only-of-type {\n        vertical-align: middle;\n    }\n\n    .dataframe tbody tr th {\n        vertical-align: top;\n    }\n\n    .dataframe thead th {\n        text-align: right;\n    }\n</style>\n<table border=\"1\" class=\"dataframe\">\n  <thead>\n    <tr style=\"text-align: right;\">\n      <th></th>\n      <th>0</th>\n      <th>1</th>\n      <th>2</th>\n      <th>3</th>\n      <th>4</th>\n      <th>5</th>\n      <th>6</th>\n      <th>7</th>\n      <th>8</th>\n      <th>9</th>\n      <th>...</th>\n      <th>196599</th>\n      <th>196600</th>\n      <th>196601</th>\n      <th>196602</th>\n      <th>196603</th>\n      <th>196604</th>\n      <th>196605</th>\n      <th>196606</th>\n      <th>196607</th>\n      <th>196608</th>\n    </tr>\n  </thead>\n  <tbody>\n    <tr>\n      <th>0</th>\n      <td>92</td>\n      <td>102</td>\n      <td>112</td>\n      <td>89</td>\n      <td>99</td>\n      <td>109</td>\n      <td>85</td>\n      <td>95</td>\n      <td>105</td>\n      <td>83</td>\n      <td>...</td>\n      <td>167</td>\n      <td>170</td>\n      <td>175</td>\n      <td>165</td>\n      <td>168</td>\n      <td>173</td>\n      <td>163</td>\n      <td>166</td>\n      <td>171</td>\n      <td>1</td>\n    </tr>\n    <tr>\n      <th>1</th>\n      <td>148</td>\n      <td>141</td>\n      <td>146</td>\n      <td>146</td>\n      <td>139</td>\n      <td>144</td>\n      <td>145</td>\n      <td>138</td>\n      <td>143</td>\n      <td>144</td>\n      <td>...</td>\n      <td>70</td>\n      <td>70</td>\n      <td>82</td>\n      <td>70</td>\n      <td>70</td>\n      <td>82</td>\n      <td>70</td>\n      <td>70</td>\n      <td>82</td>\n      <td>1</td>\n    </tr>\n    <tr>\n      <th>2</th>\n      <td>88</td>\n      <td>91</td>\n      <td>96</td>\n      <td>87</td>\n      <td>90</td>\n      <td>95</td>\n      <td>86</td>\n      <td>89</td>\n      <td>94</td>\n      <td>85</td>\n      <td>...</td>\n      <td>106</td>\n      <td>107</td>\n      <td>117</td>\n      <td>109</td>\n      <td>110</td>\n      <td>120</td>\n      <td>114</td>\n      <td>115</td>\n      <td>125</td>\n      <td>1</td>\n    </tr>\n    <tr>\n      <th>3</th>\n      <td>191</td>\n      <td>122</td>\n      <td>137</td>\n      <td>197</td>\n      <td>128</td>\n      <td>143</td>\n      <td>193</td>\n      <td>124</td>\n      <td>139</td>\n      <td>190</td>\n      <td>...</td>\n      <td>160</td>\n      <td>100</td>\n      <td>111</td>\n      <td>160</td>\n      <td>100</td>\n      <td>111</td>\n      <td>159</td>\n      <td>99</td>\n      <td>110</td>\n      <td>1</td>\n    </tr>\n    <tr>\n      <th>4</th>\n      <td>127</td>\n      <td>128</td>\n      <td>142</td>\n      <td>127</td>\n      <td>129</td>\n      <td>140</td>\n      <td>126</td>\n      <td>128</td>\n      <td>139</td>\n      <td>126</td>\n      <td>...</td>\n      <td>95</td>\n      <td>88</td>\n      <td>95</td>\n      <td>95</td>\n      <td>88</td>\n      <td>95</td>\n      <td>95</td>\n      <td>88</td>\n      <td>95</td>\n      <td>1</td>\n    </tr>\n  </tbody>\n</table>\n<p>5 rows × 196609 columns</p>\n</div>"
     },
     "metadata": {},
     "execution_count": 10
    }
   ],
   "source": [
    "df=pd.DataFrame(np.c_[X,y])\n",
    "df.head()"
   ]
  },
  {
   "cell_type": "code",
   "execution_count": 11,
   "metadata": {},
   "outputs": [
    {
     "output_type": "execute_result",
     "data": {
      "text/plain": [
       "0    1826\n",
       "1    1683\n",
       "Name: 196608, dtype: int64"
      ]
     },
     "metadata": {},
     "execution_count": 11
    }
   ],
   "source": [
    "df[196608].value_counts()"
   ]
  },
  {
   "cell_type": "code",
   "execution_count": 12,
   "metadata": {},
   "outputs": [],
   "source": [
    "from sklearn.model_selection import train_test_split\n",
    "train_x,test_x,train_y,test_y=train_test_split(X,y,test_size=0.25,random_state=0)"
   ]
  },
  {
   "cell_type": "code",
   "execution_count": 13,
   "metadata": {},
   "outputs": [
    {
     "output_type": "execute_result",
     "data": {
      "text/plain": [
       "LogisticRegression(max_iter=1000)"
      ]
     },
     "metadata": {},
     "execution_count": 13
    }
   ],
   "source": [
    "from sklearn.linear_model import LogisticRegression\n",
    "lg=LogisticRegression(solver='lbfgs',max_iter=1000)\n",
    "lg.fit(train_x,train_y)"
   ]
  },
  {
   "cell_type": "code",
   "execution_count": 14,
   "metadata": {},
   "outputs": [
    {
     "output_type": "execute_result",
     "data": {
      "text/plain": [
       "array([0, 1, 1, 0, 0, 1, 0, 1, 1, 0, 0, 1, 0, 1, 1, 1, 1, 1, 1, 1, 1, 0,\n",
       "       0, 0, 1, 1, 1, 1, 0, 1, 0, 0, 1, 1, 0, 1, 0, 0, 0, 0, 0, 0, 1, 0,\n",
       "       1, 0, 0, 0, 0, 0, 0, 1, 0, 1, 0, 1, 0, 0, 1, 0, 0, 0, 1, 0, 1, 1,\n",
       "       0, 1, 0, 1, 0, 0, 1, 0, 0, 0, 0, 1, 1, 0, 1, 0, 1, 0, 1, 1, 1, 0,\n",
       "       0, 1, 1, 1, 0, 0, 0, 0, 0, 1, 0, 0, 1, 0, 0, 1, 0, 1, 1, 0, 1, 0,\n",
       "       1, 0, 0, 1, 1, 1, 0, 0, 1, 1, 1, 1, 0, 1, 0, 1, 1, 0, 0, 0, 0, 1,\n",
       "       1, 1, 0, 1, 0, 1, 1, 0, 0, 1, 1, 1, 0, 1, 1, 0, 0, 0, 0, 0, 0, 1,\n",
       "       0, 1, 0, 0, 1, 0, 0, 1, 0, 0, 0, 0, 1, 1, 0, 1, 1, 0, 1, 0, 1, 0,\n",
       "       0, 1, 0, 0, 1, 0, 1, 1, 0, 0, 0, 1, 0, 0, 1, 1, 1, 1, 1, 1, 1, 0,\n",
       "       0, 1, 1, 1, 1, 1, 1, 0, 0, 1, 0, 0, 1, 1, 0, 1, 0, 0, 1, 0, 1, 1,\n",
       "       1, 1, 0, 0, 1, 0, 0, 1, 1, 0, 0, 0, 0, 0, 0, 0, 1, 1, 1, 0, 0, 0,\n",
       "       1, 0, 1, 0, 0, 1, 1, 1, 0, 1, 0, 1, 1, 1, 1, 0, 0, 0, 0, 0, 1, 0,\n",
       "       1, 1, 0, 1, 1, 0, 0, 1, 1, 1, 1, 1, 1, 0, 1, 1, 0, 1, 1, 1, 1, 0,\n",
       "       0, 0, 1, 1, 0, 1, 0, 0, 0, 1, 1, 1, 0, 1, 1, 0, 1, 0, 0, 1, 0, 0,\n",
       "       0, 0, 1, 0, 1, 1, 1, 0, 0, 1, 0, 0, 0, 0, 1, 1, 0, 0, 1, 1, 1, 1,\n",
       "       0, 0, 0, 1, 0, 1, 0, 0, 0, 0, 0, 1, 0, 1, 1, 0, 1, 1, 1, 1, 1, 0,\n",
       "       1, 0, 0, 0, 1, 0, 0, 0, 1, 1, 1, 1, 0, 1, 0, 0, 0, 0, 0, 1, 0, 0,\n",
       "       0, 1, 0, 1, 0, 0, 0, 0, 1, 1, 0, 0, 0, 1, 0, 1, 0, 0, 1, 0, 0, 0,\n",
       "       0, 0, 1, 1, 1, 0, 1, 0, 0, 1, 0, 0, 1, 0, 1, 1, 1, 0, 0, 1, 0, 0,\n",
       "       1, 1, 0, 0, 1, 0, 1, 0, 0, 0, 1, 0, 1, 1, 1, 1, 0, 1, 1, 0, 1, 0,\n",
       "       0, 0, 0, 0, 1, 1, 0, 0, 1, 1, 0, 0, 0, 1, 0, 0, 0, 1, 1, 1, 0, 1,\n",
       "       0, 1, 0, 0, 0, 0, 0, 1, 1, 0, 0, 0, 0, 0, 0, 1, 1, 1, 0, 1, 1, 0,\n",
       "       0, 0, 0, 1, 1, 0, 1, 0, 0, 0, 0, 1, 0, 0, 1, 1, 0, 0, 1, 1, 1, 0,\n",
       "       0, 0, 0, 1, 0, 1, 1, 0, 0, 1, 1, 1, 1, 0, 1, 0, 1, 0, 0, 1, 0, 0,\n",
       "       1, 1, 1, 0, 1, 0, 0, 0, 1, 1, 1, 1, 1, 0, 0, 0, 1, 0, 0, 1, 1, 1,\n",
       "       1, 0, 0, 1, 0, 1, 1, 0, 1, 1, 0, 1, 1, 0, 0, 1, 1, 1, 1, 1, 0, 1,\n",
       "       1, 0, 1, 1, 1, 1, 0, 1, 1, 1, 0, 0, 1, 0, 1, 1, 0, 1, 0, 0, 1, 0,\n",
       "       1, 0, 1, 1, 1, 1, 0, 0, 0, 1, 1, 1, 0, 1, 0, 0, 0, 0, 0, 1, 1, 0,\n",
       "       0, 1, 1, 0, 0, 1, 0, 0, 0, 0, 0, 1, 1, 1, 0, 1, 0, 1, 0, 1, 1, 0,\n",
       "       1, 0, 1, 0, 0, 0, 0, 0, 0, 0, 1, 0, 0, 1, 0, 0, 1, 0, 1, 1, 0, 0,\n",
       "       1, 0, 0, 1, 0, 1, 0, 1, 1, 1, 1, 1, 1, 1, 0, 1, 0, 1, 1, 0, 0, 1,\n",
       "       0, 1, 0, 0, 0, 0, 1, 0, 1, 1, 1, 0, 1, 0, 0, 1, 1, 1, 1, 0, 0, 0,\n",
       "       0, 0, 0, 0, 1, 0, 0, 1, 1, 0, 1, 0, 0, 0, 0, 1, 0, 1, 0, 0, 0, 0,\n",
       "       0, 0, 0, 0, 1, 0, 0, 0, 1, 0, 0, 0, 1, 1, 0, 1, 0, 0, 0, 1, 1, 1,\n",
       "       1, 0, 1, 0, 0, 1, 1, 0, 0, 0, 0, 0, 1, 0, 1, 0, 1, 1, 0, 1, 0, 0,\n",
       "       0, 0, 0, 0, 1, 0, 0, 1, 0, 0, 0, 1, 0, 0, 1, 1, 1, 0, 0, 1, 1, 1,\n",
       "       1, 1, 1, 0, 1, 1, 0, 0, 1, 0, 0, 1, 0, 0, 0, 1, 1, 0, 1, 0, 1, 1,\n",
       "       0, 1, 1, 1, 0, 0, 1, 1, 0, 1, 0, 0, 1, 1, 0, 0, 1, 0, 1, 1, 0, 0,\n",
       "       1, 0, 1, 0, 0, 1, 1, 0, 1, 1, 1, 0, 0, 1, 1, 0, 1, 0, 1, 1, 1, 1,\n",
       "       0, 0, 1, 0, 0, 0, 1, 0, 0, 0, 1, 1, 1, 0, 0, 0, 0, 1, 1, 1])"
      ]
     },
     "metadata": {},
     "execution_count": 14
    }
   ],
   "source": [
    "pred=lg.predict(test_x)\n",
    "pred"
   ]
  },
  {
   "cell_type": "code",
   "execution_count": 15,
   "metadata": {},
   "outputs": [
    {
     "output_type": "stream",
     "name": "stdout",
     "text": [
      "0.9669703872437357\n"
     ]
    }
   ],
   "source": [
    "scores=lg.score(test_x,test_y)\n",
    "print(scores)"
   ]
  },
  {
   "cell_type": "code",
   "execution_count": 16,
   "metadata": {},
   "outputs": [
    {
     "output_type": "stream",
     "name": "stdout",
     "text": [
      "[[448  14]\n [ 15 401]]\n"
     ]
    }
   ],
   "source": [
    "from sklearn import metrics\n",
    "cm = metrics.confusion_matrix(test_y, pred)\n",
    "print(cm)"
   ]
  },
  {
   "cell_type": "code",
   "execution_count": 17,
   "metadata": {},
   "outputs": [
    {
     "output_type": "execute_result",
     "data": {
      "text/plain": [
       "<AxesSubplot:>"
      ]
     },
     "metadata": {},
     "execution_count": 17
    },
    {
     "output_type": "display_data",
     "data": {
      "text/plain": "<Figure size 432x288 with 2 Axes>",
      "image/svg+xml": "<?xml version=\"1.0\" encoding=\"utf-8\" standalone=\"no\"?>\n<!DOCTYPE svg PUBLIC \"-//W3C//DTD SVG 1.1//EN\"\n  \"http://www.w3.org/Graphics/SVG/1.1/DTD/svg11.dtd\">\n<!-- Created with matplotlib (https://matplotlib.org/) -->\n<svg height=\"248.518125pt\" version=\"1.1\" viewBox=\"0 0 352.617625 248.518125\" width=\"352.617625pt\" xmlns=\"http://www.w3.org/2000/svg\" xmlns:xlink=\"http://www.w3.org/1999/xlink\">\n <metadata>\n  <rdf:RDF xmlns:cc=\"http://creativecommons.org/ns#\" xmlns:dc=\"http://purl.org/dc/elements/1.1/\" xmlns:rdf=\"http://www.w3.org/1999/02/22-rdf-syntax-ns#\">\n   <cc:Work>\n    <dc:type rdf:resource=\"http://purl.org/dc/dcmitype/StillImage\"/>\n    <dc:date>2021-07-14T10:50:18.632738</dc:date>\n    <dc:format>image/svg+xml</dc:format>\n    <dc:creator>\n     <cc:Agent>\n      <dc:title>Matplotlib v3.3.2, https://matplotlib.org/</dc:title>\n     </cc:Agent>\n    </dc:creator>\n   </cc:Work>\n  </rdf:RDF>\n </metadata>\n <defs>\n  <style type=\"text/css\">*{stroke-linecap:butt;stroke-linejoin:round;}</style>\n </defs>\n <g id=\"figure_1\">\n  <g id=\"patch_1\">\n   <path d=\"M -0 248.518125 \nL 352.617625 248.518125 \nL 352.617625 0 \nL -0 0 \nz\n\" style=\"fill:none;\"/>\n  </g>\n  <g id=\"axes_1\">\n   <g id=\"patch_2\">\n    <path d=\"M 23.878125 224.64 \nL 291.718125 224.64 \nL 291.718125 7.2 \nL 23.878125 7.2 \nz\n\" style=\"fill:#ffffff;\"/>\n   </g>\n   <g id=\"QuadMesh_1\">\n    <path clip-path=\"url(#p8fc17c9ea6)\" d=\"M 23.878125 7.2 \nL 157.798125 7.2 \nL 157.798125 115.92 \nL 23.878125 115.92 \nL 23.878125 7.2 \n\" style=\"fill:#faebdd;\"/>\n    <path clip-path=\"url(#p8fc17c9ea6)\" d=\"M 157.798125 7.2 \nL 291.718125 7.2 \nL 291.718125 115.92 \nL 157.798125 115.92 \nL 157.798125 7.2 \n\" style=\"fill:#03051a;\"/>\n    <path clip-path=\"url(#p8fc17c9ea6)\" d=\"M 23.878125 115.92 \nL 157.798125 115.92 \nL 157.798125 224.64 \nL 23.878125 224.64 \nL 23.878125 115.92 \n\" style=\"fill:#03051a;\"/>\n    <path clip-path=\"url(#p8fc17c9ea6)\" d=\"M 157.798125 115.92 \nL 291.718125 115.92 \nL 291.718125 224.64 \nL 157.798125 224.64 \nL 157.798125 115.92 \n\" style=\"fill:#f7c2a2;\"/>\n   </g>\n   <g id=\"matplotlib.axis_1\">\n    <g id=\"xtick_1\">\n     <g id=\"line2d_1\">\n      <defs>\n       <path d=\"M 0 0 \nL 0 3.5 \n\" id=\"m37b61cb503\" style=\"stroke:#000000;stroke-width:0.8;\"/>\n      </defs>\n      <g>\n       <use style=\"stroke:#000000;stroke-width:0.8;\" x=\"90.838125\" xlink:href=\"#m37b61cb503\" y=\"224.64\"/>\n      </g>\n     </g>\n     <g id=\"text_1\">\n      <!-- 0 -->\n      <g transform=\"translate(87.656875 239.238437)scale(0.1 -0.1)\">\n       <defs>\n        <path d=\"M 31.78125 66.40625 \nQ 24.171875 66.40625 20.328125 58.90625 \nQ 16.5 51.421875 16.5 36.375 \nQ 16.5 21.390625 20.328125 13.890625 \nQ 24.171875 6.390625 31.78125 6.390625 \nQ 39.453125 6.390625 43.28125 13.890625 \nQ 47.125 21.390625 47.125 36.375 \nQ 47.125 51.421875 43.28125 58.90625 \nQ 39.453125 66.40625 31.78125 66.40625 \nz\nM 31.78125 74.21875 \nQ 44.046875 74.21875 50.515625 64.515625 \nQ 56.984375 54.828125 56.984375 36.375 \nQ 56.984375 17.96875 50.515625 8.265625 \nQ 44.046875 -1.421875 31.78125 -1.421875 \nQ 19.53125 -1.421875 13.0625 8.265625 \nQ 6.59375 17.96875 6.59375 36.375 \nQ 6.59375 54.828125 13.0625 64.515625 \nQ 19.53125 74.21875 31.78125 74.21875 \nz\n\" id=\"DejaVuSans-48\"/>\n       </defs>\n       <use xlink:href=\"#DejaVuSans-48\"/>\n      </g>\n     </g>\n    </g>\n    <g id=\"xtick_2\">\n     <g id=\"line2d_2\">\n      <g>\n       <use style=\"stroke:#000000;stroke-width:0.8;\" x=\"224.758125\" xlink:href=\"#m37b61cb503\" y=\"224.64\"/>\n      </g>\n     </g>\n     <g id=\"text_2\">\n      <!-- 1 -->\n      <g transform=\"translate(221.576875 239.238437)scale(0.1 -0.1)\">\n       <defs>\n        <path d=\"M 12.40625 8.296875 \nL 28.515625 8.296875 \nL 28.515625 63.921875 \nL 10.984375 60.40625 \nL 10.984375 69.390625 \nL 28.421875 72.90625 \nL 38.28125 72.90625 \nL 38.28125 8.296875 \nL 54.390625 8.296875 \nL 54.390625 0 \nL 12.40625 0 \nz\n\" id=\"DejaVuSans-49\"/>\n       </defs>\n       <use xlink:href=\"#DejaVuSans-49\"/>\n      </g>\n     </g>\n    </g>\n   </g>\n   <g id=\"matplotlib.axis_2\">\n    <g id=\"ytick_1\">\n     <g id=\"line2d_3\">\n      <defs>\n       <path d=\"M 0 0 \nL -3.5 0 \n\" id=\"m5436776709\" style=\"stroke:#000000;stroke-width:0.8;\"/>\n      </defs>\n      <g>\n       <use style=\"stroke:#000000;stroke-width:0.8;\" x=\"23.878125\" xlink:href=\"#m5436776709\" y=\"61.56\"/>\n      </g>\n     </g>\n     <g id=\"text_3\">\n      <!-- 0 -->\n      <g transform=\"translate(14.798438 64.123281)rotate(-90)scale(0.1 -0.1)\">\n       <use xlink:href=\"#DejaVuSans-48\"/>\n      </g>\n     </g>\n    </g>\n    <g id=\"ytick_2\">\n     <g id=\"line2d_4\">\n      <g>\n       <use style=\"stroke:#000000;stroke-width:0.8;\" x=\"23.878125\" xlink:href=\"#m5436776709\" y=\"170.28\"/>\n      </g>\n     </g>\n     <g id=\"text_4\">\n      <!-- 1 -->\n      <g transform=\"translate(14.798438 172.843281)rotate(-90)scale(0.1 -0.1)\">\n       <use xlink:href=\"#DejaVuSans-49\"/>\n      </g>\n     </g>\n    </g>\n   </g>\n   <g id=\"text_5\">\n    <!-- 4.5e+02 -->\n    <g style=\"fill:#262626;\" transform=\"translate(69.257656 64.319375)scale(0.1 -0.1)\">\n     <defs>\n      <path d=\"M 37.796875 64.3125 \nL 12.890625 25.390625 \nL 37.796875 25.390625 \nz\nM 35.203125 72.90625 \nL 47.609375 72.90625 \nL 47.609375 25.390625 \nL 58.015625 25.390625 \nL 58.015625 17.1875 \nL 47.609375 17.1875 \nL 47.609375 0 \nL 37.796875 0 \nL 37.796875 17.1875 \nL 4.890625 17.1875 \nL 4.890625 26.703125 \nz\n\" id=\"DejaVuSans-52\"/>\n      <path d=\"M 10.6875 12.40625 \nL 21 12.40625 \nL 21 0 \nL 10.6875 0 \nz\n\" id=\"DejaVuSans-46\"/>\n      <path d=\"M 10.796875 72.90625 \nL 49.515625 72.90625 \nL 49.515625 64.59375 \nL 19.828125 64.59375 \nL 19.828125 46.734375 \nQ 21.96875 47.46875 24.109375 47.828125 \nQ 26.265625 48.1875 28.421875 48.1875 \nQ 40.625 48.1875 47.75 41.5 \nQ 54.890625 34.8125 54.890625 23.390625 \nQ 54.890625 11.625 47.5625 5.09375 \nQ 40.234375 -1.421875 26.90625 -1.421875 \nQ 22.3125 -1.421875 17.546875 -0.640625 \nQ 12.796875 0.140625 7.71875 1.703125 \nL 7.71875 11.625 \nQ 12.109375 9.234375 16.796875 8.0625 \nQ 21.484375 6.890625 26.703125 6.890625 \nQ 35.15625 6.890625 40.078125 11.328125 \nQ 45.015625 15.765625 45.015625 23.390625 \nQ 45.015625 31 40.078125 35.4375 \nQ 35.15625 39.890625 26.703125 39.890625 \nQ 22.75 39.890625 18.8125 39.015625 \nQ 14.890625 38.140625 10.796875 36.28125 \nz\n\" id=\"DejaVuSans-53\"/>\n      <path d=\"M 56.203125 29.59375 \nL 56.203125 25.203125 \nL 14.890625 25.203125 \nQ 15.484375 15.921875 20.484375 11.0625 \nQ 25.484375 6.203125 34.421875 6.203125 \nQ 39.59375 6.203125 44.453125 7.46875 \nQ 49.3125 8.734375 54.109375 11.28125 \nL 54.109375 2.78125 \nQ 49.265625 0.734375 44.1875 -0.34375 \nQ 39.109375 -1.421875 33.890625 -1.421875 \nQ 20.796875 -1.421875 13.15625 6.1875 \nQ 5.515625 13.8125 5.515625 26.8125 \nQ 5.515625 40.234375 12.765625 48.109375 \nQ 20.015625 56 32.328125 56 \nQ 43.359375 56 49.78125 48.890625 \nQ 56.203125 41.796875 56.203125 29.59375 \nz\nM 47.21875 32.234375 \nQ 47.125 39.59375 43.09375 43.984375 \nQ 39.0625 48.390625 32.421875 48.390625 \nQ 24.90625 48.390625 20.390625 44.140625 \nQ 15.875 39.890625 15.1875 32.171875 \nz\n\" id=\"DejaVuSans-101\"/>\n      <path d=\"M 46 62.703125 \nL 46 35.5 \nL 73.1875 35.5 \nL 73.1875 27.203125 \nL 46 27.203125 \nL 46 0 \nL 37.796875 0 \nL 37.796875 27.203125 \nL 10.59375 27.203125 \nL 10.59375 35.5 \nL 37.796875 35.5 \nL 37.796875 62.703125 \nz\n\" id=\"DejaVuSans-43\"/>\n      <path d=\"M 19.1875 8.296875 \nL 53.609375 8.296875 \nL 53.609375 0 \nL 7.328125 0 \nL 7.328125 8.296875 \nQ 12.9375 14.109375 22.625 23.890625 \nQ 32.328125 33.6875 34.8125 36.53125 \nQ 39.546875 41.84375 41.421875 45.53125 \nQ 43.3125 49.21875 43.3125 52.78125 \nQ 43.3125 58.59375 39.234375 62.25 \nQ 35.15625 65.921875 28.609375 65.921875 \nQ 23.96875 65.921875 18.8125 64.3125 \nQ 13.671875 62.703125 7.8125 59.421875 \nL 7.8125 69.390625 \nQ 13.765625 71.78125 18.9375 73 \nQ 24.125 74.21875 28.421875 74.21875 \nQ 39.75 74.21875 46.484375 68.546875 \nQ 53.21875 62.890625 53.21875 53.421875 \nQ 53.21875 48.921875 51.53125 44.890625 \nQ 49.859375 40.875 45.40625 35.40625 \nQ 44.1875 33.984375 37.640625 27.21875 \nQ 31.109375 20.453125 19.1875 8.296875 \nz\n\" id=\"DejaVuSans-50\"/>\n     </defs>\n     <use xlink:href=\"#DejaVuSans-52\"/>\n     <use x=\"63.623047\" xlink:href=\"#DejaVuSans-46\"/>\n     <use x=\"95.410156\" xlink:href=\"#DejaVuSans-53\"/>\n     <use x=\"159.033203\" xlink:href=\"#DejaVuSans-101\"/>\n     <use x=\"220.556641\" xlink:href=\"#DejaVuSans-43\"/>\n     <use x=\"304.345703\" xlink:href=\"#DejaVuSans-48\"/>\n     <use x=\"367.96875\" xlink:href=\"#DejaVuSans-50\"/>\n    </g>\n   </g>\n   <g id=\"text_6\">\n    <!-- 14 -->\n    <g style=\"fill:#ffffff;\" transform=\"translate(218.395625 64.319375)scale(0.1 -0.1)\">\n     <use xlink:href=\"#DejaVuSans-49\"/>\n     <use x=\"63.623047\" xlink:href=\"#DejaVuSans-52\"/>\n    </g>\n   </g>\n   <g id=\"text_7\">\n    <!-- 15 -->\n    <g style=\"fill:#ffffff;\" transform=\"translate(84.475625 173.039375)scale(0.1 -0.1)\">\n     <use xlink:href=\"#DejaVuSans-49\"/>\n     <use x=\"63.623047\" xlink:href=\"#DejaVuSans-53\"/>\n    </g>\n   </g>\n   <g id=\"text_8\">\n    <!-- 4e+02 -->\n    <g style=\"fill:#262626;\" transform=\"translate(207.947969 173.039375)scale(0.1 -0.1)\">\n     <use xlink:href=\"#DejaVuSans-52\"/>\n     <use x=\"63.623047\" xlink:href=\"#DejaVuSans-101\"/>\n     <use x=\"125.146484\" xlink:href=\"#DejaVuSans-43\"/>\n     <use x=\"208.935547\" xlink:href=\"#DejaVuSans-48\"/>\n     <use x=\"272.558594\" xlink:href=\"#DejaVuSans-50\"/>\n    </g>\n   </g>\n  </g>\n  <g id=\"axes_2\">\n   <g id=\"patch_3\">\n    <path clip-path=\"url(#pd0ebaaf697)\" d=\"M 308.458125 224.64 \nL 308.458125 223.790625 \nL 308.458125 8.049375 \nL 308.458125 7.2 \nL 319.330125 7.2 \nL 319.330125 8.049375 \nL 319.330125 223.790625 \nL 319.330125 224.64 \nz\n\" style=\"fill:#ffffff;stroke:#ffffff;stroke-linejoin:miter;stroke-width:0.01;\"/>\n   </g>\n   <image height=\"217\" id=\"image63abdf2b63\" transform=\"scale(1 -1)translate(0 -217)\" width=\"11\" x=\"308\" xlink:href=\"data:image/png;base64,\niVBORw0KGgoAAAANSUhEUgAAAAsAAADZCAYAAAD2WsoCAAABX0lEQVR4nNWa2w0DMQjAeN0S3X/OXlfAH5ZovhEyhqS5qDnP543lmszcxtLgAMFdJWUurcAiGCgzsuFhHPHc6dk4MXWoQLEpNzKb7dZsaBgTaDb2y5wNrd0QY7/Mk58EjzZIzIbXbm9brUPp8HvqoA2AIarTmJGNI8wIg+1ukpkVuP48+FsbJJjY8DDmBgZrN2EehHHEhoYx7z61uAfrBgaykWExwwIBRjNmEgxEi+oSnAXTJLhIMMKAmdexMV1fKbNYIDjsGHM1sAGZAQZSJ9oYbTYQs6auwFWGYYQ3G14wuPeQxx6qjmUGN3OWGdwLJgiGx8wwwM8mzEyeLFBmGEze6zQbQZ4NPRtJbES3hIGa4nnO0QoU200yoz0IPnlVG6SDHgaywc461EFLHdzdGoZXIMrcaPhvMLN2o3nWNmzemDrRBinwxvBnP1Jmc/iJZ9Ju9C+LKwWydmtnnVXgD2R4KiPLLY7SAAAAAElFTkSuQmCC\" y=\"-7\"/>\n   <g id=\"matplotlib.axis_3\"/>\n   <g id=\"matplotlib.axis_4\">\n    <g id=\"ytick_3\">\n     <g id=\"line2d_5\">\n      <defs>\n       <path d=\"M 0 0 \nL 3.5 0 \n\" id=\"mafc09d7d7a\" style=\"stroke:#000000;stroke-width:0.8;\"/>\n      </defs>\n      <g>\n       <use style=\"stroke:#000000;stroke-width:0.8;\" x=\"319.330125\" xlink:href=\"#mafc09d7d7a\" y=\"206.603502\"/>\n      </g>\n     </g>\n     <g id=\"text_9\">\n      <!-- 50 -->\n      <g transform=\"translate(326.330125 210.402721)scale(0.1 -0.1)\">\n       <use xlink:href=\"#DejaVuSans-53\"/>\n       <use x=\"63.623047\" xlink:href=\"#DejaVuSans-48\"/>\n      </g>\n     </g>\n    </g>\n    <g id=\"ytick_4\">\n     <g id=\"line2d_6\">\n      <g>\n       <use style=\"stroke:#000000;stroke-width:0.8;\" x=\"319.330125\" xlink:href=\"#mafc09d7d7a\" y=\"181.552811\"/>\n      </g>\n     </g>\n     <g id=\"text_10\">\n      <!-- 100 -->\n      <g transform=\"translate(326.330125 185.35203)scale(0.1 -0.1)\">\n       <use xlink:href=\"#DejaVuSans-49\"/>\n       <use x=\"63.623047\" xlink:href=\"#DejaVuSans-48\"/>\n       <use x=\"127.246094\" xlink:href=\"#DejaVuSans-48\"/>\n      </g>\n     </g>\n    </g>\n    <g id=\"ytick_5\">\n     <g id=\"line2d_7\">\n      <g>\n       <use style=\"stroke:#000000;stroke-width:0.8;\" x=\"319.330125\" xlink:href=\"#mafc09d7d7a\" y=\"156.50212\"/>\n      </g>\n     </g>\n     <g id=\"text_11\">\n      <!-- 150 -->\n      <g transform=\"translate(326.330125 160.301339)scale(0.1 -0.1)\">\n       <use xlink:href=\"#DejaVuSans-49\"/>\n       <use x=\"63.623047\" xlink:href=\"#DejaVuSans-53\"/>\n       <use x=\"127.246094\" xlink:href=\"#DejaVuSans-48\"/>\n      </g>\n     </g>\n    </g>\n    <g id=\"ytick_6\">\n     <g id=\"line2d_8\">\n      <g>\n       <use style=\"stroke:#000000;stroke-width:0.8;\" x=\"319.330125\" xlink:href=\"#mafc09d7d7a\" y=\"131.451429\"/>\n      </g>\n     </g>\n     <g id=\"text_12\">\n      <!-- 200 -->\n      <g transform=\"translate(326.330125 135.250647)scale(0.1 -0.1)\">\n       <use xlink:href=\"#DejaVuSans-50\"/>\n       <use x=\"63.623047\" xlink:href=\"#DejaVuSans-48\"/>\n       <use x=\"127.246094\" xlink:href=\"#DejaVuSans-48\"/>\n      </g>\n     </g>\n    </g>\n    <g id=\"ytick_7\">\n     <g id=\"line2d_9\">\n      <g>\n       <use style=\"stroke:#000000;stroke-width:0.8;\" x=\"319.330125\" xlink:href=\"#mafc09d7d7a\" y=\"106.400737\"/>\n      </g>\n     </g>\n     <g id=\"text_13\">\n      <!-- 250 -->\n      <g transform=\"translate(326.330125 110.199956)scale(0.1 -0.1)\">\n       <use xlink:href=\"#DejaVuSans-50\"/>\n       <use x=\"63.623047\" xlink:href=\"#DejaVuSans-53\"/>\n       <use x=\"127.246094\" xlink:href=\"#DejaVuSans-48\"/>\n      </g>\n     </g>\n    </g>\n    <g id=\"ytick_8\">\n     <g id=\"line2d_10\">\n      <g>\n       <use style=\"stroke:#000000;stroke-width:0.8;\" x=\"319.330125\" xlink:href=\"#mafc09d7d7a\" y=\"81.350046\"/>\n      </g>\n     </g>\n     <g id=\"text_14\">\n      <!-- 300 -->\n      <g transform=\"translate(326.330125 85.149265)scale(0.1 -0.1)\">\n       <defs>\n        <path d=\"M 40.578125 39.3125 \nQ 47.65625 37.796875 51.625 33 \nQ 55.609375 28.21875 55.609375 21.1875 \nQ 55.609375 10.40625 48.1875 4.484375 \nQ 40.765625 -1.421875 27.09375 -1.421875 \nQ 22.515625 -1.421875 17.65625 -0.515625 \nQ 12.796875 0.390625 7.625 2.203125 \nL 7.625 11.71875 \nQ 11.71875 9.328125 16.59375 8.109375 \nQ 21.484375 6.890625 26.8125 6.890625 \nQ 36.078125 6.890625 40.9375 10.546875 \nQ 45.796875 14.203125 45.796875 21.1875 \nQ 45.796875 27.640625 41.28125 31.265625 \nQ 36.765625 34.90625 28.71875 34.90625 \nL 20.21875 34.90625 \nL 20.21875 43.015625 \nL 29.109375 43.015625 \nQ 36.375 43.015625 40.234375 45.921875 \nQ 44.09375 48.828125 44.09375 54.296875 \nQ 44.09375 59.90625 40.109375 62.90625 \nQ 36.140625 65.921875 28.71875 65.921875 \nQ 24.65625 65.921875 20.015625 65.03125 \nQ 15.375 64.15625 9.8125 62.3125 \nL 9.8125 71.09375 \nQ 15.4375 72.65625 20.34375 73.4375 \nQ 25.25 74.21875 29.59375 74.21875 \nQ 40.828125 74.21875 47.359375 69.109375 \nQ 53.90625 64.015625 53.90625 55.328125 \nQ 53.90625 49.265625 50.4375 45.09375 \nQ 46.96875 40.921875 40.578125 39.3125 \nz\n\" id=\"DejaVuSans-51\"/>\n       </defs>\n       <use xlink:href=\"#DejaVuSans-51\"/>\n       <use x=\"63.623047\" xlink:href=\"#DejaVuSans-48\"/>\n       <use x=\"127.246094\" xlink:href=\"#DejaVuSans-48\"/>\n      </g>\n     </g>\n    </g>\n    <g id=\"ytick_9\">\n     <g id=\"line2d_11\">\n      <g>\n       <use style=\"stroke:#000000;stroke-width:0.8;\" x=\"319.330125\" xlink:href=\"#mafc09d7d7a\" y=\"56.299355\"/>\n      </g>\n     </g>\n     <g id=\"text_15\">\n      <!-- 350 -->\n      <g transform=\"translate(326.330125 60.098574)scale(0.1 -0.1)\">\n       <use xlink:href=\"#DejaVuSans-51\"/>\n       <use x=\"63.623047\" xlink:href=\"#DejaVuSans-53\"/>\n       <use x=\"127.246094\" xlink:href=\"#DejaVuSans-48\"/>\n      </g>\n     </g>\n    </g>\n    <g id=\"ytick_10\">\n     <g id=\"line2d_12\">\n      <g>\n       <use style=\"stroke:#000000;stroke-width:0.8;\" x=\"319.330125\" xlink:href=\"#mafc09d7d7a\" y=\"31.248664\"/>\n      </g>\n     </g>\n     <g id=\"text_16\">\n      <!-- 400 -->\n      <g transform=\"translate(326.330125 35.047882)scale(0.1 -0.1)\">\n       <use xlink:href=\"#DejaVuSans-52\"/>\n       <use x=\"63.623047\" xlink:href=\"#DejaVuSans-48\"/>\n       <use x=\"127.246094\" xlink:href=\"#DejaVuSans-48\"/>\n      </g>\n     </g>\n    </g>\n   </g>\n   <g id=\"patch_4\">\n    <path d=\"M 308.458125 224.64 \nL 308.458125 223.790625 \nL 308.458125 8.049375 \nL 308.458125 7.2 \nL 319.330125 7.2 \nL 319.330125 8.049375 \nL 319.330125 223.790625 \nL 319.330125 224.64 \nz\n\" style=\"fill:none;\"/>\n   </g>\n  </g>\n </g>\n <defs>\n  <clipPath id=\"p8fc17c9ea6\">\n   <rect height=\"217.44\" width=\"267.84\" x=\"23.878125\" y=\"7.2\"/>\n  </clipPath>\n  <clipPath id=\"pd0ebaaf697\">\n   <rect height=\"217.44\" width=\"10.872\" x=\"308.458125\" y=\"7.2\"/>\n  </clipPath>\n </defs>\n</svg>\n",
      "image/png": "[encoded data removed]"
     },
     "metadata": {
      "needs_background": "light"
     }
    }
   ],
   "source": [
    "import seaborn as sns\n",
    "sns.heatmap(cm,annot=True)"
   ]
  },
  {
   "cell_type": "code",
   "execution_count": 18,
   "metadata": {},
   "outputs": [
    {
     "output_type": "stream",
     "name": "stdout",
     "text": [
      "              precision    recall  f1-score   support\n\n           0       0.97      0.97      0.97       462\n           1       0.97      0.96      0.97       416\n\n    accuracy                           0.97       878\n   macro avg       0.97      0.97      0.97       878\nweighted avg       0.97      0.97      0.97       878\n\n"
     ]
    }
   ],
   "source": [
    "from sklearn.metrics import classification_report\n",
    "print(classification_report(test_y,pred))"
   ]
  },
  {
   "cell_type": "code",
   "execution_count": null,
   "metadata": {},
   "outputs": [],
   "source": []
  }
 ],
 "metadata": {
  "language_info": {
   "name": "python",
   "version": "3.7.9"
  },
  "kernelspec": {
   "name": "python3",
   "display_name": "Python 3.7.9 64-bit (conda)"
  },
  "interpreter": {
   "hash": "dca0ade3e726a953b501b15e8e990130d2b7799f14cfd9f4271676035ebe5511"
  }
 },
 "nbformat": 4,
 "nbformat_minor": 5
}