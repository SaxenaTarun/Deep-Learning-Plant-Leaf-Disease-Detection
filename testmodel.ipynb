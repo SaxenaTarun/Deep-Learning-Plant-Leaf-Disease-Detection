{
 "cells": [
  {
   "cell_type": "code",
   "execution_count": 2,
   "metadata": {},
   "outputs": [
    {
     "name": "stdout",
     "output_type": "stream",
     "text": [
      "Model: \"sequential\"\n",
      "_________________________________________________________________\n",
      "Layer (type)                 Output Shape              Param #   \n",
      "=================================================================\n",
      "conv2d (Conv2D)              (None, 54, 54, 96)        34944     \n",
      "_________________________________________________________________\n",
      "max_pooling2d (MaxPooling2D) (None, 27, 27, 96)        0         \n",
      "_________________________________________________________________\n",
      "batch_normalization (BatchNo (None, 27, 27, 96)        384       \n",
      "_________________________________________________________________\n",
      "conv2d_1 (Conv2D)            (None, 17, 17, 256)       2973952   \n",
      "_________________________________________________________________\n",
      "max_pooling2d_1 (MaxPooling2 (None, 8, 8, 256)         0         \n",
      "_________________________________________________________________\n",
      "batch_normalization_1 (Batch (None, 8, 8, 256)         1024      \n",
      "_________________________________________________________________\n",
      "conv2d_2 (Conv2D)            (None, 6, 6, 384)         885120    \n",
      "_________________________________________________________________\n",
      "batch_normalization_2 (Batch (None, 6, 6, 384)         1536      \n",
      "_________________________________________________________________\n",
      "conv2d_3 (Conv2D)            (None, 4, 4, 384)         1327488   \n",
      "_________________________________________________________________\n",
      "batch_normalization_3 (Batch (None, 4, 4, 384)         1536      \n",
      "_________________________________________________________________\n",
      "conv2d_4 (Conv2D)            (None, 2, 2, 256)         884992    \n",
      "_________________________________________________________________\n",
      "max_pooling2d_2 (MaxPooling2 (None, 1, 1, 256)         0         \n",
      "_________________________________________________________________\n",
      "batch_normalization_4 (Batch (None, 1, 1, 256)         1024      \n",
      "_________________________________________________________________\n",
      "flatten (Flatten)            (None, 256)               0         \n",
      "_________________________________________________________________\n",
      "dense (Dense)                (None, 4096)              1052672   \n",
      "_________________________________________________________________\n",
      "dropout (Dropout)            (None, 4096)              0         \n",
      "_________________________________________________________________\n",
      "batch_normalization_5 (Batch (None, 4096)              16384     \n",
      "_________________________________________________________________\n",
      "dense_1 (Dense)              (None, 4096)              16781312  \n",
      "_________________________________________________________________\n",
      "dropout_1 (Dropout)          (None, 4096)              0         \n",
      "_________________________________________________________________\n",
      "batch_normalization_6 (Batch (None, 4096)              16384     \n",
      "_________________________________________________________________\n",
      "dense_2 (Dense)              (None, 1000)              4097000   \n",
      "_________________________________________________________________\n",
      "dropout_2 (Dropout)          (None, 1000)              0         \n",
      "_________________________________________________________________\n",
      "batch_normalization_7 (Batch (None, 1000)              4000      \n",
      "_________________________________________________________________\n",
      "dense_3 (Dense)              (None, 38)                38038     \n",
      "=================================================================\n",
      "Total params: 28,117,790\n",
      "Trainable params: 28,096,654\n",
      "Non-trainable params: 21,136\n",
      "_________________________________________________________________\n"
     ]
    }
   ],
   "source": [
    "# Importing Keras libraries and packages\n",
    "from keras.models import Sequential\n",
    "from keras.layers import Convolution2D\n",
    "from keras.layers import MaxPooling2D\n",
    "from keras.layers import Flatten\n",
    "from keras.layers import Dense\n",
    "from keras.layers import Dropout\n",
    "from keras.layers.normalization import BatchNormalization\n",
    "\n",
    "# Initializing the CNN\n",
    "classifier = Sequential()\n",
    "\n",
    "# Convolution Step 1\n",
    "classifier.add(Convolution2D(96, 11, strides = (4, 4), padding = 'valid', input_shape=(224, 224, 3), activation = 'relu'))\n",
    "\n",
    "# Max Pooling Step 1\n",
    "classifier.add(MaxPooling2D(pool_size = (2, 2), strides = (2, 2), padding = 'valid'))\n",
    "classifier.add(BatchNormalization())\n",
    "\n",
    "# Convolution Step 2\n",
    "classifier.add(Convolution2D(256, 11, strides = (1, 1), padding='valid', activation = 'relu'))\n",
    "\n",
    "# Max Pooling Step 2\n",
    "classifier.add(MaxPooling2D(pool_size = (2, 2), strides = (2, 2), padding='valid'))\n",
    "classifier.add(BatchNormalization())\n",
    "\n",
    "# Convolution Step 3\n",
    "classifier.add(Convolution2D(384, 3, strides = (1, 1), padding='valid', activation = 'relu'))\n",
    "classifier.add(BatchNormalization())\n",
    "\n",
    "# Convolution Step 4\n",
    "classifier.add(Convolution2D(384, 3, strides = (1, 1), padding='valid', activation = 'relu'))\n",
    "classifier.add(BatchNormalization())\n",
    "\n",
    "# Convolution Step 5\n",
    "classifier.add(Convolution2D(256, 3, strides=(1,1), padding='valid', activation = 'relu'))\n",
    "\n",
    "# Max Pooling Step 3\n",
    "classifier.add(MaxPooling2D(pool_size = (2, 2), strides = (2, 2), padding = 'valid'))\n",
    "classifier.add(BatchNormalization())\n",
    "\n",
    "# Flattening Step\n",
    "classifier.add(Flatten())\n",
    "\n",
    "# Full Connection Step\n",
    "classifier.add(Dense(units = 4096, activation = 'relu'))\n",
    "classifier.add(Dropout(0.4))\n",
    "classifier.add(BatchNormalization())\n",
    "classifier.add(Dense(units = 4096, activation = 'relu'))\n",
    "classifier.add(Dropout(0.4))\n",
    "classifier.add(BatchNormalization())\n",
    "classifier.add(Dense(units = 1000, activation = 'relu'))\n",
    "classifier.add(Dropout(0.2))\n",
    "classifier.add(BatchNormalization())\n",
    "classifier.add(Dense(units = 38, activation = 'softmax'))\n",
    "classifier.summary()"
   ]
  },
  {
   "cell_type": "code",
   "execution_count": 3,
   "metadata": {},
   "outputs": [],
   "source": [
    "classifier.load_weights('D:/IIITNinternship/PlantLeafDiseaseDetection/best_weights_9.hdf5')"
   ]
  },
  {
   "cell_type": "code",
   "execution_count": 4,
   "metadata": {},
   "outputs": [
    {
     "name": "stdout",
     "output_type": "stream",
     "text": [
      "0 conv2d\n",
      "1 max_pooling2d\n",
      "2 batch_normalization\n",
      "3 conv2d_1\n",
      "4 max_pooling2d_1\n",
      "5 batch_normalization_1\n",
      "6 conv2d_2\n",
      "7 batch_normalization_2\n",
      "8 conv2d_3\n",
      "9 batch_normalization_3\n",
      "10 conv2d_4\n",
      "11 max_pooling2d_2\n",
      "12 batch_normalization_4\n",
      "13 flatten\n",
      "14 dense\n",
      "15 dropout\n",
      "16 batch_normalization_5\n",
      "17 dense_1\n",
      "18 dropout_1\n",
      "19 batch_normalization_6\n",
      "20 dense_2\n",
      "21 dropout_2\n",
      "22 batch_normalization_7\n",
      "23 dense_3\n"
     ]
    }
   ],
   "source": [
    "#Freeze Layers\n",
    "from keras import layers\n",
    "for i, layer in enumerate(classifier.layers):\n",
    "   print(i, layer.name)"
   ]
  },
  {
   "cell_type": "code",
   "execution_count": 5,
   "metadata": {},
   "outputs": [
    {
     "name": "stdout",
     "output_type": "stream",
     "text": [
      "Freezed layers:\n",
      "0 conv2d\n",
      "1 max_pooling2d\n",
      "2 batch_normalization\n",
      "3 conv2d_1\n",
      "4 max_pooling2d_1\n",
      "5 batch_normalization_1\n",
      "6 conv2d_2\n",
      "7 batch_normalization_2\n",
      "8 conv2d_3\n",
      "9 batch_normalization_3\n",
      "10 conv2d_4\n",
      "11 max_pooling2d_2\n",
      "12 batch_normalization_4\n",
      "13 flatten\n",
      "14 dense\n",
      "15 dropout\n",
      "16 batch_normalization_5\n",
      "17 dense_1\n",
      "18 dropout_1\n",
      "19 batch_normalization_6\n"
     ]
    }
   ],
   "source": [
    "# we chose to train the top 2 conv blocks, i.e. we will freeze\n",
    "# the first 8 layers and unfreeze the rest:\n",
    "print(\"Freezed layers:\")\n",
    "for i, layer in enumerate(classifier.layers[:20]):\n",
    "    print(i, layer.name)\n",
    "    layer.trainable = False"
   ]
  },
  {
   "cell_type": "code",
   "execution_count": 6,
   "metadata": {},
   "outputs": [
    {
     "name": "stdout",
     "output_type": "stream",
     "text": [
      "Model: \"sequential\"\n",
      "_________________________________________________________________\n",
      "Layer (type)                 Output Shape              Param #   \n",
      "=================================================================\n",
      "conv2d (Conv2D)              (None, 54, 54, 96)        34944     \n",
      "_________________________________________________________________\n",
      "max_pooling2d (MaxPooling2D) (None, 27, 27, 96)        0         \n",
      "_________________________________________________________________\n",
      "batch_normalization (BatchNo (None, 27, 27, 96)        384       \n",
      "_________________________________________________________________\n",
      "conv2d_1 (Conv2D)            (None, 17, 17, 256)       2973952   \n",
      "_________________________________________________________________\n",
      "max_pooling2d_1 (MaxPooling2 (None, 8, 8, 256)         0         \n",
      "_________________________________________________________________\n",
      "batch_normalization_1 (Batch (None, 8, 8, 256)         1024      \n",
      "_________________________________________________________________\n",
      "conv2d_2 (Conv2D)            (None, 6, 6, 384)         885120    \n",
      "_________________________________________________________________\n",
      "batch_normalization_2 (Batch (None, 6, 6, 384)         1536      \n",
      "_________________________________________________________________\n",
      "conv2d_3 (Conv2D)            (None, 4, 4, 384)         1327488   \n",
      "_________________________________________________________________\n",
      "batch_normalization_3 (Batch (None, 4, 4, 384)         1536      \n",
      "_________________________________________________________________\n",
      "conv2d_4 (Conv2D)            (None, 2, 2, 256)         884992    \n",
      "_________________________________________________________________\n",
      "max_pooling2d_2 (MaxPooling2 (None, 1, 1, 256)         0         \n",
      "_________________________________________________________________\n",
      "batch_normalization_4 (Batch (None, 1, 1, 256)         1024      \n",
      "_________________________________________________________________\n",
      "flatten (Flatten)            (None, 256)               0         \n",
      "_________________________________________________________________\n",
      "dense (Dense)                (None, 4096)              1052672   \n",
      "_________________________________________________________________\n",
      "dropout (Dropout)            (None, 4096)              0         \n",
      "_________________________________________________________________\n",
      "batch_normalization_5 (Batch (None, 4096)              16384     \n",
      "_________________________________________________________________\n",
      "dense_1 (Dense)              (None, 4096)              16781312  \n",
      "_________________________________________________________________\n",
      "dropout_1 (Dropout)          (None, 4096)              0         \n",
      "_________________________________________________________________\n",
      "batch_normalization_6 (Batch (None, 4096)              16384     \n",
      "_________________________________________________________________\n",
      "dense_2 (Dense)              (None, 1000)              4097000   \n",
      "_________________________________________________________________\n",
      "dropout_2 (Dropout)          (None, 1000)              0         \n",
      "_________________________________________________________________\n",
      "batch_normalization_7 (Batch (None, 1000)              4000      \n",
      "_________________________________________________________________\n",
      "dense_3 (Dense)              (None, 38)                38038     \n",
      "=================================================================\n",
      "Total params: 28,117,790\n",
      "Trainable params: 4,137,038\n",
      "Non-trainable params: 23,980,752\n",
      "_________________________________________________________________\n"
     ]
    }
   ],
   "source": [
    "classifier.summary()"
   ]
  },
  {
   "cell_type": "code",
   "execution_count": 7,
   "metadata": {},
   "outputs": [],
   "source": [
    "from keras import optimizers\n",
    "classifier.compile(optimizer=optimizers.SGD(lr=0.001, momentum=0.9, decay=0.005),\n",
    "              loss='categorical_crossentropy',\n",
    "              metrics=['accuracy'])"
   ]
  },
  {
   "cell_type": "code",
   "execution_count": 8,
   "metadata": {},
   "outputs": [
    {
     "name": "stdout",
     "output_type": "stream",
     "text": [
      "Found 8813 images belonging to 38 classes.\n"
     ]
    }
   ],
   "source": [
    "from keras.preprocessing.image import ImageDataGenerator\n",
    "\n",
    "test_datagen = ImageDataGenerator(rescale=1./255,\n",
    "                                   shear_range=0.2,\n",
    "                                   zoom_range=0.2,\n",
    "                                   width_shift_range=0.2,\n",
    "                                   height_shift_range=0.2,\n",
    "                                   fill_mode='nearest')\n",
    "\n",
    "\n",
    "\n",
    "batch_size = 128\n",
    "base_dir = \"D:/IIITNinternship/PlantDataset\"\n",
    "\n",
    "test_set = test_datagen.flow_from_directory(base_dir+'/test',\n",
    "                                                 target_size=(224, 224),\n",
    "                                                 batch_size=batch_size,\n",
    "                                                 class_mode='categorical')"
   ]
  },
  {
   "cell_type": "code",
   "execution_count": 9,
   "metadata": {},
   "outputs": [
    {
     "name": "stdout",
     "output_type": "stream",
     "text": [
      "{'Apple___Apple_scab': 0, 'Apple___Black_rot': 1, 'Apple___Cedar_apple_rust': 2, 'Apple___healthy': 3, 'Blueberry___healthy': 4, 'Cherry_(including_sour)___Powdery_mildew': 5, 'Cherry_(including_sour)___healthy': 6, 'Corn_(maize)___Cercospora_leaf_spot Gray_leaf_spot': 7, 'Corn_(maize)___Common_rust_': 8, 'Corn_(maize)___Northern_Leaf_Blight': 9, 'Corn_(maize)___healthy': 10, 'Grape___Black_rot': 11, 'Grape___Esca_(Black_Measles)': 12, 'Grape___Leaf_blight_(Isariopsis_Leaf_Spot)': 13, 'Grape___healthy': 14, 'Orange___Haunglongbing_(Citrus_greening)': 15, 'Peach___Bacterial_spot': 16, 'Peach___healthy': 17, 'Pepper,_bell___Bacterial_spot': 18, 'Pepper,_bell___healthy': 19, 'Potato___Early_blight': 20, 'Potato___Late_blight': 21, 'Potato___healthy': 22, 'Raspberry___healthy': 23, 'Soybean___healthy': 24, 'Squash___Powdery_mildew': 25, 'Strawberry___Leaf_scorch': 26, 'Strawberry___healthy': 27, 'Tomato___Bacterial_spot': 28, 'Tomato___Early_blight': 29, 'Tomato___Late_blight': 30, 'Tomato___Leaf_Mold': 31, 'Tomato___Septoria_leaf_spot': 32, 'Tomato___Spider_mites Two-spotted_spider_mite': 33, 'Tomato___Target_Spot': 34, 'Tomato___Tomato_Yellow_Leaf_Curl_Virus': 35, 'Tomato___Tomato_mosaic_virus': 36, 'Tomato___healthy': 37}\n"
     ]
    }
   ],
   "source": [
    "class_dict = test_set.class_indices\n",
    "print(class_dict)\n",
    "test_num = test_set.samples"
   ]
  },
  {
   "cell_type": "code",
   "execution_count": 10,
   "metadata": {},
   "outputs": [
    {
     "name": "stdout",
     "output_type": "stream",
     "text": [
      "Epoch 1/25\n",
      "68/68 [==============================] - ETA: 0s - loss: 0.1436 - accuracy: 0.9547WARNING:tensorflow:Can save best model only with test_acc available, skipping.\n",
      "68/68 [==============================] - 191s 3s/step - loss: 0.1436 - accuracy: 0.9547\n",
      "Epoch 2/25\n",
      "68/68 [==============================] - ETA: 0s - loss: 0.1316 - accuracy: 0.9529WARNING:tensorflow:Can save best model only with test_acc available, skipping.\n",
      "68/68 [==============================] - 156s 2s/step - loss: 0.1316 - accuracy: 0.9529\n",
      "Epoch 3/25\n",
      "68/68 [==============================] - ETA: 0s - loss: 0.1253 - accuracy: 0.9596WARNING:tensorflow:Can save best model only with test_acc available, skipping.\n",
      "68/68 [==============================] - 169s 2s/step - loss: 0.1253 - accuracy: 0.9596\n",
      "Epoch 4/25\n",
      "68/68 [==============================] - ETA: 0s - loss: 0.1338 - accuracy: 0.9558WARNING:tensorflow:Can save best model only with test_acc available, skipping.\n",
      "68/68 [==============================] - 155s 2s/step - loss: 0.1338 - accuracy: 0.9558\n",
      "Epoch 5/25\n",
      "68/68 [==============================] - ETA: 0s - loss: 0.1261 - accuracy: 0.9587WARNING:tensorflow:Can save best model only with test_acc available, skipping.\n",
      "68/68 [==============================] - 162s 2s/step - loss: 0.1261 - accuracy: 0.9587\n",
      "Epoch 6/25\n",
      "68/68 [==============================] - ETA: 0s - loss: 0.1250 - accuracy: 0.9589WARNING:tensorflow:Can save best model only with test_acc available, skipping.\n",
      "68/68 [==============================] - 243s 4s/step - loss: 0.1250 - accuracy: 0.9589\n",
      "Epoch 7/25\n",
      "68/68 [==============================] - ETA: 0s - loss: 0.1275 - accuracy: 0.9577WARNING:tensorflow:Can save best model only with test_acc available, skipping.\n",
      "68/68 [==============================] - 180s 3s/step - loss: 0.1275 - accuracy: 0.9577\n",
      "Epoch 8/25\n",
      "68/68 [==============================] - ETA: 0s - loss: 0.1230 - accuracy: 0.9592WARNING:tensorflow:Can save best model only with test_acc available, skipping.\n",
      "68/68 [==============================] - 168s 2s/step - loss: 0.1230 - accuracy: 0.9592\n",
      "Epoch 9/25\n",
      "68/68 [==============================] - ETA: 0s - loss: 0.1266 - accuracy: 0.9580WARNING:tensorflow:Can save best model only with test_acc available, skipping.\n",
      "68/68 [==============================] - 158s 2s/step - loss: 0.1266 - accuracy: 0.9580\n",
      "Epoch 10/25\n",
      "68/68 [==============================] - ETA: 0s - loss: 0.1312 - accuracy: 0.9554WARNING:tensorflow:Can save best model only with test_acc available, skipping.\n",
      "68/68 [==============================] - 310s 5s/step - loss: 0.1312 - accuracy: 0.9554\n",
      "Epoch 11/25\n",
      "68/68 [==============================] - ETA: 0s - loss: 0.1200 - accuracy: 0.9589WARNING:tensorflow:Can save best model only with test_acc available, skipping.\n",
      "68/68 [==============================] - 285s 4s/step - loss: 0.1200 - accuracy: 0.9589\n",
      "Epoch 12/25\n",
      "68/68 [==============================] - ETA: 0s - loss: 0.1264 - accuracy: 0.9577WARNING:tensorflow:Can save best model only with test_acc available, skipping.\n",
      "68/68 [==============================] - 366s 5s/step - loss: 0.1264 - accuracy: 0.9577\n",
      "Epoch 13/25\n",
      "68/68 [==============================] - ETA: 0s - loss: 0.1236 - accuracy: 0.9598WARNING:tensorflow:Can save best model only with test_acc available, skipping.\n",
      "68/68 [==============================] - 313s 5s/step - loss: 0.1236 - accuracy: 0.9598\n",
      "Epoch 14/25\n",
      "68/68 [==============================] - ETA: 0s - loss: 0.1202 - accuracy: 0.9598WARNING:tensorflow:Can save best model only with test_acc available, skipping.\n",
      "68/68 [==============================] - 321s 5s/step - loss: 0.1202 - accuracy: 0.9598\n",
      "Epoch 15/25\n",
      "68/68 [==============================] - ETA: 0s - loss: 0.1146 - accuracy: 0.9636WARNING:tensorflow:Can save best model only with test_acc available, skipping.\n",
      "68/68 [==============================] - 334s 5s/step - loss: 0.1146 - accuracy: 0.9636\n",
      "Epoch 16/25\n",
      "68/68 [==============================] - ETA: 0s - loss: 0.1223 - accuracy: 0.9602WARNING:tensorflow:Can save best model only with test_acc available, skipping.\n",
      "68/68 [==============================] - 320s 5s/step - loss: 0.1223 - accuracy: 0.9602\n",
      "Epoch 17/25\n",
      "68/68 [==============================] - ETA: 0s - loss: 0.1276 - accuracy: 0.9575WARNING:tensorflow:Can save best model only with test_acc available, skipping.\n",
      "68/68 [==============================] - 340s 5s/step - loss: 0.1276 - accuracy: 0.9575\n",
      "Epoch 18/25\n",
      "68/68 [==============================] - ETA: 0s - loss: 0.1211 - accuracy: 0.9594WARNING:tensorflow:Can save best model only with test_acc available, skipping.\n",
      "68/68 [==============================] - 596s 9s/step - loss: 0.1211 - accuracy: 0.9594\n",
      "Epoch 19/25\n",
      "68/68 [==============================] - ETA: 0s - loss: 0.1160 - accuracy: 0.9620WARNING:tensorflow:Can save best model only with test_acc available, skipping.\n",
      "68/68 [==============================] - 628s 9s/step - loss: 0.1160 - accuracy: 0.9620\n",
      "Epoch 20/25\n",
      "68/68 [==============================] - ETA: 0s - loss: 0.1171 - accuracy: 0.9617WARNING:tensorflow:Can save best model only with test_acc available, skipping.\n",
      "68/68 [==============================] - 594s 9s/step - loss: 0.1171 - accuracy: 0.9617\n",
      "Epoch 21/25\n",
      "68/68 [==============================] - ETA: 0s - loss: 0.1234 - accuracy: 0.9607WARNING:tensorflow:Can save best model only with test_acc available, skipping.\n",
      "68/68 [==============================] - 581s 9s/step - loss: 0.1234 - accuracy: 0.9607\n",
      "Epoch 22/25\n",
      "68/68 [==============================] - ETA: 0s - loss: 0.1202 - accuracy: 0.9618WARNING:tensorflow:Can save best model only with test_acc available, skipping.\n",
      "68/68 [==============================] - 568s 8s/step - loss: 0.1202 - accuracy: 0.9618\n",
      "Epoch 23/25\n",
      "68/68 [==============================] - ETA: 0s - loss: 0.1283 - accuracy: 0.9596WARNING:tensorflow:Can save best model only with test_acc available, skipping.\n",
      "68/68 [==============================] - 585s 9s/step - loss: 0.1283 - accuracy: 0.9596\n",
      "Epoch 24/25\n",
      "68/68 [==============================] - ETA: 0s - loss: 0.1212 - accuracy: 0.9595WARNING:tensorflow:Can save best model only with test_acc available, skipping.\n",
      "68/68 [==============================] - 582s 9s/step - loss: 0.1212 - accuracy: 0.9595\n",
      "Epoch 25/25\n",
      "68/68 [==============================] - ETA: 0s - loss: 0.1271 - accuracy: 0.9590WARNING:tensorflow:Can save best model only with test_acc available, skipping.\n",
      "68/68 [==============================] - 586s 9s/step - loss: 0.1271 - accuracy: 0.9590\n"
     ]
    }
   ],
   "source": [
    "from keras.callbacks import ModelCheckpoint\n",
    "weightpath = \"best_weights_9.hdf5\"\n",
    "checkpoint = ModelCheckpoint(weightpath, monitor='test_acc', verbose=1, save_best_only=True, save_weights_only=True, mode='max')\n",
    "callbacks_list = [checkpoint]\n",
    "\n",
    "#fitting images to CNN\n",
    "history = classifier.fit(test_set,\n",
    "                         steps_per_epoch=test_num//batch_size,\n",
    "                         epochs=25,\n",
    "                         callbacks=callbacks_list)\n",
    "#saving model\n",
    "filepath=\"AlexNetModel.hdf5\"\n",
    "classifier.save(filepath)"
   ]
  },
  {
   "cell_type": "code",
   "execution_count": 11,
   "metadata": {},
   "outputs": [
    {
     "data": {
      "image/png": "[encoded data removed]",
      "text/plain": [
       "<Figure size 432x288 with 1 Axes>"
      ]
     },
     "metadata": {},
     "output_type": "display_data"
    },
    {
     "data": {
      "text/plain": [
       "<Figure size 432x288 with 0 Axes>"
      ]
     },
     "metadata": {},
     "output_type": "display_data"
    }
   ],
   "source": [
    "import matplotlib.pyplot as plt\n",
    "import seaborn as sns\n",
    "sns.set()\n",
    "\n",
    "acc = history.history['accuracy']\n",
    "loss = history.history['loss']\n",
    "epochs = range(1, len(loss) + 1)\n",
    "\n",
    "#accuracy plot\n",
    "plt.plot(epochs, acc, color='orange', label='Test Accuracy')\n",
    "plt.plot(epochs, loss, color='black', label='Test Loss')\n",
    "plt.title('Test Accuracy and Loss')\n",
    "plt.ylabel('Accuracy')\n",
    "plt.xlabel('Epoch')\n",
    "plt.legend()\n",
    "\n",
    "plt.figure()\n",
    "\n",
    "plt.show()"
   ]
  },
  {
   "cell_type": "code",
   "execution_count": null,
   "metadata": {},
   "outputs": [],
   "source": []
  }
 ],
 "metadata": {
  "kernelspec": {
   "display_name": "Python 3",
   "language": "python",
   "name": "python3"
  },
  "language_info": {
   "codemirror_mode": {
    "name": "ipython",
    "version": 3
   },
   "file_extension": ".py",
   "mimetype": "text/x-python",
   "name": "python",
   "nbconvert_exporter": "python",
   "pygments_lexer": "ipython3",
   "version": "3.8.3"
  }
 },
 "nbformat": 4,
 "nbformat_minor": 4
}
